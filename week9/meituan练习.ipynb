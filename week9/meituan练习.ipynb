{
 "cells": [
  {
   "cell_type": "code",
   "execution_count": 1,
   "metadata": {},
   "outputs": [],
   "source": [
    "import pandas as pd\n",
    "import matplotlib as plt\n",
    "import seaborn as sns\n",
    "%matplotlib inline"
   ]
  },
  {
   "cell_type": "code",
   "execution_count": 2,
   "metadata": {},
   "outputs": [],
   "source": [
    "mt=pd.read_csv(\"meituan_test.csv\")"
   ]
  },
  {
   "cell_type": "code",
   "execution_count": 3,
   "metadata": {},
   "outputs": [
    {
     "name": "stdout",
     "output_type": "stream",
     "text": [
      "<class 'pandas.core.frame.DataFrame'>\n",
      "RangeIndex: 1680 entries, 0 to 1679\n",
      "Data columns (total 8 columns):\n",
      " #   Column                 Non-Null Count  Dtype  \n",
      "---  ------                 --------------  -----  \n",
      " 0   web-scraper-order      1680 non-null   object \n",
      " 1   web-scraper-start-url  1680 non-null   object \n",
      " 2   name                   1680 non-null   object \n",
      " 3   address                1680 non-null   object \n",
      " 4   rating                 1663 non-null   float64\n",
      " 5   comment                1524 non-null   float64\n",
      " 6   price                  1667 non-null   float64\n",
      " 7   cat                    1680 non-null   object \n",
      "dtypes: float64(3), object(5)\n",
      "memory usage: 105.1+ KB\n"
     ]
    }
   ],
   "source": [
    "mt.info()"
   ]
  },
  {
   "cell_type": "code",
   "execution_count": 4,
   "metadata": {},
   "outputs": [
    {
     "data": {
      "text/html": [
       "<div>\n",
       "<style scoped>\n",
       "    .dataframe tbody tr th:only-of-type {\n",
       "        vertical-align: middle;\n",
       "    }\n",
       "\n",
       "    .dataframe tbody tr th {\n",
       "        vertical-align: top;\n",
       "    }\n",
       "\n",
       "    .dataframe thead th {\n",
       "        text-align: right;\n",
       "    }\n",
       "</style>\n",
       "<table border=\"1\" class=\"dataframe\">\n",
       "  <thead>\n",
       "    <tr style=\"text-align: right;\">\n",
       "      <th></th>\n",
       "      <th>web-scraper-order</th>\n",
       "      <th>web-scraper-start-url</th>\n",
       "      <th>name</th>\n",
       "      <th>address</th>\n",
       "      <th>rating</th>\n",
       "      <th>comment</th>\n",
       "      <th>price</th>\n",
       "      <th>cat</th>\n",
       "    </tr>\n",
       "  </thead>\n",
       "  <tbody>\n",
       "    <tr>\n",
       "      <th>0</th>\n",
       "      <td>1563028765-1694</td>\n",
       "      <td>http://sh.meituan.com/meishi/c35/pn8/</td>\n",
       "      <td>斯比特花园意大利餐厅（新世界大丸百货店）</td>\n",
       "      <td>黄浦区南京东路228号新世界大丸百货6层人均</td>\n",
       "      <td>4.2</td>\n",
       "      <td>2169.0</td>\n",
       "      <td>98.0</td>\n",
       "      <td>foreign</td>\n",
       "    </tr>\n",
       "    <tr>\n",
       "      <th>1</th>\n",
       "      <td>1563028775-1753</td>\n",
       "      <td>http://sh.meituan.com/meishi/c35/pn3/</td>\n",
       "      <td>好伦哥自助餐厅（南京东路店）</td>\n",
       "      <td>黄浦区南京东路600号亚太广场6楼1室人均</td>\n",
       "      <td>3.0</td>\n",
       "      <td>6005.0</td>\n",
       "      <td>73.0</td>\n",
       "      <td>foreign</td>\n",
       "    </tr>\n",
       "    <tr>\n",
       "      <th>2</th>\n",
       "      <td>1563028769-1720</td>\n",
       "      <td>http://sh.meituan.com/meishi/c35/pn6/</td>\n",
       "      <td>蘭赫咖啡（周浦店）</td>\n",
       "      <td>浦东新区年家浜路327号三楼（全季酒店三楼）人均</td>\n",
       "      <td>4.2</td>\n",
       "      <td>326.0</td>\n",
       "      <td>55.0</td>\n",
       "      <td>foreign</td>\n",
       "    </tr>\n",
       "    <tr>\n",
       "      <th>3</th>\n",
       "      <td>1563028721-1396</td>\n",
       "      <td>http://sh.meituan.com/meishi/c35/pn29/</td>\n",
       "      <td>地中海的月亮（虹桥·食尚天地店）</td>\n",
       "      <td>青浦区沪青平公路1899号虹桥·食尚天地1栋1层106-3人均</td>\n",
       "      <td>3.5</td>\n",
       "      <td>NaN</td>\n",
       "      <td>107.0</td>\n",
       "      <td>foreign</td>\n",
       "    </tr>\n",
       "    <tr>\n",
       "      <th>4</th>\n",
       "      <td>1563028767-1705</td>\n",
       "      <td>http://sh.meituan.com/meishi/c35/pn7/</td>\n",
       "      <td>拉蒂娜巴西烤肉自助餐Latina（长泰店）</td>\n",
       "      <td>浦东新区祖冲之路1239弄长泰广场1E09东庭院（地铁2号线4号出口左侧50米，星巴克后面）人均</td>\n",
       "      <td>3.4</td>\n",
       "      <td>657.0</td>\n",
       "      <td>148.0</td>\n",
       "      <td>foreign</td>\n",
       "    </tr>\n",
       "  </tbody>\n",
       "</table>\n",
       "</div>"
      ],
      "text/plain": [
       "  web-scraper-order                   web-scraper-start-url  \\\n",
       "0   1563028765-1694   http://sh.meituan.com/meishi/c35/pn8/   \n",
       "1   1563028775-1753   http://sh.meituan.com/meishi/c35/pn3/   \n",
       "2   1563028769-1720   http://sh.meituan.com/meishi/c35/pn6/   \n",
       "3   1563028721-1396  http://sh.meituan.com/meishi/c35/pn29/   \n",
       "4   1563028767-1705   http://sh.meituan.com/meishi/c35/pn7/   \n",
       "\n",
       "                    name                                           address  \\\n",
       "0   斯比特花园意大利餐厅（新世界大丸百货店）                            黄浦区南京东路228号新世界大丸百货6层人均   \n",
       "1         好伦哥自助餐厅（南京东路店）                             黄浦区南京东路600号亚太广场6楼1室人均   \n",
       "2              蘭赫咖啡（周浦店）                          浦东新区年家浜路327号三楼（全季酒店三楼）人均   \n",
       "3       地中海的月亮（虹桥·食尚天地店）                   青浦区沪青平公路1899号虹桥·食尚天地1栋1层106-3人均   \n",
       "4  拉蒂娜巴西烤肉自助餐Latina（长泰店）  浦东新区祖冲之路1239弄长泰广场1E09东庭院（地铁2号线4号出口左侧50米，星巴克后面）人均   \n",
       "\n",
       "   rating  comment  price      cat  \n",
       "0     4.2   2169.0   98.0  foreign  \n",
       "1     3.0   6005.0   73.0  foreign  \n",
       "2     4.2    326.0   55.0  foreign  \n",
       "3     3.5      NaN  107.0  foreign  \n",
       "4     3.4    657.0  148.0  foreign  "
      ]
     },
     "execution_count": 4,
     "metadata": {},
     "output_type": "execute_result"
    }
   ],
   "source": [
    "mt.head()"
   ]
  },
  {
   "cell_type": "markdown",
   "metadata": {},
   "source": [
    "# 缺失值处理"
   ]
  },
  {
   "cell_type": "code",
   "execution_count": 5,
   "metadata": {},
   "outputs": [],
   "source": [
    "#drop掉\n",
    "mt=mt.dropna(subset=[\"price\"])"
   ]
  },
  {
   "cell_type": "code",
   "execution_count": 6,
   "metadata": {},
   "outputs": [],
   "source": [
    "#默认填充\n",
    "mt[\"rating\"]=mt[\"rating\"].fillna(3)"
   ]
  },
  {
   "cell_type": "code",
   "execution_count": 7,
   "metadata": {},
   "outputs": [],
   "source": [
    "mt[\"comment\"]=mt[\"comment\"].fillna(0)"
   ]
  },
  {
   "cell_type": "code",
   "execution_count": 8,
   "metadata": {},
   "outputs": [
    {
     "data": {
      "text/html": [
       "<div>\n",
       "<style scoped>\n",
       "    .dataframe tbody tr th:only-of-type {\n",
       "        vertical-align: middle;\n",
       "    }\n",
       "\n",
       "    .dataframe tbody tr th {\n",
       "        vertical-align: top;\n",
       "    }\n",
       "\n",
       "    .dataframe thead th {\n",
       "        text-align: right;\n",
       "    }\n",
       "</style>\n",
       "<table border=\"1\" class=\"dataframe\">\n",
       "  <thead>\n",
       "    <tr style=\"text-align: right;\">\n",
       "      <th></th>\n",
       "      <th>rating</th>\n",
       "      <th>comment</th>\n",
       "      <th>price</th>\n",
       "    </tr>\n",
       "  </thead>\n",
       "  <tbody>\n",
       "    <tr>\n",
       "      <th>count</th>\n",
       "      <td>1667.000000</td>\n",
       "      <td>1667.000000</td>\n",
       "      <td>1667.000000</td>\n",
       "    </tr>\n",
       "    <tr>\n",
       "      <th>mean</th>\n",
       "      <td>4.204079</td>\n",
       "      <td>512.169166</td>\n",
       "      <td>109.988002</td>\n",
       "    </tr>\n",
       "    <tr>\n",
       "      <th>std</th>\n",
       "      <td>0.520557</td>\n",
       "      <td>1415.567751</td>\n",
       "      <td>93.524620</td>\n",
       "    </tr>\n",
       "    <tr>\n",
       "      <th>min</th>\n",
       "      <td>3.000000</td>\n",
       "      <td>0.000000</td>\n",
       "      <td>9.000000</td>\n",
       "    </tr>\n",
       "    <tr>\n",
       "      <th>25%</th>\n",
       "      <td>3.900000</td>\n",
       "      <td>6.000000</td>\n",
       "      <td>60.000000</td>\n",
       "    </tr>\n",
       "    <tr>\n",
       "      <th>50%</th>\n",
       "      <td>4.100000</td>\n",
       "      <td>49.000000</td>\n",
       "      <td>89.000000</td>\n",
       "    </tr>\n",
       "    <tr>\n",
       "      <th>75%</th>\n",
       "      <td>4.500000</td>\n",
       "      <td>369.500000</td>\n",
       "      <td>123.000000</td>\n",
       "    </tr>\n",
       "    <tr>\n",
       "      <th>max</th>\n",
       "      <td>5.000000</td>\n",
       "      <td>24585.000000</td>\n",
       "      <td>1670.000000</td>\n",
       "    </tr>\n",
       "  </tbody>\n",
       "</table>\n",
       "</div>"
      ],
      "text/plain": [
       "            rating       comment        price\n",
       "count  1667.000000   1667.000000  1667.000000\n",
       "mean      4.204079    512.169166   109.988002\n",
       "std       0.520557   1415.567751    93.524620\n",
       "min       3.000000      0.000000     9.000000\n",
       "25%       3.900000      6.000000    60.000000\n",
       "50%       4.100000     49.000000    89.000000\n",
       "75%       4.500000    369.500000   123.000000\n",
       "max       5.000000  24585.000000  1670.000000"
      ]
     },
     "execution_count": 8,
     "metadata": {},
     "output_type": "execute_result"
    }
   ],
   "source": [
    "mt.describe()"
   ]
  },
  {
   "cell_type": "markdown",
   "metadata": {},
   "source": [
    "# 数据相关性分析"
   ]
  },
  {
   "cell_type": "code",
   "execution_count": 10,
   "metadata": {},
   "outputs": [
    {
     "data": {
      "text/html": [
       "<div>\n",
       "<style scoped>\n",
       "    .dataframe tbody tr th:only-of-type {\n",
       "        vertical-align: middle;\n",
       "    }\n",
       "\n",
       "    .dataframe tbody tr th {\n",
       "        vertical-align: top;\n",
       "    }\n",
       "\n",
       "    .dataframe thead th {\n",
       "        text-align: right;\n",
       "    }\n",
       "</style>\n",
       "<table border=\"1\" class=\"dataframe\">\n",
       "  <thead>\n",
       "    <tr style=\"text-align: right;\">\n",
       "      <th></th>\n",
       "      <th>rating</th>\n",
       "      <th>comment</th>\n",
       "      <th>price</th>\n",
       "    </tr>\n",
       "  </thead>\n",
       "  <tbody>\n",
       "    <tr>\n",
       "      <th>rating</th>\n",
       "      <td>1.000000</td>\n",
       "      <td>0.076882</td>\n",
       "      <td>0.189531</td>\n",
       "    </tr>\n",
       "    <tr>\n",
       "      <th>comment</th>\n",
       "      <td>0.076882</td>\n",
       "      <td>1.000000</td>\n",
       "      <td>-0.128461</td>\n",
       "    </tr>\n",
       "    <tr>\n",
       "      <th>price</th>\n",
       "      <td>0.189531</td>\n",
       "      <td>-0.128461</td>\n",
       "      <td>1.000000</td>\n",
       "    </tr>\n",
       "  </tbody>\n",
       "</table>\n",
       "</div>"
      ],
      "text/plain": [
       "           rating   comment     price\n",
       "rating   1.000000  0.076882  0.189531\n",
       "comment  0.076882  1.000000 -0.128461\n",
       "price    0.189531 -0.128461  1.000000"
      ]
     },
     "execution_count": 10,
     "metadata": {},
     "output_type": "execute_result"
    }
   ],
   "source": [
    "cols=['rating','comment','price']\n",
    "mt[cols].corr()"
   ]
  },
  {
   "cell_type": "code",
   "execution_count": 14,
   "metadata": {},
   "outputs": [
    {
     "data": {
      "text/plain": [
       "<AxesSubplot:xlabel='price', ylabel='rating'>"
      ]
     },
     "execution_count": 14,
     "metadata": {},
     "output_type": "execute_result"
    },
    {
     "data": {
      "image/png": "[encoded data removed]",
      "text/plain": [
       "<Figure size 720x576 with 1 Axes>"
      ]
     },
     "metadata": {
      "needs_background": "light"
     },
     "output_type": "display_data"
    }
   ],
   "source": [
    "#散点图可视化price与rating相关性\n",
    "plt.pyplot.figure(figsize=(10,8)) \n",
    "sns.scatterplot(x=\"price\", y=\"rating\", data=mt)"
   ]
  },
  {
   "cell_type": "code",
   "execution_count": 17,
   "metadata": {},
   "outputs": [
    {
     "data": {
      "text/html": [
       "<div>\n",
       "<style scoped>\n",
       "    .dataframe tbody tr th:only-of-type {\n",
       "        vertical-align: middle;\n",
       "    }\n",
       "\n",
       "    .dataframe tbody tr th {\n",
       "        vertical-align: top;\n",
       "    }\n",
       "\n",
       "    .dataframe thead th {\n",
       "        text-align: right;\n",
       "    }\n",
       "</style>\n",
       "<table border=\"1\" class=\"dataframe\">\n",
       "  <thead>\n",
       "    <tr style=\"text-align: right;\">\n",
       "      <th></th>\n",
       "      <th>count</th>\n",
       "      <th>mean</th>\n",
       "      <th>std</th>\n",
       "      <th>min</th>\n",
       "      <th>25%</th>\n",
       "      <th>50%</th>\n",
       "      <th>75%</th>\n",
       "      <th>max</th>\n",
       "    </tr>\n",
       "    <tr>\n",
       "      <th>rating2</th>\n",
       "      <th></th>\n",
       "      <th></th>\n",
       "      <th></th>\n",
       "      <th></th>\n",
       "      <th></th>\n",
       "      <th></th>\n",
       "      <th></th>\n",
       "      <th></th>\n",
       "    </tr>\n",
       "  </thead>\n",
       "  <tbody>\n",
       "    <tr>\n",
       "      <th>&lt;=3.5</th>\n",
       "      <td>204.0</td>\n",
       "      <td>3.475000</td>\n",
       "      <td>0.057127</td>\n",
       "      <td>3.2</td>\n",
       "      <td>3.5</td>\n",
       "      <td>3.5</td>\n",
       "      <td>3.5</td>\n",
       "      <td>3.5</td>\n",
       "    </tr>\n",
       "    <tr>\n",
       "      <th>&lt;=4</th>\n",
       "      <td>494.0</td>\n",
       "      <td>3.892510</td>\n",
       "      <td>0.127881</td>\n",
       "      <td>3.6</td>\n",
       "      <td>3.8</td>\n",
       "      <td>3.9</td>\n",
       "      <td>4.0</td>\n",
       "      <td>4.0</td>\n",
       "    </tr>\n",
       "    <tr>\n",
       "      <th>&lt;=4.5</th>\n",
       "      <td>537.0</td>\n",
       "      <td>4.336872</td>\n",
       "      <td>0.154714</td>\n",
       "      <td>4.1</td>\n",
       "      <td>4.2</td>\n",
       "      <td>4.4</td>\n",
       "      <td>4.5</td>\n",
       "      <td>4.5</td>\n",
       "    </tr>\n",
       "    <tr>\n",
       "      <th>&lt;=5</th>\n",
       "      <td>392.0</td>\n",
       "      <td>4.917092</td>\n",
       "      <td>0.131444</td>\n",
       "      <td>4.6</td>\n",
       "      <td>4.8</td>\n",
       "      <td>5.0</td>\n",
       "      <td>5.0</td>\n",
       "      <td>5.0</td>\n",
       "    </tr>\n",
       "  </tbody>\n",
       "</table>\n",
       "</div>"
      ],
      "text/plain": [
       "         count      mean       std  min  25%  50%  75%  max\n",
       "rating2                                                    \n",
       "<=3.5    204.0  3.475000  0.057127  3.2  3.5  3.5  3.5  3.5\n",
       "<=4      494.0  3.892510  0.127881  3.6  3.8  3.9  4.0  4.0\n",
       "<=4.5    537.0  4.336872  0.154714  4.1  4.2  4.4  4.5  4.5\n",
       "<=5      392.0  4.917092  0.131444  4.6  4.8  5.0  5.0  5.0"
      ]
     },
     "execution_count": 17,
     "metadata": {},
     "output_type": "execute_result"
    }
   ],
   "source": [
    "#将rating分组\n",
    "bins=[3,3.5,4,4.5,5]\n",
    "labels=['<=3.5','<=4',\"<=4.5\",\"<=5\"]\n",
    "mt['rating2']=pd.cut(mt.rating,bins,right=True,labels=labels)\n",
    "mt.groupby([\"rating2\"])[\"rating\"].describe()"
   ]
  },
  {
   "cell_type": "code",
   "execution_count": 18,
   "metadata": {},
   "outputs": [
    {
     "data": {
      "image/png": "[encoded data removed]",
      "text/plain": [
       "<Figure size 720x360 with 1 Axes>"
      ]
     },
     "metadata": {
      "needs_background": "light"
     },
     "output_type": "display_data"
    }
   ],
   "source": [
    "#箱线图\n",
    "plt.pyplot.figure(figsize=(10,5))\n",
    "sns.boxplot(x='rating',y='cat',palette=sns.color_palette('pastel'),data=mt)\n",
    "plt.pyplot.tick_params(labelsize=20)"
   ]
  },
  {
   "cell_type": "code",
   "execution_count": 20,
   "metadata": {},
   "outputs": [
    {
     "data": {
      "image/png": "[encoded data removed]",
      "text/plain": [
       "<Figure size 432x288 with 1 Axes>"
      ]
     },
     "metadata": {
      "needs_background": "light"
     },
     "output_type": "display_data"
    }
   ],
   "source": [
    "sns.boxplot(x='price',y='cat',palette=sns.color_palette('pastel'),data=mt)\n",
    "plt.pyplot.tick_params(labelsize=10)"
   ]
  },
  {
   "cell_type": "code",
   "execution_count": 19,
   "metadata": {},
   "outputs": [
    {
     "data": {
      "text/plain": [
       "<AxesSubplot:xlabel='cat', ylabel='count'>"
      ]
     },
     "execution_count": 19,
     "metadata": {},
     "output_type": "execute_result"
    },
    {
     "data": {
      "image/png": "[encoded data removed]",
      "text/plain": [
       "<Figure size 432x288 with 1 Axes>"
      ]
     },
     "metadata": {
      "needs_background": "light"
     },
     "output_type": "display_data"
    }
   ],
   "source": [
    "#计数柱状图不同美食品类的评分情况\n",
    "sns.countplot(x=\"cat\",hue='rating2',data=mt)"
   ]
  },
  {
   "cell_type": "code",
   "execution_count": 22,
   "metadata": {},
   "outputs": [
    {
     "data": {
      "text/plain": [
       "<AxesSubplot:xlabel='cat', ylabel='comment'>"
      ]
     },
     "execution_count": 22,
     "metadata": {},
     "output_type": "execute_result"
    },
    {
     "data": {
      "image/png": "[encoded data removed]",
      "text/plain": [
       "<Figure size 432x288 with 1 Axes>"
      ]
     },
     "metadata": {
      "needs_background": "light"
     },
     "output_type": "display_data"
    }
   ],
   "source": [
    "#柱状图不同美食品类的点评数量\n",
    "sns.barplot(x=\"cat\",y=\"comment\",hue=\"rating2\",data=mt)"
   ]
  }
 ],
 "metadata": {
  "kernelspec": {
   "display_name": "Python 3",
   "language": "python",
   "name": "python3"
  },
  "language_info": {
   "codemirror_mode": {
    "name": "ipython",
    "version": 3
   },
   "file_extension": ".py",
   "mimetype": "text/x-python",
   "name": "python",
   "nbconvert_exporter": "python",
   "pygments_lexer": "ipython3",
   "version": "3.8.5"
  }
 },
 "nbformat": 4,
 "nbformat_minor": 4
}
