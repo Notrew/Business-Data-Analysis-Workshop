{
 "cells": [
  {
   "cell_type": "code",
   "execution_count": 1,
   "metadata": {},
   "outputs": [],
   "source": [
    "import pandas as pd\n",
    "import matplotlib.pyplot as plt\n",
    "import seaborn as sns\n",
    "%matplotlib inline\n",
    "\n",
    "plt.rcParams[\"font.sans-serif\"]=[\"simhei\"]"
   ]
  },
  {
   "cell_type": "code",
   "execution_count": 2,
   "metadata": {},
   "outputs": [],
   "source": [
    "df=pd.read_csv(\"lagou.csv\")"
   ]
  },
  {
   "cell_type": "code",
   "execution_count": 3,
   "metadata": {},
   "outputs": [
    {
     "data": {
      "text/html": [
       "<div>\n",
       "<style scoped>\n",
       "    .dataframe tbody tr th:only-of-type {\n",
       "        vertical-align: middle;\n",
       "    }\n",
       "\n",
       "    .dataframe tbody tr th {\n",
       "        vertical-align: top;\n",
       "    }\n",
       "\n",
       "    .dataframe thead th {\n",
       "        text-align: right;\n",
       "    }\n",
       "</style>\n",
       "<table border=\"1\" class=\"dataframe\">\n",
       "  <thead>\n",
       "    <tr style=\"text-align: right;\">\n",
       "      <th></th>\n",
       "      <th>web-scraper-order</th>\n",
       "      <th>web-scraper-start-url</th>\n",
       "      <th>name</th>\n",
       "      <th>company</th>\n",
       "      <th>salary</th>\n",
       "      <th>demand</th>\n",
       "      <th>info</th>\n",
       "    </tr>\n",
       "  </thead>\n",
       "  <tbody>\n",
       "    <tr>\n",
       "      <th>0</th>\n",
       "      <td>1609581844-342</td>\n",
       "      <td>https://www.lagou.com/beijing-zhaopin/shangyes...</td>\n",
       "      <td>外卖商业分析师</td>\n",
       "      <td>美团</td>\n",
       "      <td>20k-40k</td>\n",
       "      <td>20k-40k\\n                                    经...</td>\n",
       "      <td>消费生活 / 上市公司 / 2000人以上</td>\n",
       "    </tr>\n",
       "    <tr>\n",
       "      <th>1</th>\n",
       "      <td>1609581844-332</td>\n",
       "      <td>https://www.lagou.com/beijing-zhaopin/shangyes...</td>\n",
       "      <td>高级商业分析师（策略）</td>\n",
       "      <td>美团</td>\n",
       "      <td>20k-40k</td>\n",
       "      <td>20k-40k\\n                                    经...</td>\n",
       "      <td>消费生活 / 上市公司 / 2000人以上</td>\n",
       "    </tr>\n",
       "    <tr>\n",
       "      <th>2</th>\n",
       "      <td>1609581874-484</td>\n",
       "      <td>https://www.lagou.com/beijing-zhaopin/shangyes...</td>\n",
       "      <td>商业分析师</td>\n",
       "      <td>字节跳动</td>\n",
       "      <td>20k-40k</td>\n",
       "      <td>20k-40k\\n                                    经...</td>\n",
       "      <td>文娱丨内容 / D轮及以上 / 2000人以上</td>\n",
       "    </tr>\n",
       "    <tr>\n",
       "      <th>3</th>\n",
       "      <td>1609581838-307</td>\n",
       "      <td>https://www.lagou.com/beijing-zhaopin/shangyes...</td>\n",
       "      <td>商业分析师-门票度假</td>\n",
       "      <td>美团</td>\n",
       "      <td>20k-30k</td>\n",
       "      <td>20k-30k\\n                                    经...</td>\n",
       "      <td>消费生活 / 上市公司 / 2000人以上</td>\n",
       "    </tr>\n",
       "    <tr>\n",
       "      <th>4</th>\n",
       "      <td>1609581874-483</td>\n",
       "      <td>https://www.lagou.com/beijing-zhaopin/shangyes...</td>\n",
       "      <td>商业分析</td>\n",
       "      <td>字节跳动</td>\n",
       "      <td>20k-40k</td>\n",
       "      <td>20k-40k\\n                                    经...</td>\n",
       "      <td>文娱丨内容 / D轮及以上 / 2000人以上</td>\n",
       "    </tr>\n",
       "  </tbody>\n",
       "</table>\n",
       "</div>"
      ],
      "text/plain": [
       "  web-scraper-order                              web-scraper-start-url  \\\n",
       "0    1609581844-342  https://www.lagou.com/beijing-zhaopin/shangyes...   \n",
       "1    1609581844-332  https://www.lagou.com/beijing-zhaopin/shangyes...   \n",
       "2    1609581874-484  https://www.lagou.com/beijing-zhaopin/shangyes...   \n",
       "3    1609581838-307  https://www.lagou.com/beijing-zhaopin/shangyes...   \n",
       "4    1609581874-483  https://www.lagou.com/beijing-zhaopin/shangyes...   \n",
       "\n",
       "          name company   salary  \\\n",
       "0      外卖商业分析师      美团  20k-40k   \n",
       "1  高级商业分析师（策略）      美团  20k-40k   \n",
       "2        商业分析师    字节跳动  20k-40k   \n",
       "3   商业分析师-门票度假      美团  20k-30k   \n",
       "4         商业分析    字节跳动  20k-40k   \n",
       "\n",
       "                                              demand                     info  \n",
       "0  20k-40k\\n                                    经...    消费生活 / 上市公司 / 2000人以上  \n",
       "1  20k-40k\\n                                    经...    消费生活 / 上市公司 / 2000人以上  \n",
       "2  20k-40k\\n                                    经...  文娱丨内容 / D轮及以上 / 2000人以上  \n",
       "3  20k-30k\\n                                    经...    消费生活 / 上市公司 / 2000人以上  \n",
       "4  20k-40k\\n                                    经...  文娱丨内容 / D轮及以上 / 2000人以上  "
      ]
     },
     "execution_count": 3,
     "metadata": {},
     "output_type": "execute_result"
    }
   ],
   "source": [
    "df.head()"
   ]
  },
  {
   "cell_type": "markdown",
   "metadata": {},
   "source": [
    "# 1.数据处理"
   ]
  },
  {
   "cell_type": "code",
   "execution_count": 4,
   "metadata": {},
   "outputs": [
    {
     "data": {
      "text/html": [
       "<div>\n",
       "<style scoped>\n",
       "    .dataframe tbody tr th:only-of-type {\n",
       "        vertical-align: middle;\n",
       "    }\n",
       "\n",
       "    .dataframe tbody tr th {\n",
       "        vertical-align: top;\n",
       "    }\n",
       "\n",
       "    .dataframe thead th {\n",
       "        text-align: right;\n",
       "    }\n",
       "</style>\n",
       "<table border=\"1\" class=\"dataframe\">\n",
       "  <thead>\n",
       "    <tr style=\"text-align: right;\">\n",
       "      <th></th>\n",
       "      <th>name</th>\n",
       "      <th>company</th>\n",
       "      <th>salary</th>\n",
       "      <th>demand</th>\n",
       "      <th>info</th>\n",
       "    </tr>\n",
       "  </thead>\n",
       "  <tbody>\n",
       "    <tr>\n",
       "      <th>0</th>\n",
       "      <td>外卖商业分析师</td>\n",
       "      <td>美团</td>\n",
       "      <td>20k-40k</td>\n",
       "      <td>20k-40k\\n                                    经...</td>\n",
       "      <td>消费生活 / 上市公司 / 2000人以上</td>\n",
       "    </tr>\n",
       "    <tr>\n",
       "      <th>1</th>\n",
       "      <td>高级商业分析师（策略）</td>\n",
       "      <td>美团</td>\n",
       "      <td>20k-40k</td>\n",
       "      <td>20k-40k\\n                                    经...</td>\n",
       "      <td>消费生活 / 上市公司 / 2000人以上</td>\n",
       "    </tr>\n",
       "    <tr>\n",
       "      <th>2</th>\n",
       "      <td>商业分析师</td>\n",
       "      <td>字节跳动</td>\n",
       "      <td>20k-40k</td>\n",
       "      <td>20k-40k\\n                                    经...</td>\n",
       "      <td>文娱丨内容 / D轮及以上 / 2000人以上</td>\n",
       "    </tr>\n",
       "    <tr>\n",
       "      <th>3</th>\n",
       "      <td>商业分析师-门票度假</td>\n",
       "      <td>美团</td>\n",
       "      <td>20k-30k</td>\n",
       "      <td>20k-30k\\n                                    经...</td>\n",
       "      <td>消费生活 / 上市公司 / 2000人以上</td>\n",
       "    </tr>\n",
       "    <tr>\n",
       "      <th>4</th>\n",
       "      <td>商业分析</td>\n",
       "      <td>字节跳动</td>\n",
       "      <td>20k-40k</td>\n",
       "      <td>20k-40k\\n                                    经...</td>\n",
       "      <td>文娱丨内容 / D轮及以上 / 2000人以上</td>\n",
       "    </tr>\n",
       "    <tr>\n",
       "      <th>...</th>\n",
       "      <td>...</td>\n",
       "      <td>...</td>\n",
       "      <td>...</td>\n",
       "      <td>...</td>\n",
       "      <td>...</td>\n",
       "    </tr>\n",
       "    <tr>\n",
       "      <th>257</th>\n",
       "      <td>商业数据分析师</td>\n",
       "      <td>滴滴</td>\n",
       "      <td>20k-40k</td>\n",
       "      <td>20k-40k\\n                                    经...</td>\n",
       "      <td>汽车丨出行 / 不需要融资 / 2000人以上</td>\n",
       "    </tr>\n",
       "    <tr>\n",
       "      <th>258</th>\n",
       "      <td>美团优选-商业分析师</td>\n",
       "      <td>美团</td>\n",
       "      <td>25k-50k</td>\n",
       "      <td>25k-50k\\n                                    经...</td>\n",
       "      <td>消费生活 / 上市公司 / 2000人以上</td>\n",
       "    </tr>\n",
       "    <tr>\n",
       "      <th>259</th>\n",
       "      <td>商业分析师-用户增长</td>\n",
       "      <td>猿辅导</td>\n",
       "      <td>15k-30k</td>\n",
       "      <td>15k-30k\\n                                    经...</td>\n",
       "      <td>移动互联网,教育 / D轮及以上 / 2000人以上</td>\n",
       "    </tr>\n",
       "    <tr>\n",
       "      <th>260</th>\n",
       "      <td>商业分析师-预算管理方向</td>\n",
       "      <td>美团</td>\n",
       "      <td>20k-40k</td>\n",
       "      <td>20k-40k\\n                                    经...</td>\n",
       "      <td>消费生活 / 上市公司 / 2000人以上</td>\n",
       "    </tr>\n",
       "    <tr>\n",
       "      <th>261</th>\n",
       "      <td>商业分析高级经理(J15855)</td>\n",
       "      <td>美菜</td>\n",
       "      <td>25k-40k</td>\n",
       "      <td>25k-40k\\n                                    经...</td>\n",
       "      <td>电商 / D轮及以上 / 2000人以上</td>\n",
       "    </tr>\n",
       "  </tbody>\n",
       "</table>\n",
       "<p>262 rows × 5 columns</p>\n",
       "</div>"
      ],
      "text/plain": [
       "                 name company   salary  \\\n",
       "0             外卖商业分析师      美团  20k-40k   \n",
       "1         高级商业分析师（策略）      美团  20k-40k   \n",
       "2               商业分析师    字节跳动  20k-40k   \n",
       "3          商业分析师-门票度假      美团  20k-30k   \n",
       "4                商业分析    字节跳动  20k-40k   \n",
       "..                ...     ...      ...   \n",
       "257           商业数据分析师      滴滴  20k-40k   \n",
       "258        美团优选-商业分析师      美团  25k-50k   \n",
       "259        商业分析师-用户增长     猿辅导  15k-30k   \n",
       "260      商业分析师-预算管理方向      美团  20k-40k   \n",
       "261  商业分析高级经理(J15855)      美菜  25k-40k   \n",
       "\n",
       "                                                demand  \\\n",
       "0    20k-40k\\n                                    经...   \n",
       "1    20k-40k\\n                                    经...   \n",
       "2    20k-40k\\n                                    经...   \n",
       "3    20k-30k\\n                                    经...   \n",
       "4    20k-40k\\n                                    经...   \n",
       "..                                                 ...   \n",
       "257  20k-40k\\n                                    经...   \n",
       "258  25k-50k\\n                                    经...   \n",
       "259  15k-30k\\n                                    经...   \n",
       "260  20k-40k\\n                                    经...   \n",
       "261  25k-40k\\n                                    经...   \n",
       "\n",
       "                           info  \n",
       "0         消费生活 / 上市公司 / 2000人以上  \n",
       "1         消费生活 / 上市公司 / 2000人以上  \n",
       "2       文娱丨内容 / D轮及以上 / 2000人以上  \n",
       "3         消费生活 / 上市公司 / 2000人以上  \n",
       "4       文娱丨内容 / D轮及以上 / 2000人以上  \n",
       "..                          ...  \n",
       "257     汽车丨出行 / 不需要融资 / 2000人以上  \n",
       "258       消费生活 / 上市公司 / 2000人以上  \n",
       "259  移动互联网,教育 / D轮及以上 / 2000人以上  \n",
       "260       消费生活 / 上市公司 / 2000人以上  \n",
       "261        电商 / D轮及以上 / 2000人以上  \n",
       "\n",
       "[262 rows x 5 columns]"
      ]
     },
     "execution_count": 4,
     "metadata": {},
     "output_type": "execute_result"
    }
   ],
   "source": [
    "df=df.iloc[:,2:]\n",
    "df"
   ]
  },
  {
   "cell_type": "code",
   "execution_count": 5,
   "metadata": {},
   "outputs": [],
   "source": [
    "df[\"salary\"]=df[\"salary\"].str.replace(\"k\",\"\")"
   ]
  },
  {
   "cell_type": "code",
   "execution_count": 6,
   "metadata": {},
   "outputs": [
    {
     "data": {
      "text/plain": [
       "0      20-40\n",
       "1      20-40\n",
       "2      20-40\n",
       "3      20-30\n",
       "4      20-40\n",
       "       ...  \n",
       "257    20-40\n",
       "258    25-50\n",
       "259    15-30\n",
       "260    20-40\n",
       "261    25-40\n",
       "Name: salary, Length: 262, dtype: object"
      ]
     },
     "execution_count": 6,
     "metadata": {},
     "output_type": "execute_result"
    }
   ],
   "source": [
    "df[\"salary\"]"
   ]
  },
  {
   "cell_type": "code",
   "execution_count": 7,
   "metadata": {},
   "outputs": [],
   "source": [
    "df[\"salary_min\"]=df[\"salary\"].str.split(\"-\").str[0].astype(int)"
   ]
  },
  {
   "cell_type": "code",
   "execution_count": 8,
   "metadata": {},
   "outputs": [],
   "source": [
    "df[\"salary_max\"]=df[\"salary\"].str.split(\"-\").str[1].astype(int)"
   ]
  },
  {
   "cell_type": "code",
   "execution_count": 9,
   "metadata": {
    "scrolled": true
   },
   "outputs": [
    {
     "data": {
      "text/html": [
       "<div>\n",
       "<style scoped>\n",
       "    .dataframe tbody tr th:only-of-type {\n",
       "        vertical-align: middle;\n",
       "    }\n",
       "\n",
       "    .dataframe tbody tr th {\n",
       "        vertical-align: top;\n",
       "    }\n",
       "\n",
       "    .dataframe thead th {\n",
       "        text-align: right;\n",
       "    }\n",
       "</style>\n",
       "<table border=\"1\" class=\"dataframe\">\n",
       "  <thead>\n",
       "    <tr style=\"text-align: right;\">\n",
       "      <th></th>\n",
       "      <th>name</th>\n",
       "      <th>company</th>\n",
       "      <th>salary</th>\n",
       "      <th>demand</th>\n",
       "      <th>info</th>\n",
       "      <th>salary_min</th>\n",
       "      <th>salary_max</th>\n",
       "    </tr>\n",
       "  </thead>\n",
       "  <tbody>\n",
       "    <tr>\n",
       "      <th>0</th>\n",
       "      <td>外卖商业分析师</td>\n",
       "      <td>美团</td>\n",
       "      <td>20-40</td>\n",
       "      <td>20k-40k\\n                                    经...</td>\n",
       "      <td>消费生活 / 上市公司 / 2000人以上</td>\n",
       "      <td>20</td>\n",
       "      <td>40</td>\n",
       "    </tr>\n",
       "    <tr>\n",
       "      <th>1</th>\n",
       "      <td>高级商业分析师（策略）</td>\n",
       "      <td>美团</td>\n",
       "      <td>20-40</td>\n",
       "      <td>20k-40k\\n                                    经...</td>\n",
       "      <td>消费生活 / 上市公司 / 2000人以上</td>\n",
       "      <td>20</td>\n",
       "      <td>40</td>\n",
       "    </tr>\n",
       "    <tr>\n",
       "      <th>2</th>\n",
       "      <td>商业分析师</td>\n",
       "      <td>字节跳动</td>\n",
       "      <td>20-40</td>\n",
       "      <td>20k-40k\\n                                    经...</td>\n",
       "      <td>文娱丨内容 / D轮及以上 / 2000人以上</td>\n",
       "      <td>20</td>\n",
       "      <td>40</td>\n",
       "    </tr>\n",
       "    <tr>\n",
       "      <th>3</th>\n",
       "      <td>商业分析师-门票度假</td>\n",
       "      <td>美团</td>\n",
       "      <td>20-30</td>\n",
       "      <td>20k-30k\\n                                    经...</td>\n",
       "      <td>消费生活 / 上市公司 / 2000人以上</td>\n",
       "      <td>20</td>\n",
       "      <td>30</td>\n",
       "    </tr>\n",
       "    <tr>\n",
       "      <th>4</th>\n",
       "      <td>商业分析</td>\n",
       "      <td>字节跳动</td>\n",
       "      <td>20-40</td>\n",
       "      <td>20k-40k\\n                                    经...</td>\n",
       "      <td>文娱丨内容 / D轮及以上 / 2000人以上</td>\n",
       "      <td>20</td>\n",
       "      <td>40</td>\n",
       "    </tr>\n",
       "  </tbody>\n",
       "</table>\n",
       "</div>"
      ],
      "text/plain": [
       "          name company salary  \\\n",
       "0      外卖商业分析师      美团  20-40   \n",
       "1  高级商业分析师（策略）      美团  20-40   \n",
       "2        商业分析师    字节跳动  20-40   \n",
       "3   商业分析师-门票度假      美团  20-30   \n",
       "4         商业分析    字节跳动  20-40   \n",
       "\n",
       "                                              demand                     info  \\\n",
       "0  20k-40k\\n                                    经...    消费生活 / 上市公司 / 2000人以上   \n",
       "1  20k-40k\\n                                    经...    消费生活 / 上市公司 / 2000人以上   \n",
       "2  20k-40k\\n                                    经...  文娱丨内容 / D轮及以上 / 2000人以上   \n",
       "3  20k-30k\\n                                    经...    消费生活 / 上市公司 / 2000人以上   \n",
       "4  20k-40k\\n                                    经...  文娱丨内容 / D轮及以上 / 2000人以上   \n",
       "\n",
       "   salary_min  salary_max  \n",
       "0          20          40  \n",
       "1          20          40  \n",
       "2          20          40  \n",
       "3          20          30  \n",
       "4          20          40  "
      ]
     },
     "execution_count": 9,
     "metadata": {},
     "output_type": "execute_result"
    }
   ],
   "source": [
    "df.head()"
   ]
  },
  {
   "cell_type": "code",
   "execution_count": 10,
   "metadata": {},
   "outputs": [],
   "source": [
    "df[\"salary_avg\"]=(df[\"salary_min\"]+df[\"salary_max\"])/2"
   ]
  },
  {
   "cell_type": "code",
   "execution_count": 11,
   "metadata": {},
   "outputs": [
    {
     "data": {
      "text/html": [
       "<div>\n",
       "<style scoped>\n",
       "    .dataframe tbody tr th:only-of-type {\n",
       "        vertical-align: middle;\n",
       "    }\n",
       "\n",
       "    .dataframe tbody tr th {\n",
       "        vertical-align: top;\n",
       "    }\n",
       "\n",
       "    .dataframe thead th {\n",
       "        text-align: right;\n",
       "    }\n",
       "</style>\n",
       "<table border=\"1\" class=\"dataframe\">\n",
       "  <thead>\n",
       "    <tr style=\"text-align: right;\">\n",
       "      <th></th>\n",
       "      <th>name</th>\n",
       "      <th>company</th>\n",
       "      <th>salary</th>\n",
       "      <th>demand</th>\n",
       "      <th>info</th>\n",
       "      <th>salary_min</th>\n",
       "      <th>salary_max</th>\n",
       "      <th>salary_avg</th>\n",
       "    </tr>\n",
       "  </thead>\n",
       "  <tbody>\n",
       "    <tr>\n",
       "      <th>0</th>\n",
       "      <td>外卖商业分析师</td>\n",
       "      <td>美团</td>\n",
       "      <td>20-40</td>\n",
       "      <td>20k-40k\\n                                    经...</td>\n",
       "      <td>消费生活 / 上市公司 / 2000人以上</td>\n",
       "      <td>20</td>\n",
       "      <td>40</td>\n",
       "      <td>30.0</td>\n",
       "    </tr>\n",
       "    <tr>\n",
       "      <th>1</th>\n",
       "      <td>高级商业分析师（策略）</td>\n",
       "      <td>美团</td>\n",
       "      <td>20-40</td>\n",
       "      <td>20k-40k\\n                                    经...</td>\n",
       "      <td>消费生活 / 上市公司 / 2000人以上</td>\n",
       "      <td>20</td>\n",
       "      <td>40</td>\n",
       "      <td>30.0</td>\n",
       "    </tr>\n",
       "    <tr>\n",
       "      <th>2</th>\n",
       "      <td>商业分析师</td>\n",
       "      <td>字节跳动</td>\n",
       "      <td>20-40</td>\n",
       "      <td>20k-40k\\n                                    经...</td>\n",
       "      <td>文娱丨内容 / D轮及以上 / 2000人以上</td>\n",
       "      <td>20</td>\n",
       "      <td>40</td>\n",
       "      <td>30.0</td>\n",
       "    </tr>\n",
       "    <tr>\n",
       "      <th>3</th>\n",
       "      <td>商业分析师-门票度假</td>\n",
       "      <td>美团</td>\n",
       "      <td>20-30</td>\n",
       "      <td>20k-30k\\n                                    经...</td>\n",
       "      <td>消费生活 / 上市公司 / 2000人以上</td>\n",
       "      <td>20</td>\n",
       "      <td>30</td>\n",
       "      <td>25.0</td>\n",
       "    </tr>\n",
       "    <tr>\n",
       "      <th>4</th>\n",
       "      <td>商业分析</td>\n",
       "      <td>字节跳动</td>\n",
       "      <td>20-40</td>\n",
       "      <td>20k-40k\\n                                    经...</td>\n",
       "      <td>文娱丨内容 / D轮及以上 / 2000人以上</td>\n",
       "      <td>20</td>\n",
       "      <td>40</td>\n",
       "      <td>30.0</td>\n",
       "    </tr>\n",
       "  </tbody>\n",
       "</table>\n",
       "</div>"
      ],
      "text/plain": [
       "          name company salary  \\\n",
       "0      外卖商业分析师      美团  20-40   \n",
       "1  高级商业分析师（策略）      美团  20-40   \n",
       "2        商业分析师    字节跳动  20-40   \n",
       "3   商业分析师-门票度假      美团  20-30   \n",
       "4         商业分析    字节跳动  20-40   \n",
       "\n",
       "                                              demand                     info  \\\n",
       "0  20k-40k\\n                                    经...    消费生活 / 上市公司 / 2000人以上   \n",
       "1  20k-40k\\n                                    经...    消费生活 / 上市公司 / 2000人以上   \n",
       "2  20k-40k\\n                                    经...  文娱丨内容 / D轮及以上 / 2000人以上   \n",
       "3  20k-30k\\n                                    经...    消费生活 / 上市公司 / 2000人以上   \n",
       "4  20k-40k\\n                                    经...  文娱丨内容 / D轮及以上 / 2000人以上   \n",
       "\n",
       "   salary_min  salary_max  salary_avg  \n",
       "0          20          40        30.0  \n",
       "1          20          40        30.0  \n",
       "2          20          40        30.0  \n",
       "3          20          30        25.0  \n",
       "4          20          40        30.0  "
      ]
     },
     "execution_count": 11,
     "metadata": {},
     "output_type": "execute_result"
    }
   ],
   "source": [
    "df.head()"
   ]
  },
  {
   "cell_type": "code",
   "execution_count": 12,
   "metadata": {},
   "outputs": [],
   "source": [
    "df[\"demand\"]=df[\"demand\"].str.replace(\" \",\"\").str.split(\"\\n\").str[1]"
   ]
  },
  {
   "cell_type": "code",
   "execution_count": 13,
   "metadata": {},
   "outputs": [
    {
     "data": {
      "text/plain": [
       "0       经验3-5年/本科\n",
       "1       经验3-5年/本科\n",
       "2       经验3-5年/本科\n",
       "3       经验1-3年/本科\n",
       "4       经验3-5年/本科\n",
       "          ...    \n",
       "257     经验3-5年/本科\n",
       "258    经验5-10年/本科\n",
       "259     经验1-3年/本科\n",
       "260     经验3-5年/本科\n",
       "261    经验5-10年/本科\n",
       "Name: demand, Length: 262, dtype: object"
      ]
     },
     "execution_count": 13,
     "metadata": {},
     "output_type": "execute_result"
    }
   ],
   "source": [
    "df[\"demand\"]"
   ]
  },
  {
   "cell_type": "code",
   "execution_count": 14,
   "metadata": {},
   "outputs": [],
   "source": [
    "df[\"exp_demand\"]=df[\"demand\"].str.split(\"/\").str[0]"
   ]
  },
  {
   "cell_type": "code",
   "execution_count": 15,
   "metadata": {},
   "outputs": [],
   "source": [
    "df[\"edu_demand\"]=df[\"demand\"].str.split(\"/\").str[1]"
   ]
  },
  {
   "cell_type": "code",
   "execution_count": 16,
   "metadata": {},
   "outputs": [
    {
     "data": {
      "text/html": [
       "<div>\n",
       "<style scoped>\n",
       "    .dataframe tbody tr th:only-of-type {\n",
       "        vertical-align: middle;\n",
       "    }\n",
       "\n",
       "    .dataframe tbody tr th {\n",
       "        vertical-align: top;\n",
       "    }\n",
       "\n",
       "    .dataframe thead th {\n",
       "        text-align: right;\n",
       "    }\n",
       "</style>\n",
       "<table border=\"1\" class=\"dataframe\">\n",
       "  <thead>\n",
       "    <tr style=\"text-align: right;\">\n",
       "      <th></th>\n",
       "      <th>name</th>\n",
       "      <th>company</th>\n",
       "      <th>salary</th>\n",
       "      <th>demand</th>\n",
       "      <th>info</th>\n",
       "      <th>salary_min</th>\n",
       "      <th>salary_max</th>\n",
       "      <th>salary_avg</th>\n",
       "      <th>exp_demand</th>\n",
       "      <th>edu_demand</th>\n",
       "    </tr>\n",
       "  </thead>\n",
       "  <tbody>\n",
       "    <tr>\n",
       "      <th>0</th>\n",
       "      <td>外卖商业分析师</td>\n",
       "      <td>美团</td>\n",
       "      <td>20-40</td>\n",
       "      <td>经验3-5年/本科</td>\n",
       "      <td>消费生活 / 上市公司 / 2000人以上</td>\n",
       "      <td>20</td>\n",
       "      <td>40</td>\n",
       "      <td>30.0</td>\n",
       "      <td>经验3-5年</td>\n",
       "      <td>本科</td>\n",
       "    </tr>\n",
       "    <tr>\n",
       "      <th>1</th>\n",
       "      <td>高级商业分析师（策略）</td>\n",
       "      <td>美团</td>\n",
       "      <td>20-40</td>\n",
       "      <td>经验3-5年/本科</td>\n",
       "      <td>消费生活 / 上市公司 / 2000人以上</td>\n",
       "      <td>20</td>\n",
       "      <td>40</td>\n",
       "      <td>30.0</td>\n",
       "      <td>经验3-5年</td>\n",
       "      <td>本科</td>\n",
       "    </tr>\n",
       "    <tr>\n",
       "      <th>2</th>\n",
       "      <td>商业分析师</td>\n",
       "      <td>字节跳动</td>\n",
       "      <td>20-40</td>\n",
       "      <td>经验3-5年/本科</td>\n",
       "      <td>文娱丨内容 / D轮及以上 / 2000人以上</td>\n",
       "      <td>20</td>\n",
       "      <td>40</td>\n",
       "      <td>30.0</td>\n",
       "      <td>经验3-5年</td>\n",
       "      <td>本科</td>\n",
       "    </tr>\n",
       "    <tr>\n",
       "      <th>3</th>\n",
       "      <td>商业分析师-门票度假</td>\n",
       "      <td>美团</td>\n",
       "      <td>20-30</td>\n",
       "      <td>经验1-3年/本科</td>\n",
       "      <td>消费生活 / 上市公司 / 2000人以上</td>\n",
       "      <td>20</td>\n",
       "      <td>30</td>\n",
       "      <td>25.0</td>\n",
       "      <td>经验1-3年</td>\n",
       "      <td>本科</td>\n",
       "    </tr>\n",
       "    <tr>\n",
       "      <th>4</th>\n",
       "      <td>商业分析</td>\n",
       "      <td>字节跳动</td>\n",
       "      <td>20-40</td>\n",
       "      <td>经验3-5年/本科</td>\n",
       "      <td>文娱丨内容 / D轮及以上 / 2000人以上</td>\n",
       "      <td>20</td>\n",
       "      <td>40</td>\n",
       "      <td>30.0</td>\n",
       "      <td>经验3-5年</td>\n",
       "      <td>本科</td>\n",
       "    </tr>\n",
       "  </tbody>\n",
       "</table>\n",
       "</div>"
      ],
      "text/plain": [
       "          name company salary     demand                     info  salary_min  \\\n",
       "0      外卖商业分析师      美团  20-40  经验3-5年/本科    消费生活 / 上市公司 / 2000人以上          20   \n",
       "1  高级商业分析师（策略）      美团  20-40  经验3-5年/本科    消费生活 / 上市公司 / 2000人以上          20   \n",
       "2        商业分析师    字节跳动  20-40  经验3-5年/本科  文娱丨内容 / D轮及以上 / 2000人以上          20   \n",
       "3   商业分析师-门票度假      美团  20-30  经验1-3年/本科    消费生活 / 上市公司 / 2000人以上          20   \n",
       "4         商业分析    字节跳动  20-40  经验3-5年/本科  文娱丨内容 / D轮及以上 / 2000人以上          20   \n",
       "\n",
       "   salary_max  salary_avg exp_demand edu_demand  \n",
       "0          40        30.0     经验3-5年         本科  \n",
       "1          40        30.0     经验3-5年         本科  \n",
       "2          40        30.0     经验3-5年         本科  \n",
       "3          30        25.0     经验1-3年         本科  \n",
       "4          40        30.0     经验3-5年         本科  "
      ]
     },
     "execution_count": 16,
     "metadata": {},
     "output_type": "execute_result"
    }
   ],
   "source": [
    "df.head()"
   ]
  },
  {
   "cell_type": "code",
   "execution_count": 17,
   "metadata": {},
   "outputs": [],
   "source": [
    "df[\"sort\"]=df[\"info\"].str.replace(\" \",\"\").str.split(\"/\").str[0]"
   ]
  },
  {
   "cell_type": "code",
   "execution_count": 18,
   "metadata": {},
   "outputs": [],
   "source": [
    "df[\"finance\"]=df[\"info\"].str.replace(\" \",\"\").str.split(\"/\").str[1]"
   ]
  },
  {
   "cell_type": "code",
   "execution_count": 19,
   "metadata": {},
   "outputs": [],
   "source": [
    "df[\"size\"]=df[\"info\"].str.replace(\" \",\"\").str.split(\"/\").str[2]"
   ]
  },
  {
   "cell_type": "code",
   "execution_count": 20,
   "metadata": {},
   "outputs": [
    {
     "data": {
      "text/html": [
       "<div>\n",
       "<style scoped>\n",
       "    .dataframe tbody tr th:only-of-type {\n",
       "        vertical-align: middle;\n",
       "    }\n",
       "\n",
       "    .dataframe tbody tr th {\n",
       "        vertical-align: top;\n",
       "    }\n",
       "\n",
       "    .dataframe thead th {\n",
       "        text-align: right;\n",
       "    }\n",
       "</style>\n",
       "<table border=\"1\" class=\"dataframe\">\n",
       "  <thead>\n",
       "    <tr style=\"text-align: right;\">\n",
       "      <th></th>\n",
       "      <th>name</th>\n",
       "      <th>company</th>\n",
       "      <th>salary</th>\n",
       "      <th>demand</th>\n",
       "      <th>info</th>\n",
       "      <th>salary_min</th>\n",
       "      <th>salary_max</th>\n",
       "      <th>salary_avg</th>\n",
       "      <th>exp_demand</th>\n",
       "      <th>edu_demand</th>\n",
       "      <th>sort</th>\n",
       "      <th>finance</th>\n",
       "      <th>size</th>\n",
       "    </tr>\n",
       "  </thead>\n",
       "  <tbody>\n",
       "    <tr>\n",
       "      <th>0</th>\n",
       "      <td>外卖商业分析师</td>\n",
       "      <td>美团</td>\n",
       "      <td>20-40</td>\n",
       "      <td>经验3-5年/本科</td>\n",
       "      <td>消费生活 / 上市公司 / 2000人以上</td>\n",
       "      <td>20</td>\n",
       "      <td>40</td>\n",
       "      <td>30.0</td>\n",
       "      <td>经验3-5年</td>\n",
       "      <td>本科</td>\n",
       "      <td>消费生活</td>\n",
       "      <td>上市公司</td>\n",
       "      <td>2000人以上</td>\n",
       "    </tr>\n",
       "    <tr>\n",
       "      <th>1</th>\n",
       "      <td>高级商业分析师（策略）</td>\n",
       "      <td>美团</td>\n",
       "      <td>20-40</td>\n",
       "      <td>经验3-5年/本科</td>\n",
       "      <td>消费生活 / 上市公司 / 2000人以上</td>\n",
       "      <td>20</td>\n",
       "      <td>40</td>\n",
       "      <td>30.0</td>\n",
       "      <td>经验3-5年</td>\n",
       "      <td>本科</td>\n",
       "      <td>消费生活</td>\n",
       "      <td>上市公司</td>\n",
       "      <td>2000人以上</td>\n",
       "    </tr>\n",
       "    <tr>\n",
       "      <th>2</th>\n",
       "      <td>商业分析师</td>\n",
       "      <td>字节跳动</td>\n",
       "      <td>20-40</td>\n",
       "      <td>经验3-5年/本科</td>\n",
       "      <td>文娱丨内容 / D轮及以上 / 2000人以上</td>\n",
       "      <td>20</td>\n",
       "      <td>40</td>\n",
       "      <td>30.0</td>\n",
       "      <td>经验3-5年</td>\n",
       "      <td>本科</td>\n",
       "      <td>文娱丨内容</td>\n",
       "      <td>D轮及以上</td>\n",
       "      <td>2000人以上</td>\n",
       "    </tr>\n",
       "    <tr>\n",
       "      <th>3</th>\n",
       "      <td>商业分析师-门票度假</td>\n",
       "      <td>美团</td>\n",
       "      <td>20-30</td>\n",
       "      <td>经验1-3年/本科</td>\n",
       "      <td>消费生活 / 上市公司 / 2000人以上</td>\n",
       "      <td>20</td>\n",
       "      <td>30</td>\n",
       "      <td>25.0</td>\n",
       "      <td>经验1-3年</td>\n",
       "      <td>本科</td>\n",
       "      <td>消费生活</td>\n",
       "      <td>上市公司</td>\n",
       "      <td>2000人以上</td>\n",
       "    </tr>\n",
       "    <tr>\n",
       "      <th>4</th>\n",
       "      <td>商业分析</td>\n",
       "      <td>字节跳动</td>\n",
       "      <td>20-40</td>\n",
       "      <td>经验3-5年/本科</td>\n",
       "      <td>文娱丨内容 / D轮及以上 / 2000人以上</td>\n",
       "      <td>20</td>\n",
       "      <td>40</td>\n",
       "      <td>30.0</td>\n",
       "      <td>经验3-5年</td>\n",
       "      <td>本科</td>\n",
       "      <td>文娱丨内容</td>\n",
       "      <td>D轮及以上</td>\n",
       "      <td>2000人以上</td>\n",
       "    </tr>\n",
       "  </tbody>\n",
       "</table>\n",
       "</div>"
      ],
      "text/plain": [
       "          name company salary     demand                     info  salary_min  \\\n",
       "0      外卖商业分析师      美团  20-40  经验3-5年/本科    消费生活 / 上市公司 / 2000人以上          20   \n",
       "1  高级商业分析师（策略）      美团  20-40  经验3-5年/本科    消费生活 / 上市公司 / 2000人以上          20   \n",
       "2        商业分析师    字节跳动  20-40  经验3-5年/本科  文娱丨内容 / D轮及以上 / 2000人以上          20   \n",
       "3   商业分析师-门票度假      美团  20-30  经验1-3年/本科    消费生活 / 上市公司 / 2000人以上          20   \n",
       "4         商业分析    字节跳动  20-40  经验3-5年/本科  文娱丨内容 / D轮及以上 / 2000人以上          20   \n",
       "\n",
       "   salary_max  salary_avg exp_demand edu_demand   sort finance     size  \n",
       "0          40        30.0     经验3-5年         本科   消费生活    上市公司  2000人以上  \n",
       "1          40        30.0     经验3-5年         本科   消费生活    上市公司  2000人以上  \n",
       "2          40        30.0     经验3-5年         本科  文娱丨内容   D轮及以上  2000人以上  \n",
       "3          30        25.0     经验1-3年         本科   消费生活    上市公司  2000人以上  \n",
       "4          40        30.0     经验3-5年         本科  文娱丨内容   D轮及以上  2000人以上  "
      ]
     },
     "execution_count": 20,
     "metadata": {},
     "output_type": "execute_result"
    }
   ],
   "source": [
    "df.head()"
   ]
  },
  {
   "cell_type": "code",
   "execution_count": 21,
   "metadata": {},
   "outputs": [],
   "source": [
    "df.drop([\"salary\",\"demand\",\"info\"],axis=1,inplace=True)"
   ]
  },
  {
   "cell_type": "code",
   "execution_count": 22,
   "metadata": {},
   "outputs": [
    {
     "data": {
      "text/html": [
       "<div>\n",
       "<style scoped>\n",
       "    .dataframe tbody tr th:only-of-type {\n",
       "        vertical-align: middle;\n",
       "    }\n",
       "\n",
       "    .dataframe tbody tr th {\n",
       "        vertical-align: top;\n",
       "    }\n",
       "\n",
       "    .dataframe thead th {\n",
       "        text-align: right;\n",
       "    }\n",
       "</style>\n",
       "<table border=\"1\" class=\"dataframe\">\n",
       "  <thead>\n",
       "    <tr style=\"text-align: right;\">\n",
       "      <th></th>\n",
       "      <th>name</th>\n",
       "      <th>company</th>\n",
       "      <th>salary_min</th>\n",
       "      <th>salary_max</th>\n",
       "      <th>salary_avg</th>\n",
       "      <th>exp_demand</th>\n",
       "      <th>edu_demand</th>\n",
       "      <th>sort</th>\n",
       "      <th>finance</th>\n",
       "      <th>size</th>\n",
       "    </tr>\n",
       "  </thead>\n",
       "  <tbody>\n",
       "    <tr>\n",
       "      <th>0</th>\n",
       "      <td>外卖商业分析师</td>\n",
       "      <td>美团</td>\n",
       "      <td>20</td>\n",
       "      <td>40</td>\n",
       "      <td>30.0</td>\n",
       "      <td>经验3-5年</td>\n",
       "      <td>本科</td>\n",
       "      <td>消费生活</td>\n",
       "      <td>上市公司</td>\n",
       "      <td>2000人以上</td>\n",
       "    </tr>\n",
       "    <tr>\n",
       "      <th>1</th>\n",
       "      <td>高级商业分析师（策略）</td>\n",
       "      <td>美团</td>\n",
       "      <td>20</td>\n",
       "      <td>40</td>\n",
       "      <td>30.0</td>\n",
       "      <td>经验3-5年</td>\n",
       "      <td>本科</td>\n",
       "      <td>消费生活</td>\n",
       "      <td>上市公司</td>\n",
       "      <td>2000人以上</td>\n",
       "    </tr>\n",
       "    <tr>\n",
       "      <th>2</th>\n",
       "      <td>商业分析师</td>\n",
       "      <td>字节跳动</td>\n",
       "      <td>20</td>\n",
       "      <td>40</td>\n",
       "      <td>30.0</td>\n",
       "      <td>经验3-5年</td>\n",
       "      <td>本科</td>\n",
       "      <td>文娱丨内容</td>\n",
       "      <td>D轮及以上</td>\n",
       "      <td>2000人以上</td>\n",
       "    </tr>\n",
       "    <tr>\n",
       "      <th>3</th>\n",
       "      <td>商业分析师-门票度假</td>\n",
       "      <td>美团</td>\n",
       "      <td>20</td>\n",
       "      <td>30</td>\n",
       "      <td>25.0</td>\n",
       "      <td>经验1-3年</td>\n",
       "      <td>本科</td>\n",
       "      <td>消费生活</td>\n",
       "      <td>上市公司</td>\n",
       "      <td>2000人以上</td>\n",
       "    </tr>\n",
       "    <tr>\n",
       "      <th>4</th>\n",
       "      <td>商业分析</td>\n",
       "      <td>字节跳动</td>\n",
       "      <td>20</td>\n",
       "      <td>40</td>\n",
       "      <td>30.0</td>\n",
       "      <td>经验3-5年</td>\n",
       "      <td>本科</td>\n",
       "      <td>文娱丨内容</td>\n",
       "      <td>D轮及以上</td>\n",
       "      <td>2000人以上</td>\n",
       "    </tr>\n",
       "  </tbody>\n",
       "</table>\n",
       "</div>"
      ],
      "text/plain": [
       "          name company  salary_min  salary_max  salary_avg exp_demand  \\\n",
       "0      外卖商业分析师      美团          20          40        30.0     经验3-5年   \n",
       "1  高级商业分析师（策略）      美团          20          40        30.0     经验3-5年   \n",
       "2        商业分析师    字节跳动          20          40        30.0     经验3-5年   \n",
       "3   商业分析师-门票度假      美团          20          30        25.0     经验1-3年   \n",
       "4         商业分析    字节跳动          20          40        30.0     经验3-5年   \n",
       "\n",
       "  edu_demand   sort finance     size  \n",
       "0         本科   消费生活    上市公司  2000人以上  \n",
       "1         本科   消费生活    上市公司  2000人以上  \n",
       "2         本科  文娱丨内容   D轮及以上  2000人以上  \n",
       "3         本科   消费生活    上市公司  2000人以上  \n",
       "4         本科  文娱丨内容   D轮及以上  2000人以上  "
      ]
     },
     "execution_count": 22,
     "metadata": {},
     "output_type": "execute_result"
    }
   ],
   "source": [
    "df.head()"
   ]
  },
  {
   "cell_type": "code",
   "execution_count": 23,
   "metadata": {},
   "outputs": [
    {
     "name": "stdout",
     "output_type": "stream",
     "text": [
      "<class 'pandas.core.frame.DataFrame'>\n",
      "RangeIndex: 262 entries, 0 to 261\n",
      "Data columns (total 10 columns):\n",
      " #   Column      Non-Null Count  Dtype  \n",
      "---  ------      --------------  -----  \n",
      " 0   name        262 non-null    object \n",
      " 1   company     262 non-null    object \n",
      " 2   salary_min  262 non-null    int32  \n",
      " 3   salary_max  262 non-null    int32  \n",
      " 4   salary_avg  262 non-null    float64\n",
      " 5   exp_demand  262 non-null    object \n",
      " 6   edu_demand  262 non-null    object \n",
      " 7   sort        262 non-null    object \n",
      " 8   finance     262 non-null    object \n",
      " 9   size        262 non-null    object \n",
      "dtypes: float64(1), int32(2), object(7)\n",
      "memory usage: 18.5+ KB\n"
     ]
    }
   ],
   "source": [
    "df.info()"
   ]
  },
  {
   "cell_type": "code",
   "execution_count": 24,
   "metadata": {},
   "outputs": [
    {
     "data": {
      "text/html": [
       "<div>\n",
       "<style scoped>\n",
       "    .dataframe tbody tr th:only-of-type {\n",
       "        vertical-align: middle;\n",
       "    }\n",
       "\n",
       "    .dataframe tbody tr th {\n",
       "        vertical-align: top;\n",
       "    }\n",
       "\n",
       "    .dataframe thead th {\n",
       "        text-align: right;\n",
       "    }\n",
       "</style>\n",
       "<table border=\"1\" class=\"dataframe\">\n",
       "  <thead>\n",
       "    <tr style=\"text-align: right;\">\n",
       "      <th></th>\n",
       "      <th>salary_min</th>\n",
       "      <th>salary_max</th>\n",
       "      <th>salary_avg</th>\n",
       "    </tr>\n",
       "  </thead>\n",
       "  <tbody>\n",
       "    <tr>\n",
       "      <th>count</th>\n",
       "      <td>262.000000</td>\n",
       "      <td>262.000000</td>\n",
       "      <td>262.000000</td>\n",
       "    </tr>\n",
       "    <tr>\n",
       "      <th>mean</th>\n",
       "      <td>21.450382</td>\n",
       "      <td>38.423664</td>\n",
       "      <td>29.937023</td>\n",
       "    </tr>\n",
       "    <tr>\n",
       "      <th>std</th>\n",
       "      <td>7.883455</td>\n",
       "      <td>14.261108</td>\n",
       "      <td>10.855320</td>\n",
       "    </tr>\n",
       "    <tr>\n",
       "      <th>min</th>\n",
       "      <td>2.000000</td>\n",
       "      <td>3.000000</td>\n",
       "      <td>2.500000</td>\n",
       "    </tr>\n",
       "    <tr>\n",
       "      <th>25%</th>\n",
       "      <td>15.000000</td>\n",
       "      <td>30.000000</td>\n",
       "      <td>22.500000</td>\n",
       "    </tr>\n",
       "    <tr>\n",
       "      <th>50%</th>\n",
       "      <td>20.000000</td>\n",
       "      <td>40.000000</td>\n",
       "      <td>30.000000</td>\n",
       "    </tr>\n",
       "    <tr>\n",
       "      <th>75%</th>\n",
       "      <td>25.000000</td>\n",
       "      <td>45.000000</td>\n",
       "      <td>35.750000</td>\n",
       "    </tr>\n",
       "    <tr>\n",
       "      <th>max</th>\n",
       "      <td>50.000000</td>\n",
       "      <td>100.000000</td>\n",
       "      <td>75.000000</td>\n",
       "    </tr>\n",
       "  </tbody>\n",
       "</table>\n",
       "</div>"
      ],
      "text/plain": [
       "       salary_min  salary_max  salary_avg\n",
       "count  262.000000  262.000000  262.000000\n",
       "mean    21.450382   38.423664   29.937023\n",
       "std      7.883455   14.261108   10.855320\n",
       "min      2.000000    3.000000    2.500000\n",
       "25%     15.000000   30.000000   22.500000\n",
       "50%     20.000000   40.000000   30.000000\n",
       "75%     25.000000   45.000000   35.750000\n",
       "max     50.000000  100.000000   75.000000"
      ]
     },
     "execution_count": 24,
     "metadata": {},
     "output_type": "execute_result"
    }
   ],
   "source": [
    "df.describe()"
   ]
  },
  {
   "cell_type": "markdown",
   "metadata": {},
   "source": [
    "# 2.单变量分析"
   ]
  },
  {
   "cell_type": "markdown",
   "metadata": {},
   "source": [
    "## 2.1数值变量"
   ]
  },
  {
   "cell_type": "markdown",
   "metadata": {},
   "source": [
    "### 2.1.1 salary_min"
   ]
  },
  {
   "cell_type": "code",
   "execution_count": 25,
   "metadata": {},
   "outputs": [
    {
     "data": {
      "image/png": "[encoded data removed]",
      "text/plain": [
       "<Figure size 432x288 with 1 Axes>"
      ]
     },
     "metadata": {
      "needs_background": "light"
     },
     "output_type": "display_data"
    }
   ],
   "source": [
    "df[\"salary_min\"].plot(kind=\"hist\");"
   ]
  },
  {
   "cell_type": "markdown",
   "metadata": {},
   "source": [
    "    ·最低工资集中在15k-30k之间\n",
    "    ·有少数在45k以上"
   ]
  },
  {
   "cell_type": "markdown",
   "metadata": {},
   "source": [
    "### 2.1.2 salary_max"
   ]
  },
  {
   "cell_type": "code",
   "execution_count": 26,
   "metadata": {},
   "outputs": [
    {
     "data": {
      "image/png": "[encoded data removed]",
      "text/plain": [
       "<Figure size 432x288 with 1 Axes>"
      ]
     },
     "metadata": {
      "needs_background": "light"
     },
     "output_type": "display_data"
    }
   ],
   "source": [
    "df[\"salary_max\"].plot(kind=\"hist\");"
   ]
  },
  {
   "cell_type": "markdown",
   "metadata": {},
   "source": [
    "    ·最高工资集中分布在25k-50k之间\n",
    "    ·有极少数高达90k以及以上"
   ]
  },
  {
   "cell_type": "markdown",
   "metadata": {},
   "source": [
    "### 2.1.3 salary_avg"
   ]
  },
  {
   "cell_type": "code",
   "execution_count": 27,
   "metadata": {},
   "outputs": [
    {
     "data": {
      "image/png": "[encoded data removed]",
      "text/plain": [
       "<Figure size 432x288 with 1 Axes>"
      ]
     },
     "metadata": {
      "needs_background": "light"
     },
     "output_type": "display_data"
    }
   ],
   "source": [
    "df[\"salary_avg\"].plot(kind=\"hist\");"
   ]
  },
  {
   "cell_type": "markdown",
   "metadata": {},
   "source": [
    "    ·平均工资集中分布在20k-45k之间"
   ]
  },
  {
   "cell_type": "markdown",
   "metadata": {},
   "source": [
    "## 2.2 分类变量"
   ]
  },
  {
   "cell_type": "markdown",
   "metadata": {},
   "source": [
    "### 2.2.1 company"
   ]
  },
  {
   "cell_type": "code",
   "execution_count": 28,
   "metadata": {},
   "outputs": [
    {
     "data": {
      "text/plain": [
       "美团        68\n",
       "字节跳动      35\n",
       "快手        17\n",
       "滴滴        12\n",
       "百度        10\n",
       "          ..\n",
       "慧科集团       1\n",
       "联通大数据      1\n",
       "Zenjoy     1\n",
       "新片场        1\n",
       "理想汽车       1\n",
       "Name: company, Length: 83, dtype: int64"
      ]
     },
     "execution_count": 28,
     "metadata": {},
     "output_type": "execute_result"
    }
   ],
   "source": [
    "df[\"company\"].value_counts()"
   ]
  },
  {
   "cell_type": "code",
   "execution_count": 29,
   "metadata": {},
   "outputs": [
    {
     "data": {
      "image/png": "[encoded data removed]",
      "text/plain": [
       "<Figure size 432x288 with 1 Axes>"
      ]
     },
     "metadata": {
      "needs_background": "light"
     },
     "output_type": "display_data"
    }
   ],
   "source": [
    "df[\"company\"].value_counts().head(10).plot(kind=\"bar\");"
   ]
  },
  {
   "cell_type": "markdown",
   "metadata": {},
   "source": [
    "    ·招聘职位需求排名前10的公司如图所示\n",
    "    ·其中美团需求最大，放出约70个商业分析相关的岗位，约是第二名的两倍\n",
    "    ·其次是字节跳动、快手、滴滴以及百度等互联网公司\n",
    "    ·第五名之后的企业放出岗位均为个位数，表明绝大多数公司放出的商业分析相关岗位极少"
   ]
  },
  {
   "cell_type": "markdown",
   "metadata": {},
   "source": [
    "### 2.2.2 exp_demand"
   ]
  },
  {
   "cell_type": "code",
   "execution_count": 30,
   "metadata": {},
   "outputs": [
    {
     "data": {
      "text/plain": [
       "经验3-5年     126\n",
       "经验不限        50\n",
       "经验5-10年     44\n",
       "经验1-3年      32\n",
       "经验在校         7\n",
       "经验1年以下       2\n",
       "经验10年以上      1\n",
       "Name: exp_demand, dtype: int64"
      ]
     },
     "execution_count": 30,
     "metadata": {},
     "output_type": "execute_result"
    }
   ],
   "source": [
    "df[\"exp_demand\"].value_counts()"
   ]
  },
  {
   "cell_type": "code",
   "execution_count": 31,
   "metadata": {},
   "outputs": [
    {
     "data": {
      "image/png": "[encoded data removed]",
      "text/plain": [
       "<Figure size 432x288 with 1 Axes>"
      ]
     },
     "metadata": {
      "needs_background": "light"
     },
     "output_type": "display_data"
    }
   ],
   "source": [
    "df[\"exp_demand\"].value_counts().plot(kind=\"bar\");"
   ]
  },
  {
   "cell_type": "markdown",
   "metadata": {},
   "source": [
    "    ·绝大多数要求有3-5年的工作经验\n",
    "    ·不限经验的和要求有5-10年工作经验的差不多\n",
    "    ·要求工作经验在1年一下和10年以上的几乎没有"
   ]
  },
  {
   "cell_type": "markdown",
   "metadata": {},
   "source": [
    "### 2.2.3 edu_demand"
   ]
  },
  {
   "cell_type": "code",
   "execution_count": 32,
   "metadata": {},
   "outputs": [
    {
     "data": {
      "text/plain": [
       "本科    237\n",
       "不限     15\n",
       "应届      7\n",
       "硕士      3\n",
       "Name: edu_demand, dtype: int64"
      ]
     },
     "execution_count": 32,
     "metadata": {},
     "output_type": "execute_result"
    }
   ],
   "source": [
    "df[\"edu_demand\"].value_counts()"
   ]
  },
  {
   "cell_type": "code",
   "execution_count": 33,
   "metadata": {},
   "outputs": [
    {
     "data": {
      "image/png": "[encoded data removed]",
      "text/plain": [
       "<Figure size 432x288 with 1 Axes>"
      ]
     },
     "metadata": {
      "needs_background": "light"
     },
     "output_type": "display_data"
    }
   ],
   "source": [
    "df[\"edu_demand\"].value_counts().plot(kind=\"bar\");"
   ]
  },
  {
   "cell_type": "markdown",
   "metadata": {},
   "source": [
    "    ·绝大多数只要求拥有本科学历即可"
   ]
  },
  {
   "cell_type": "markdown",
   "metadata": {},
   "source": [
    "### 2.2.3 sort"
   ]
  },
  {
   "cell_type": "code",
   "execution_count": 34,
   "metadata": {},
   "outputs": [
    {
     "data": {
      "text/plain": [
       "消费生活                  74\n",
       "文娱丨内容                 53\n",
       "移动互联网                 18\n",
       "工具                    17\n",
       "汽车丨出行                 16\n",
       "房产家居                   7\n",
       "电商                     7\n",
       "移动互联网,电商               6\n",
       "移动互联网,教育               6\n",
       "教育                     4\n",
       "旅游                     4\n",
       "社交                     4\n",
       "数据服务                   4\n",
       "移动互联网,企业服务             4\n",
       "企业服务                   3\n",
       "移动互联网,数据服务             3\n",
       "硬件                     3\n",
       "企业服务,数据服务              2\n",
       "其他                     2\n",
       "电商,消费生活                2\n",
       "广告营销                   2\n",
       "移动互联网,广告营销             2\n",
       "物流丨运输                  2\n",
       "移动互联网,社交               2\n",
       "金融                     2\n",
       "移动互联网,文娱丨内容            1\n",
       "移动互联网,医疗丨健康            1\n",
       "移动互联网,消费生活             1\n",
       "物联网,数据服务               1\n",
       "电商,移动互联网               1\n",
       "移动互联网,游戏               1\n",
       "硬件,数据服务                1\n",
       "电商,企业服务                1\n",
       "企业服务,信息安全,区块链,数据服务     1\n",
       "企业服务,教育                1\n",
       "教育,移动互联网               1\n",
       "硬件,电商                  1\n",
       "移动互联网,人工智能             1\n",
       "Name: sort, dtype: int64"
      ]
     },
     "execution_count": 34,
     "metadata": {},
     "output_type": "execute_result"
    }
   ],
   "source": [
    "df[\"sort\"].value_counts()"
   ]
  },
  {
   "cell_type": "markdown",
   "metadata": {},
   "source": [
    "    ·数据内部有重复\n",
    "    ·但前6个占比较大，故可只观察前6个类型的公司分布"
   ]
  },
  {
   "cell_type": "code",
   "execution_count": 35,
   "metadata": {},
   "outputs": [
    {
     "data": {
      "image/png": "[encoded data removed]",
      "text/plain": [
       "<Figure size 432x288 with 1 Axes>"
      ]
     },
     "metadata": {
      "needs_background": "light"
     },
     "output_type": "display_data"
    }
   ],
   "source": [
    "df[\"sort\"].value_counts().head(6).plot(kind=\"bar\");"
   ]
  },
  {
   "cell_type": "markdown",
   "metadata": {},
   "source": [
    "    ·消费生活类的公司放出的岗位最多，超过70个\n",
    "    ·其次是文娱&内容，放出超过50个岗位\n",
    "    ·移动互联网、工具和汽车&出行放出的岗位数量接近，约为20个"
   ]
  },
  {
   "cell_type": "markdown",
   "metadata": {},
   "source": [
    "### 2.2.4 finance"
   ]
  },
  {
   "cell_type": "code",
   "execution_count": 36,
   "metadata": {},
   "outputs": [
    {
     "data": {
      "text/plain": [
       "上市公司     119\n",
       "D轮及以上     83\n",
       "不需要融资     25\n",
       "B轮        12\n",
       "C轮        10\n",
       "A轮         7\n",
       "未融资        5\n",
       "天使轮        1\n",
       "Name: finance, dtype: int64"
      ]
     },
     "execution_count": 36,
     "metadata": {},
     "output_type": "execute_result"
    }
   ],
   "source": [
    "df[\"finance\"].value_counts()"
   ]
  },
  {
   "cell_type": "code",
   "execution_count": 37,
   "metadata": {},
   "outputs": [
    {
     "data": {
      "image/png": "[encoded data removed]",
      "text/plain": [
       "<Figure size 432x288 with 1 Axes>"
      ]
     },
     "metadata": {
      "needs_background": "light"
     },
     "output_type": "display_data"
    }
   ],
   "source": [
    "df[\"finance\"].value_counts().plot(kind=\"bar\");"
   ]
  },
  {
   "cell_type": "markdown",
   "metadata": {},
   "source": [
    "    ·其中最多的是上市公司和在D轮融资以上的公司，分别放出约120和80个岗位"
   ]
  },
  {
   "cell_type": "markdown",
   "metadata": {},
   "source": [
    "### 2.2.5 size"
   ]
  },
  {
   "cell_type": "code",
   "execution_count": 38,
   "metadata": {},
   "outputs": [
    {
     "data": {
      "text/plain": [
       "2000人以上      206\n",
       "500-2000人     25\n",
       "150-500人      22\n",
       "50-150人        7\n",
       "15-50人         2\n",
       "Name: size, dtype: int64"
      ]
     },
     "execution_count": 38,
     "metadata": {},
     "output_type": "execute_result"
    }
   ],
   "source": [
    "df[\"size\"].value_counts()"
   ]
  },
  {
   "cell_type": "code",
   "execution_count": 39,
   "metadata": {},
   "outputs": [
    {
     "data": {
      "image/png": "[encoded data removed]",
      "text/plain": [
       "<Figure size 432x288 with 1 Axes>"
      ]
     },
     "metadata": {
      "needs_background": "light"
     },
     "output_type": "display_data"
    }
   ],
   "source": [
    "df[\"size\"].value_counts().plot(kind=\"bar\");"
   ]
  },
  {
   "cell_type": "code",
   "execution_count": 40,
   "metadata": {},
   "outputs": [
    {
     "data": {
      "image/png": "[encoded data removed]",
      "text/plain": [
       "<Figure size 432x288 with 1 Axes>"
      ]
     },
     "metadata": {},
     "output_type": "display_data"
    }
   ],
   "source": [
    "df[\"size\"].value_counts().plot(kind=\"pie\",autopct=\"%1.1f%%\");"
   ]
  },
  {
   "cell_type": "markdown",
   "metadata": {},
   "source": [
    "    ·2000人以上的大公司放出的岗位占比超过75%\n",
    "    ·150-500和500-2000的中型公司的岗位数量接近"
   ]
  },
  {
   "cell_type": "markdown",
   "metadata": {},
   "source": [
    "# 3.多变量分析"
   ]
  },
  {
   "cell_type": "markdown",
   "metadata": {},
   "source": [
    "## 3.1 exp_demand"
   ]
  },
  {
   "cell_type": "code",
   "execution_count": 41,
   "metadata": {},
   "outputs": [
    {
     "data": {
      "image/png": "[encoded data removed]",
      "text/plain": [
       "<Figure size 432x288 with 1 Axes>"
      ]
     },
     "metadata": {
      "needs_background": "light"
     },
     "output_type": "display_data"
    }
   ],
   "source": [
    "sns.barplot(x=\"exp_demand\",y=\"salary_avg\",data=df);"
   ]
  },
  {
   "cell_type": "code",
   "execution_count": 42,
   "metadata": {},
   "outputs": [
    {
     "data": {
      "image/png": "[encoded data removed]",
      "text/plain": [
       "<Figure size 432x288 with 1 Axes>"
      ]
     },
     "metadata": {
      "needs_background": "light"
     },
     "output_type": "display_data"
    }
   ],
   "source": [
    "sns.barplot(x=\"exp_demand\",y=\"salary_max\",data=df);"
   ]
  },
  {
   "cell_type": "code",
   "execution_count": 43,
   "metadata": {},
   "outputs": [
    {
     "data": {
      "image/png": "[encoded data removed]",
      "text/plain": [
       "<Figure size 432x288 with 1 Axes>"
      ]
     },
     "metadata": {
      "needs_background": "light"
     },
     "output_type": "display_data"
    }
   ],
   "source": [
    "sns.barplot(x=\"exp_demand\",y=\"salary_min\",data=df);"
   ]
  },
  {
   "cell_type": "markdown",
   "metadata": {},
   "source": [
    "    ·三种工资分析维度在用工作经历的要求分类下趋势相同\n",
    "    ·要求工作经验在10年以上的岗位的平均最高、最低和平均工资均最高\n",
    "    ·其次是要求工作经验5-10年的岗位\n",
    "    ·要求工作经验3-5年的反而没有不限经验的岗位高"
   ]
  },
  {
   "cell_type": "markdown",
   "metadata": {},
   "source": [
    "## 3.2 edu_demand"
   ]
  },
  {
   "cell_type": "code",
   "execution_count": 44,
   "metadata": {},
   "outputs": [
    {
     "data": {
      "image/png": "[encoded data removed]",
      "text/plain": [
       "<Figure size 432x288 with 1 Axes>"
      ]
     },
     "metadata": {
      "needs_background": "light"
     },
     "output_type": "display_data"
    }
   ],
   "source": [
    "sns.barplot(x=\"edu_demand\",y=\"salary_avg\",data=df);"
   ]
  },
  {
   "cell_type": "markdown",
   "metadata": {},
   "source": [
    "    ·各个对本科和不限学历的岗位平均工资相近\n",
    "    ·要求硕士学历的反而低于要求本科和不限学历的岗位\n",
    "    ·仅招收应届生的岗位平均工资最低"
   ]
  },
  {
   "cell_type": "markdown",
   "metadata": {},
   "source": [
    "## 3.3 size"
   ]
  },
  {
   "cell_type": "code",
   "execution_count": 45,
   "metadata": {},
   "outputs": [
    {
     "data": {
      "image/png": "[encoded data removed]",
      "text/plain": [
       "<Figure size 432x288 with 1 Axes>"
      ]
     },
     "metadata": {
      "needs_background": "light"
     },
     "output_type": "display_data"
    }
   ],
   "source": [
    "sns.barplot(x=\"size\",y=\"salary_avg\",data=df);"
   ]
  },
  {
   "cell_type": "markdown",
   "metadata": {},
   "source": [
    "    ·2000人以上的大公司给出的平均薪资并不显著高\n",
    "    ·15-50人的小公司类别内的平均工资相差极大，最高超过70k，最低仅有不到5k"
   ]
  },
  {
   "cell_type": "markdown",
   "metadata": {},
   "source": [
    "## 3.4 finance"
   ]
  },
  {
   "cell_type": "code",
   "execution_count": 46,
   "metadata": {},
   "outputs": [
    {
     "data": {
      "image/png": "[encoded data removed]",
      "text/plain": [
       "<Figure size 432x288 with 1 Axes>"
      ]
     },
     "metadata": {
      "needs_background": "light"
     },
     "output_type": "display_data"
    }
   ],
   "source": [
    "sns.barplot(x=\"finance\",y=\"salary_avg\",data=df);"
   ]
  },
  {
   "cell_type": "markdown",
   "metadata": {},
   "source": [
    "    ·未融资的公司的岗位的平均薪资最高，但极差也最大\n",
    "    ·上市公司和融资D轮以上公司的岗位的平均薪资接近，在30k左右\n",
    "    ·融资B轮和不需要融资公司的岗位的平均薪资接近，在25k左右"
   ]
  },
  {
   "cell_type": "markdown",
   "metadata": {},
   "source": [
    "## 3.5 company"
   ]
  },
  {
   "cell_type": "code",
   "execution_count": 47,
   "metadata": {},
   "outputs": [
    {
     "data": {
      "image/png": "[encoded data removed]",
      "text/plain": [
       "<Figure size 432x288 with 1 Axes>"
      ]
     },
     "metadata": {
      "needs_background": "light"
     },
     "output_type": "display_data"
    }
   ],
   "source": [
    "sns.barplot(x=\"company\",y=\"salary_avg\",data=df);"
   ]
  },
  {
   "cell_type": "code",
   "execution_count": 48,
   "metadata": {},
   "outputs": [],
   "source": [
    "company_5=[\"美团\",\"字节跳动\",\"快手\",\"滴滴\",\"百度\"]\n",
    "dfcom5=df[df.company.isin(company_5)]"
   ]
  },
  {
   "cell_type": "code",
   "execution_count": 49,
   "metadata": {},
   "outputs": [
    {
     "data": {
      "image/png": "[encoded data removed]",
      "text/plain": [
       "<Figure size 432x288 with 1 Axes>"
      ]
     },
     "metadata": {
      "needs_background": "light"
     },
     "output_type": "display_data"
    }
   ],
   "source": [
    "sns.barplot(x=\"company\",y=\"salary_avg\",data=dfcom5);"
   ]
  },
  {
   "cell_type": "markdown",
   "metadata": {},
   "source": [
    "    ·5家公司给出的平均工资相差不大\n",
    "    ·其中最高的是字节跳动，其次是美团和百度"
   ]
  },
  {
   "cell_type": "markdown",
   "metadata": {},
   "source": [
    "## 3.6 sort"
   ]
  },
  {
   "cell_type": "code",
   "execution_count": 50,
   "metadata": {},
   "outputs": [],
   "source": [
    "sort_5=[\"消费生活\",\"文娱丨内容\",\"移动互联网\",\"工具\",\"汽车丨出行\"]\n",
    "dfsort5=df[df.sort.isin(sort_5)]"
   ]
  },
  {
   "cell_type": "code",
   "execution_count": 51,
   "metadata": {},
   "outputs": [
    {
     "data": {
      "image/png": "[encoded data removed]",
      "text/plain": [
       "<Figure size 432x288 with 1 Axes>"
      ]
     },
     "metadata": {
      "needs_background": "light"
     },
     "output_type": "display_data"
    }
   ],
   "source": [
    "sns.barplot(x=\"sort\",y=\"salary_avg\",data=dfsort5);"
   ]
  },
  {
   "cell_type": "markdown",
   "metadata": {},
   "source": [
    "    ·5种类型的公司的平均工资也差距不大\n",
    "    ·最高的是消费生活和文艺&内容\n",
    "    ·工具、汽车&出行和移动互联网的平均工资接近"
   ]
  },
  {
   "cell_type": "markdown",
   "metadata": {},
   "source": [
    "# 4.总结"
   ]
  },
  {
   "cell_type": "markdown",
   "metadata": {},
   "source": [
    "    综上所述，有：\n",
    "    ·最低工资集中在15k-30k之间，最高工资集中分布在25k-50k之间，平均工资集中分布在20k-45k之间\n",
    "    ·美团对商业分析师的需求最大，放出约70个商业分析相关的岗位，约是第二名的两倍，其次是字节跳动、快手、滴滴以及百度等互联网公司\n",
    "    ·绝大多数岗位要求有3-5年的工作经验，不限经验的和要求有5-10年工作经验的差不多，要求工作经验在1年一下和10年以上的几乎没有\n",
    "    ·绝大多数岗位只要求拥有本科学历即可\n",
    "    ·消费生活类的公司放出的岗位最多，超过70个，其次是文娱&内容，放出超过50个岗位，移动互联网、工具和汽车&出行放出的岗位数量接近，约为20个\n",
    "    ·放出岗位最多的是上市公司和在D轮融资以上的公司，分别放出约120和80个岗位\n",
    "\n",
    "    ·要求工作经验在10年以上的岗位的平均工资均最高，其次是要求工作经验5-10年的岗位\n",
    "    ·而要求工作经验3-5年的工资反而没有不限经验的高\n",
    "    ·各个对本科和不限学历的岗位平均工资相近，仅招收应届生的岗位平均工资最低\n",
    "    ·大公司给出的平均薪资并不显著高，而小公司类别内的平均工资相差极大，最高超过70k，最低仅有不到5k\n",
    "    ·未融资的公司的岗位的平均薪资最高，但极差也最大，上市公司和融资D轮以上公司的岗位的平均薪资接近，在30k左右，融资B轮和不需要融资公司的岗位的平均薪资接近，在25k左右\n",
    "    ·放出岗位数量排名前5的公司给出的平均工资相差不大，其中最高的是字节跳动，其次是美团和百度\n",
    "    ·对于公司类型，平均工资最高的是消费生活和文艺&内容类，工具、汽车&出行和移动互联网类的岗位的平均工资接近"
   ]
  }
 ],
 "metadata": {
  "kernelspec": {
   "display_name": "Python 3",
   "language": "python",
   "name": "python3"
  },
  "language_info": {
   "codemirror_mode": {
    "name": "ipython",
    "version": 3
   },
   "file_extension": ".py",
   "mimetype": "text/x-python",
   "name": "python",
   "nbconvert_exporter": "python",
   "pygments_lexer": "ipython3",
   "version": "3.8.5"
  }
 },
 "nbformat": 4,
 "nbformat_minor": 4
}
