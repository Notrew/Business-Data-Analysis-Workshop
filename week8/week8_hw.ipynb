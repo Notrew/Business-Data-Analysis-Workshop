{
 "cells": [
  {
   "cell_type": "code",
   "execution_count": 1,
   "metadata": {},
   "outputs": [],
   "source": [
    "import pandas as pd\n",
    "import numpy as np\n",
    "import seaborn as sns\n",
    "import matplotlib as plt\n",
    "%matplotlib inline"
   ]
  },
  {
   "cell_type": "markdown",
   "metadata": {},
   "source": [
    "# 1.数据概览"
   ]
  },
  {
   "cell_type": "code",
   "execution_count": 2,
   "metadata": {},
   "outputs": [],
   "source": [
    "df=pd.read_csv(\"./mobike.csv\")"
   ]
  },
  {
   "cell_type": "code",
   "execution_count": 3,
   "metadata": {},
   "outputs": [
    {
     "data": {
      "text/html": [
       "<div>\n",
       "<style scoped>\n",
       "    .dataframe tbody tr th:only-of-type {\n",
       "        vertical-align: middle;\n",
       "    }\n",
       "\n",
       "    .dataframe tbody tr th {\n",
       "        vertical-align: top;\n",
       "    }\n",
       "\n",
       "    .dataframe thead th {\n",
       "        text-align: right;\n",
       "    }\n",
       "</style>\n",
       "<table border=\"1\" class=\"dataframe\">\n",
       "  <thead>\n",
       "    <tr style=\"text-align: right;\">\n",
       "      <th></th>\n",
       "      <th>Unnamed: 0</th>\n",
       "      <th>user_id</th>\n",
       "      <th>start_time</th>\n",
       "      <th>end_time</th>\n",
       "      <th>timeduration</th>\n",
       "      <th>bikeid</th>\n",
       "      <th>tripduration</th>\n",
       "      <th>from_station_id</th>\n",
       "      <th>from_station_name</th>\n",
       "      <th>to_station_id</th>\n",
       "      <th>to_station_name</th>\n",
       "      <th>usertype</th>\n",
       "      <th>gender</th>\n",
       "      <th>birthyear</th>\n",
       "      <th>age</th>\n",
       "    </tr>\n",
       "  </thead>\n",
       "  <tbody>\n",
       "    <tr>\n",
       "      <th>0</th>\n",
       "      <td>439283</td>\n",
       "      <td>21499218</td>\n",
       "      <td>11/14/2018 7:37</td>\n",
       "      <td>11/14/2018 7:44</td>\n",
       "      <td>7</td>\n",
       "      <td>2631</td>\n",
       "      <td>436</td>\n",
       "      <td>319</td>\n",
       "      <td>Greenview Ave &amp; Diversey Pkwy</td>\n",
       "      <td>67</td>\n",
       "      <td>Sheffield Ave &amp; Fullerton Ave</td>\n",
       "      <td>Subscriber</td>\n",
       "      <td>Male</td>\n",
       "      <td>1982.0</td>\n",
       "      <td>37</td>\n",
       "    </tr>\n",
       "    <tr>\n",
       "      <th>1</th>\n",
       "      <td>603317</td>\n",
       "      <td>21694389</td>\n",
       "      <td>12/18/2018 19:02</td>\n",
       "      <td>12/18/2018 19:10</td>\n",
       "      <td>7</td>\n",
       "      <td>1565</td>\n",
       "      <td>445</td>\n",
       "      <td>164</td>\n",
       "      <td>Franklin St &amp; Lake St</td>\n",
       "      <td>195</td>\n",
       "      <td>Columbus Dr &amp; Randolph St</td>\n",
       "      <td>Subscriber</td>\n",
       "      <td>Male</td>\n",
       "      <td>1988.0</td>\n",
       "      <td>31</td>\n",
       "    </tr>\n",
       "    <tr>\n",
       "      <th>2</th>\n",
       "      <td>109957</td>\n",
       "      <td>21110722</td>\n",
       "      <td>10/9/2018 12:37</td>\n",
       "      <td>10/9/2018 12:55</td>\n",
       "      <td>18</td>\n",
       "      <td>2231</td>\n",
       "      <td>1090</td>\n",
       "      <td>163</td>\n",
       "      <td>Damen Ave &amp; Clybourn Ave</td>\n",
       "      <td>69</td>\n",
       "      <td>Damen Ave &amp; Pierce Ave</td>\n",
       "      <td>Customer</td>\n",
       "      <td>Male</td>\n",
       "      <td>1989.0</td>\n",
       "      <td>30</td>\n",
       "    </tr>\n",
       "    <tr>\n",
       "      <th>3</th>\n",
       "      <td>428082</td>\n",
       "      <td>21485409</td>\n",
       "      <td>11/12/2018 12:30</td>\n",
       "      <td>11/12/2018 12:40</td>\n",
       "      <td>9</td>\n",
       "      <td>4226</td>\n",
       "      <td>581</td>\n",
       "      <td>226</td>\n",
       "      <td>Racine Ave &amp; Belmont Ave</td>\n",
       "      <td>308</td>\n",
       "      <td>Seeley Ave &amp; Roscoe St</td>\n",
       "      <td>Subscriber</td>\n",
       "      <td>Female</td>\n",
       "      <td>1989.0</td>\n",
       "      <td>30</td>\n",
       "    </tr>\n",
       "    <tr>\n",
       "      <th>4</th>\n",
       "      <td>395437</td>\n",
       "      <td>21445994</td>\n",
       "      <td>11/7/2018 7:29</td>\n",
       "      <td>11/7/2018 7:35</td>\n",
       "      <td>6</td>\n",
       "      <td>3475</td>\n",
       "      <td>390</td>\n",
       "      <td>77</td>\n",
       "      <td>Clinton St &amp; Madison St</td>\n",
       "      <td>621</td>\n",
       "      <td>Aberdeen St &amp; Randolph St</td>\n",
       "      <td>Subscriber</td>\n",
       "      <td>Male</td>\n",
       "      <td>1979.0</td>\n",
       "      <td>40</td>\n",
       "    </tr>\n",
       "  </tbody>\n",
       "</table>\n",
       "</div>"
      ],
      "text/plain": [
       "   Unnamed: 0   user_id        start_time          end_time  timeduration  \\\n",
       "0      439283  21499218   11/14/2018 7:37   11/14/2018 7:44             7   \n",
       "1      603317  21694389  12/18/2018 19:02  12/18/2018 19:10             7   \n",
       "2      109957  21110722   10/9/2018 12:37   10/9/2018 12:55            18   \n",
       "3      428082  21485409  11/12/2018 12:30  11/12/2018 12:40             9   \n",
       "4      395437  21445994    11/7/2018 7:29    11/7/2018 7:35             6   \n",
       "\n",
       "   bikeid  tripduration  from_station_id              from_station_name  \\\n",
       "0    2631           436              319  Greenview Ave & Diversey Pkwy   \n",
       "1    1565           445              164          Franklin St & Lake St   \n",
       "2    2231          1090              163       Damen Ave & Clybourn Ave   \n",
       "3    4226           581              226       Racine Ave & Belmont Ave   \n",
       "4    3475           390               77        Clinton St & Madison St   \n",
       "\n",
       "   to_station_id                to_station_name    usertype  gender  \\\n",
       "0             67  Sheffield Ave & Fullerton Ave  Subscriber    Male   \n",
       "1            195      Columbus Dr & Randolph St  Subscriber    Male   \n",
       "2             69         Damen Ave & Pierce Ave    Customer    Male   \n",
       "3            308         Seeley Ave & Roscoe St  Subscriber  Female   \n",
       "4            621      Aberdeen St & Randolph St  Subscriber    Male   \n",
       "\n",
       "   birthyear age  \n",
       "0     1982.0  37  \n",
       "1     1988.0  31  \n",
       "2     1989.0  30  \n",
       "3     1989.0  30  \n",
       "4     1979.0  40  "
      ]
     },
     "execution_count": 3,
     "metadata": {},
     "output_type": "execute_result"
    }
   ],
   "source": [
    "df.head()"
   ]
  },
  {
   "cell_type": "markdown",
   "metadata": {},
   "source": [
    "    有unnamed的列，实际意义为索引"
   ]
  },
  {
   "cell_type": "code",
   "execution_count": 4,
   "metadata": {},
   "outputs": [],
   "source": [
    "#指定索引列\n",
    "df=pd.read_csv(\"./mobike.csv\",index_col=0)"
   ]
  },
  {
   "cell_type": "code",
   "execution_count": 5,
   "metadata": {},
   "outputs": [
    {
     "data": {
      "text/html": [
       "<div>\n",
       "<style scoped>\n",
       "    .dataframe tbody tr th:only-of-type {\n",
       "        vertical-align: middle;\n",
       "    }\n",
       "\n",
       "    .dataframe tbody tr th {\n",
       "        vertical-align: top;\n",
       "    }\n",
       "\n",
       "    .dataframe thead th {\n",
       "        text-align: right;\n",
       "    }\n",
       "</style>\n",
       "<table border=\"1\" class=\"dataframe\">\n",
       "  <thead>\n",
       "    <tr style=\"text-align: right;\">\n",
       "      <th></th>\n",
       "      <th>user_id</th>\n",
       "      <th>start_time</th>\n",
       "      <th>end_time</th>\n",
       "      <th>timeduration</th>\n",
       "      <th>bikeid</th>\n",
       "      <th>tripduration</th>\n",
       "      <th>from_station_id</th>\n",
       "      <th>from_station_name</th>\n",
       "      <th>to_station_id</th>\n",
       "      <th>to_station_name</th>\n",
       "      <th>usertype</th>\n",
       "      <th>gender</th>\n",
       "      <th>birthyear</th>\n",
       "      <th>age</th>\n",
       "    </tr>\n",
       "  </thead>\n",
       "  <tbody>\n",
       "    <tr>\n",
       "      <th>439283</th>\n",
       "      <td>21499218</td>\n",
       "      <td>11/14/2018 7:37</td>\n",
       "      <td>11/14/2018 7:44</td>\n",
       "      <td>7</td>\n",
       "      <td>2631</td>\n",
       "      <td>436</td>\n",
       "      <td>319</td>\n",
       "      <td>Greenview Ave &amp; Diversey Pkwy</td>\n",
       "      <td>67</td>\n",
       "      <td>Sheffield Ave &amp; Fullerton Ave</td>\n",
       "      <td>Subscriber</td>\n",
       "      <td>Male</td>\n",
       "      <td>1982.0</td>\n",
       "      <td>37</td>\n",
       "    </tr>\n",
       "    <tr>\n",
       "      <th>603317</th>\n",
       "      <td>21694389</td>\n",
       "      <td>12/18/2018 19:02</td>\n",
       "      <td>12/18/2018 19:10</td>\n",
       "      <td>7</td>\n",
       "      <td>1565</td>\n",
       "      <td>445</td>\n",
       "      <td>164</td>\n",
       "      <td>Franklin St &amp; Lake St</td>\n",
       "      <td>195</td>\n",
       "      <td>Columbus Dr &amp; Randolph St</td>\n",
       "      <td>Subscriber</td>\n",
       "      <td>Male</td>\n",
       "      <td>1988.0</td>\n",
       "      <td>31</td>\n",
       "    </tr>\n",
       "    <tr>\n",
       "      <th>109957</th>\n",
       "      <td>21110722</td>\n",
       "      <td>10/9/2018 12:37</td>\n",
       "      <td>10/9/2018 12:55</td>\n",
       "      <td>18</td>\n",
       "      <td>2231</td>\n",
       "      <td>1090</td>\n",
       "      <td>163</td>\n",
       "      <td>Damen Ave &amp; Clybourn Ave</td>\n",
       "      <td>69</td>\n",
       "      <td>Damen Ave &amp; Pierce Ave</td>\n",
       "      <td>Customer</td>\n",
       "      <td>Male</td>\n",
       "      <td>1989.0</td>\n",
       "      <td>30</td>\n",
       "    </tr>\n",
       "    <tr>\n",
       "      <th>428082</th>\n",
       "      <td>21485409</td>\n",
       "      <td>11/12/2018 12:30</td>\n",
       "      <td>11/12/2018 12:40</td>\n",
       "      <td>9</td>\n",
       "      <td>4226</td>\n",
       "      <td>581</td>\n",
       "      <td>226</td>\n",
       "      <td>Racine Ave &amp; Belmont Ave</td>\n",
       "      <td>308</td>\n",
       "      <td>Seeley Ave &amp; Roscoe St</td>\n",
       "      <td>Subscriber</td>\n",
       "      <td>Female</td>\n",
       "      <td>1989.0</td>\n",
       "      <td>30</td>\n",
       "    </tr>\n",
       "    <tr>\n",
       "      <th>395437</th>\n",
       "      <td>21445994</td>\n",
       "      <td>11/7/2018 7:29</td>\n",
       "      <td>11/7/2018 7:35</td>\n",
       "      <td>6</td>\n",
       "      <td>3475</td>\n",
       "      <td>390</td>\n",
       "      <td>77</td>\n",
       "      <td>Clinton St &amp; Madison St</td>\n",
       "      <td>621</td>\n",
       "      <td>Aberdeen St &amp; Randolph St</td>\n",
       "      <td>Subscriber</td>\n",
       "      <td>Male</td>\n",
       "      <td>1979.0</td>\n",
       "      <td>40</td>\n",
       "    </tr>\n",
       "  </tbody>\n",
       "</table>\n",
       "</div>"
      ],
      "text/plain": [
       "         user_id        start_time          end_time  timeduration  bikeid  \\\n",
       "439283  21499218   11/14/2018 7:37   11/14/2018 7:44             7    2631   \n",
       "603317  21694389  12/18/2018 19:02  12/18/2018 19:10             7    1565   \n",
       "109957  21110722   10/9/2018 12:37   10/9/2018 12:55            18    2231   \n",
       "428082  21485409  11/12/2018 12:30  11/12/2018 12:40             9    4226   \n",
       "395437  21445994    11/7/2018 7:29    11/7/2018 7:35             6    3475   \n",
       "\n",
       "        tripduration  from_station_id              from_station_name  \\\n",
       "439283           436              319  Greenview Ave & Diversey Pkwy   \n",
       "603317           445              164          Franklin St & Lake St   \n",
       "109957          1090              163       Damen Ave & Clybourn Ave   \n",
       "428082           581              226       Racine Ave & Belmont Ave   \n",
       "395437           390               77        Clinton St & Madison St   \n",
       "\n",
       "        to_station_id                to_station_name    usertype  gender  \\\n",
       "439283             67  Sheffield Ave & Fullerton Ave  Subscriber    Male   \n",
       "603317            195      Columbus Dr & Randolph St  Subscriber    Male   \n",
       "109957             69         Damen Ave & Pierce Ave    Customer    Male   \n",
       "428082            308         Seeley Ave & Roscoe St  Subscriber  Female   \n",
       "395437            621      Aberdeen St & Randolph St  Subscriber    Male   \n",
       "\n",
       "        birthyear age  \n",
       "439283     1982.0  37  \n",
       "603317     1988.0  31  \n",
       "109957     1989.0  30  \n",
       "428082     1989.0  30  \n",
       "395437     1979.0  40  "
      ]
     },
     "execution_count": 5,
     "metadata": {},
     "output_type": "execute_result"
    }
   ],
   "source": [
    "df.head()"
   ]
  },
  {
   "cell_type": "code",
   "execution_count": 6,
   "metadata": {},
   "outputs": [
    {
     "data": {
      "text/plain": [
       "(6427, 14)"
      ]
     },
     "execution_count": 6,
     "metadata": {},
     "output_type": "execute_result"
    }
   ],
   "source": [
    "df.shape"
   ]
  },
  {
   "cell_type": "code",
   "execution_count": 7,
   "metadata": {
    "scrolled": true
   },
   "outputs": [
    {
     "name": "stdout",
     "output_type": "stream",
     "text": [
      "<class 'pandas.core.frame.DataFrame'>\n",
      "Int64Index: 6427 entries, 439283 to 278179\n",
      "Data columns (total 14 columns):\n",
      " #   Column             Non-Null Count  Dtype  \n",
      "---  ------             --------------  -----  \n",
      " 0   user_id            6427 non-null   int64  \n",
      " 1   start_time         6427 non-null   object \n",
      " 2   end_time           6427 non-null   object \n",
      " 3   timeduration       6427 non-null   int64  \n",
      " 4   bikeid             6427 non-null   int64  \n",
      " 5   tripduration       6427 non-null   int64  \n",
      " 6   from_station_id    6427 non-null   int64  \n",
      " 7   from_station_name  6427 non-null   object \n",
      " 8   to_station_id      6427 non-null   int64  \n",
      " 9   to_station_name    6427 non-null   object \n",
      " 10  usertype           6427 non-null   object \n",
      " 11  gender             5938 non-null   object \n",
      " 12  birthyear          5956 non-null   float64\n",
      " 13  age                6427 non-null   object \n",
      "dtypes: float64(1), int64(6), object(7)\n",
      "memory usage: 753.2+ KB\n"
     ]
    }
   ],
   "source": [
    "df.info()"
   ]
  },
  {
   "cell_type": "markdown",
   "metadata": {},
   "source": [
    "![jupyter](.\\var.png)"
   ]
  },
  {
   "cell_type": "markdown",
   "metadata": {},
   "source": [
    "    ·start_time和end_time是object，需要转换为日期时间格式\n",
    "    ·usertype和gender需要转换为dummy型\n",
    "    ·age需要转化为数值型\n",
    "    \n",
    "    ·gender和birthyear有缺失值，但是birthyear与age意义相同，不对birthyear做处理"
   ]
  },
  {
   "cell_type": "code",
   "execution_count": 8,
   "metadata": {},
   "outputs": [
    {
     "data": {
      "text/html": [
       "<div>\n",
       "<style scoped>\n",
       "    .dataframe tbody tr th:only-of-type {\n",
       "        vertical-align: middle;\n",
       "    }\n",
       "\n",
       "    .dataframe tbody tr th {\n",
       "        vertical-align: top;\n",
       "    }\n",
       "\n",
       "    .dataframe thead th {\n",
       "        text-align: right;\n",
       "    }\n",
       "</style>\n",
       "<table border=\"1\" class=\"dataframe\">\n",
       "  <thead>\n",
       "    <tr style=\"text-align: right;\">\n",
       "      <th></th>\n",
       "      <th>user_id</th>\n",
       "      <th>timeduration</th>\n",
       "      <th>bikeid</th>\n",
       "      <th>tripduration</th>\n",
       "      <th>from_station_id</th>\n",
       "      <th>to_station_id</th>\n",
       "      <th>birthyear</th>\n",
       "    </tr>\n",
       "  </thead>\n",
       "  <tbody>\n",
       "    <tr>\n",
       "      <th>count</th>\n",
       "      <td>6.427000e+03</td>\n",
       "      <td>6427.000000</td>\n",
       "      <td>6427.000000</td>\n",
       "      <td>6.427000e+03</td>\n",
       "      <td>6427.000000</td>\n",
       "      <td>6427.000000</td>\n",
       "      <td>5956.000000</td>\n",
       "    </tr>\n",
       "    <tr>\n",
       "      <th>mean</th>\n",
       "      <td>2.135519e+07</td>\n",
       "      <td>11.778902</td>\n",
       "      <td>3491.637934</td>\n",
       "      <td>1.060471e+03</td>\n",
       "      <td>195.038432</td>\n",
       "      <td>198.502567</td>\n",
       "      <td>1982.488583</td>\n",
       "    </tr>\n",
       "    <tr>\n",
       "      <th>std</th>\n",
       "      <td>2.181294e+05</td>\n",
       "      <td>9.692236</td>\n",
       "      <td>1912.171846</td>\n",
       "      <td>1.456811e+04</td>\n",
       "      <td>148.170025</td>\n",
       "      <td>148.939873</td>\n",
       "      <td>11.147859</td>\n",
       "    </tr>\n",
       "    <tr>\n",
       "      <th>min</th>\n",
       "      <td>2.098358e+07</td>\n",
       "      <td>0.000000</td>\n",
       "      <td>2.000000</td>\n",
       "      <td>6.100000e+01</td>\n",
       "      <td>2.000000</td>\n",
       "      <td>2.000000</td>\n",
       "      <td>1906.000000</td>\n",
       "    </tr>\n",
       "    <tr>\n",
       "      <th>25%</th>\n",
       "      <td>2.116805e+07</td>\n",
       "      <td>5.000000</td>\n",
       "      <td>1852.000000</td>\n",
       "      <td>3.490000e+02</td>\n",
       "      <td>77.000000</td>\n",
       "      <td>80.000000</td>\n",
       "      <td>1977.000000</td>\n",
       "    </tr>\n",
       "    <tr>\n",
       "      <th>50%</th>\n",
       "      <td>2.135114e+07</td>\n",
       "      <td>9.000000</td>\n",
       "      <td>3618.000000</td>\n",
       "      <td>5.590000e+02</td>\n",
       "      <td>168.000000</td>\n",
       "      <td>172.000000</td>\n",
       "      <td>1986.000000</td>\n",
       "    </tr>\n",
       "    <tr>\n",
       "      <th>75%</th>\n",
       "      <td>2.154376e+07</td>\n",
       "      <td>15.000000</td>\n",
       "      <td>5179.500000</td>\n",
       "      <td>9.320000e+02</td>\n",
       "      <td>287.000000</td>\n",
       "      <td>287.000000</td>\n",
       "      <td>1991.000000</td>\n",
       "    </tr>\n",
       "    <tr>\n",
       "      <th>max</th>\n",
       "      <td>2.174223e+07</td>\n",
       "      <td>59.000000</td>\n",
       "      <td>6470.000000</td>\n",
       "      <td>1.139070e+06</td>\n",
       "      <td>662.000000</td>\n",
       "      <td>661.000000</td>\n",
       "      <td>2002.000000</td>\n",
       "    </tr>\n",
       "  </tbody>\n",
       "</table>\n",
       "</div>"
      ],
      "text/plain": [
       "            user_id  timeduration       bikeid  tripduration  from_station_id  \\\n",
       "count  6.427000e+03   6427.000000  6427.000000  6.427000e+03      6427.000000   \n",
       "mean   2.135519e+07     11.778902  3491.637934  1.060471e+03       195.038432   \n",
       "std    2.181294e+05      9.692236  1912.171846  1.456811e+04       148.170025   \n",
       "min    2.098358e+07      0.000000     2.000000  6.100000e+01         2.000000   \n",
       "25%    2.116805e+07      5.000000  1852.000000  3.490000e+02        77.000000   \n",
       "50%    2.135114e+07      9.000000  3618.000000  5.590000e+02       168.000000   \n",
       "75%    2.154376e+07     15.000000  5179.500000  9.320000e+02       287.000000   \n",
       "max    2.174223e+07     59.000000  6470.000000  1.139070e+06       662.000000   \n",
       "\n",
       "       to_station_id    birthyear  \n",
       "count    6427.000000  5956.000000  \n",
       "mean      198.502567  1982.488583  \n",
       "std       148.939873    11.147859  \n",
       "min         2.000000  1906.000000  \n",
       "25%        80.000000  1977.000000  \n",
       "50%       172.000000  1986.000000  \n",
       "75%       287.000000  1991.000000  \n",
       "max       661.000000  2002.000000  "
      ]
     },
     "execution_count": 8,
     "metadata": {},
     "output_type": "execute_result"
    }
   ],
   "source": [
    "df.describe()"
   ]
  },
  {
   "cell_type": "markdown",
   "metadata": {},
   "source": [
    "    ·birthyear有异常值，用age验证\n",
    "    ·timeduration最小值为0，需要关注"
   ]
  },
  {
   "cell_type": "code",
   "execution_count": 9,
   "metadata": {},
   "outputs": [
    {
     "data": {
      "text/plain": [
       "0"
      ]
     },
     "execution_count": 9,
     "metadata": {},
     "output_type": "execute_result"
    }
   ],
   "source": [
    "#检查是否有重复数据\n",
    "sum(df.duplicated())"
   ]
  },
  {
   "cell_type": "markdown",
   "metadata": {},
   "source": [
    "# 2.数据处理"
   ]
  },
  {
   "cell_type": "markdown",
   "metadata": {},
   "source": [
    "## 2.1检查use_id有无重复值"
   ]
  },
  {
   "cell_type": "code",
   "execution_count": 10,
   "metadata": {},
   "outputs": [
    {
     "data": {
      "text/plain": [
       "6427"
      ]
     },
     "execution_count": 10,
     "metadata": {},
     "output_type": "execute_result"
    }
   ],
   "source": [
    "df.user_id.nunique()"
   ]
  },
  {
   "cell_type": "markdown",
   "metadata": {},
   "source": [
    "    ·无重复值"
   ]
  },
  {
   "cell_type": "markdown",
   "metadata": {},
   "source": [
    "## 2.2数据类型转换以及提取新数据"
   ]
  },
  {
   "cell_type": "markdown",
   "metadata": {},
   "source": [
    "### 2.2.1 starttime"
   ]
  },
  {
   "cell_type": "code",
   "execution_count": 11,
   "metadata": {},
   "outputs": [],
   "source": [
    "#因为有timeduration，所以只用关注start_time\n",
    "df[\"start_time\"]=pd.to_datetime(df[\"start_time\"])"
   ]
  },
  {
   "cell_type": "code",
   "execution_count": 12,
   "metadata": {},
   "outputs": [
    {
     "data": {
      "text/plain": [
       "array([2018], dtype=int64)"
      ]
     },
     "execution_count": 12,
     "metadata": {},
     "output_type": "execute_result"
    }
   ],
   "source": [
    "df[\"start_time\"].dt.year.unique()"
   ]
  },
  {
   "cell_type": "markdown",
   "metadata": {},
   "source": [
    "    ·表明全部是2018年的数据"
   ]
  },
  {
   "cell_type": "code",
   "execution_count": 13,
   "metadata": {},
   "outputs": [
    {
     "data": {
      "text/plain": [
       "array([11, 12, 10], dtype=int64)"
      ]
     },
     "execution_count": 13,
     "metadata": {},
     "output_type": "execute_result"
    }
   ],
   "source": [
    "df[\"start_time\"].dt.month.unique()"
   ]
  },
  {
   "cell_type": "markdown",
   "metadata": {},
   "source": [
    "    ·表明只有第四季度的数据\n",
    "    ·故选择提取星期和小时作为新数据"
   ]
  },
  {
   "cell_type": "code",
   "execution_count": 14,
   "metadata": {},
   "outputs": [],
   "source": [
    "df[\"dayofweek\"]=df[\"start_time\"].dt.dayofweek\n",
    "df[\"hour\"]=df[\"start_time\"].dt.hour"
   ]
  },
  {
   "cell_type": "markdown",
   "metadata": {},
   "source": [
    "### 2.2.2 timeduration"
   ]
  },
  {
   "cell_type": "code",
   "execution_count": 15,
   "metadata": {},
   "outputs": [
    {
     "data": {
      "text/plain": [
       "count    6427.000000\n",
       "mean       11.778902\n",
       "std         9.692236\n",
       "min         0.000000\n",
       "25%         5.000000\n",
       "50%         9.000000\n",
       "75%        15.000000\n",
       "max        59.000000\n",
       "Name: timeduration, dtype: float64"
      ]
     },
     "execution_count": 15,
     "metadata": {},
     "output_type": "execute_result"
    }
   ],
   "source": [
    "df[\"timeduration\"].describe()"
   ]
  },
  {
   "cell_type": "code",
   "execution_count": 16,
   "metadata": {},
   "outputs": [
    {
     "data": {
      "text/html": [
       "<div>\n",
       "<style scoped>\n",
       "    .dataframe tbody tr th:only-of-type {\n",
       "        vertical-align: middle;\n",
       "    }\n",
       "\n",
       "    .dataframe tbody tr th {\n",
       "        vertical-align: top;\n",
       "    }\n",
       "\n",
       "    .dataframe thead th {\n",
       "        text-align: right;\n",
       "    }\n",
       "</style>\n",
       "<table border=\"1\" class=\"dataframe\">\n",
       "  <thead>\n",
       "    <tr style=\"text-align: right;\">\n",
       "      <th></th>\n",
       "      <th>user_id</th>\n",
       "      <th>start_time</th>\n",
       "      <th>end_time</th>\n",
       "      <th>timeduration</th>\n",
       "      <th>bikeid</th>\n",
       "      <th>tripduration</th>\n",
       "      <th>from_station_id</th>\n",
       "      <th>from_station_name</th>\n",
       "      <th>to_station_id</th>\n",
       "      <th>to_station_name</th>\n",
       "      <th>usertype</th>\n",
       "      <th>gender</th>\n",
       "      <th>birthyear</th>\n",
       "      <th>age</th>\n",
       "      <th>dayofweek</th>\n",
       "      <th>hour</th>\n",
       "    </tr>\n",
       "  </thead>\n",
       "  <tbody>\n",
       "    <tr>\n",
       "      <th>109113</th>\n",
       "      <td>21109759</td>\n",
       "      <td>2018-10-09 11:29:00</td>\n",
       "      <td>10/9/2018 12:29</td>\n",
       "      <td>0</td>\n",
       "      <td>4875</td>\n",
       "      <td>3616</td>\n",
       "      <td>225</td>\n",
       "      <td>Halsted St &amp; Dickens Ave</td>\n",
       "      <td>172</td>\n",
       "      <td>Rush St &amp; Cedar St</td>\n",
       "      <td>Customer</td>\n",
       "      <td>NaN</td>\n",
       "      <td>NaN</td>\n",
       "      <td></td>\n",
       "      <td>1</td>\n",
       "      <td>11</td>\n",
       "    </tr>\n",
       "    <tr>\n",
       "      <th>72232</th>\n",
       "      <td>21067313</td>\n",
       "      <td>2018-10-06 10:15:00</td>\n",
       "      <td>10/6/2018 11:15</td>\n",
       "      <td>0</td>\n",
       "      <td>4733</td>\n",
       "      <td>3606</td>\n",
       "      <td>419</td>\n",
       "      <td>Lake Park Ave &amp; 53rd St</td>\n",
       "      <td>76</td>\n",
       "      <td>Lake Shore Dr &amp; Monroe St</td>\n",
       "      <td>Customer</td>\n",
       "      <td>NaN</td>\n",
       "      <td>NaN</td>\n",
       "      <td></td>\n",
       "      <td>5</td>\n",
       "      <td>10</td>\n",
       "    </tr>\n",
       "    <tr>\n",
       "      <th>69595</th>\n",
       "      <td>21064115</td>\n",
       "      <td>2018-10-05 18:27:00</td>\n",
       "      <td>10/5/2018 19:28</td>\n",
       "      <td>0</td>\n",
       "      <td>2064</td>\n",
       "      <td>3650</td>\n",
       "      <td>50</td>\n",
       "      <td>Clark St &amp; Congress Pkwy</td>\n",
       "      <td>283</td>\n",
       "      <td>LaSalle St &amp; Jackson Blvd</td>\n",
       "      <td>Customer</td>\n",
       "      <td>Male</td>\n",
       "      <td>1989.0</td>\n",
       "      <td>30</td>\n",
       "      <td>4</td>\n",
       "      <td>18</td>\n",
       "    </tr>\n",
       "    <tr>\n",
       "      <th>302629</th>\n",
       "      <td>21336986</td>\n",
       "      <td>2018-10-27 15:33:00</td>\n",
       "      <td>10/27/2018 16:34</td>\n",
       "      <td>0</td>\n",
       "      <td>5051</td>\n",
       "      <td>3634</td>\n",
       "      <td>3</td>\n",
       "      <td>Shedd Aquarium</td>\n",
       "      <td>199</td>\n",
       "      <td>Wabash Ave &amp; Grand Ave</td>\n",
       "      <td>Customer</td>\n",
       "      <td>NaN</td>\n",
       "      <td>NaN</td>\n",
       "      <td></td>\n",
       "      <td>5</td>\n",
       "      <td>15</td>\n",
       "    </tr>\n",
       "    <tr>\n",
       "      <th>592619</th>\n",
       "      <td>21681993</td>\n",
       "      <td>2018-12-17 09:17:00</td>\n",
       "      <td>12/17/2018 10:18</td>\n",
       "      <td>0</td>\n",
       "      <td>4316</td>\n",
       "      <td>3652</td>\n",
       "      <td>99</td>\n",
       "      <td>Lake Shore Dr &amp; Ohio St</td>\n",
       "      <td>96</td>\n",
       "      <td>Desplaines St &amp; Randolph St</td>\n",
       "      <td>Subscriber</td>\n",
       "      <td>Male</td>\n",
       "      <td>1988.0</td>\n",
       "      <td>31</td>\n",
       "      <td>0</td>\n",
       "      <td>9</td>\n",
       "    </tr>\n",
       "  </tbody>\n",
       "</table>\n",
       "</div>"
      ],
      "text/plain": [
       "         user_id          start_time          end_time  timeduration  bikeid  \\\n",
       "109113  21109759 2018-10-09 11:29:00   10/9/2018 12:29             0    4875   \n",
       "72232   21067313 2018-10-06 10:15:00   10/6/2018 11:15             0    4733   \n",
       "69595   21064115 2018-10-05 18:27:00   10/5/2018 19:28             0    2064   \n",
       "302629  21336986 2018-10-27 15:33:00  10/27/2018 16:34             0    5051   \n",
       "592619  21681993 2018-12-17 09:17:00  12/17/2018 10:18             0    4316   \n",
       "\n",
       "        tripduration  from_station_id         from_station_name  \\\n",
       "109113          3616              225  Halsted St & Dickens Ave   \n",
       "72232           3606              419   Lake Park Ave & 53rd St   \n",
       "69595           3650               50  Clark St & Congress Pkwy   \n",
       "302629          3634                3            Shedd Aquarium   \n",
       "592619          3652               99   Lake Shore Dr & Ohio St   \n",
       "\n",
       "        to_station_id              to_station_name    usertype gender  \\\n",
       "109113            172           Rush St & Cedar St    Customer    NaN   \n",
       "72232              76    Lake Shore Dr & Monroe St    Customer    NaN   \n",
       "69595             283    LaSalle St & Jackson Blvd    Customer   Male   \n",
       "302629            199       Wabash Ave & Grand Ave    Customer    NaN   \n",
       "592619             96  Desplaines St & Randolph St  Subscriber   Male   \n",
       "\n",
       "        birthyear age  dayofweek  hour  \n",
       "109113        NaN              1    11  \n",
       "72232         NaN              5    10  \n",
       "69595      1989.0  30          4    18  \n",
       "302629        NaN              5    15  \n",
       "592619     1988.0  31          0     9  "
      ]
     },
     "execution_count": 16,
     "metadata": {},
     "output_type": "execute_result"
    }
   ],
   "source": [
    "#查看异常数据\n",
    "df[df[\"timeduration\"]<1]"
   ]
  },
  {
   "cell_type": "markdown",
   "metadata": {},
   "source": [
    "    ·0实际上表明骑行了1小时"
   ]
  },
  {
   "cell_type": "code",
   "execution_count": 17,
   "metadata": {},
   "outputs": [],
   "source": [
    "df[\"timeduration\"]=df[\"timeduration\"].replace(0,60).astype(int)"
   ]
  },
  {
   "cell_type": "code",
   "execution_count": 18,
   "metadata": {},
   "outputs": [
    {
     "data": {
      "text/plain": [
       "count    6427.000000\n",
       "mean       11.825580\n",
       "std         9.779498\n",
       "min         1.000000\n",
       "25%         5.000000\n",
       "50%         9.000000\n",
       "75%        15.000000\n",
       "max        60.000000\n",
       "Name: timeduration, dtype: float64"
      ]
     },
     "execution_count": 18,
     "metadata": {},
     "output_type": "execute_result"
    }
   ],
   "source": [
    "df[\"timeduration\"].describe()"
   ]
  },
  {
   "cell_type": "markdown",
   "metadata": {},
   "source": [
    "### 2.2.3 tripduration"
   ]
  },
  {
   "cell_type": "code",
   "execution_count": 19,
   "metadata": {},
   "outputs": [
    {
     "data": {
      "image/png": "[encoded data removed]",
      "text/plain": [
       "<Figure size 432x288 with 1 Axes>"
      ]
     },
     "metadata": {
      "needs_background": "light"
     },
     "output_type": "display_data"
    }
   ],
   "source": [
    "df[\"tripduration\"].plot(kind=\"box\");"
   ]
  },
  {
   "cell_type": "markdown",
   "metadata": {},
   "source": [
    "    ·存在异常值，需要处理"
   ]
  },
  {
   "cell_type": "code",
   "execution_count": 20,
   "metadata": {},
   "outputs": [
    {
     "data": {
      "text/plain": [
       "count    6.427000e+03\n",
       "mean     1.060471e+03\n",
       "std      1.456811e+04\n",
       "min      6.100000e+01\n",
       "25%      3.490000e+02\n",
       "50%      5.590000e+02\n",
       "75%      9.320000e+02\n",
       "max      1.139070e+06\n",
       "Name: tripduration, dtype: float64"
      ]
     },
     "execution_count": 20,
     "metadata": {},
     "output_type": "execute_result"
    }
   ],
   "source": [
    "df[\"tripduration\"].describe()"
   ]
  },
  {
   "cell_type": "code",
   "execution_count": 21,
   "metadata": {},
   "outputs": [
    {
     "data": {
      "text/plain": [
       "349.0"
      ]
     },
     "execution_count": 21,
     "metadata": {},
     "output_type": "execute_result"
    }
   ],
   "source": [
    "df[\"tripduration\"].quantile(0.25)"
   ]
  },
  {
   "cell_type": "code",
   "execution_count": 22,
   "metadata": {},
   "outputs": [
    {
     "data": {
      "text/plain": [
       "1806.5"
      ]
     },
     "execution_count": 22,
     "metadata": {},
     "output_type": "execute_result"
    }
   ],
   "source": [
    "IQR=df[\"tripduration\"].quantile(0.75)-df[\"tripduration\"].quantile(0.25)\n",
    "Max=df[\"tripduration\"].quantile(0.75)+1.5*IQR\n",
    "Max"
   ]
  },
  {
   "cell_type": "code",
   "execution_count": 23,
   "metadata": {},
   "outputs": [],
   "source": [
    "df=df[df[\"tripduration\"]<=Max]"
   ]
  },
  {
   "cell_type": "markdown",
   "metadata": {},
   "source": [
    "### 2.2.4 station相关"
   ]
  },
  {
   "cell_type": "code",
   "execution_count": 24,
   "metadata": {},
   "outputs": [],
   "source": [
    "#将id从int更改为字符型\n",
    "df[\"from_station_id\"]=df[\"from_station_id\"].astype(str)\n",
    "df[\"to_station_id\"]=df[\"to_station_id\"].astype(str)"
   ]
  },
  {
   "cell_type": "markdown",
   "metadata": {},
   "source": [
    "### 2.2.5 usertype"
   ]
  },
  {
   "cell_type": "code",
   "execution_count": 25,
   "metadata": {},
   "outputs": [
    {
     "data": {
      "text/plain": [
       "array(['Subscriber', 'Customer'], dtype=object)"
      ]
     },
     "execution_count": 25,
     "metadata": {},
     "output_type": "execute_result"
    }
   ],
   "source": [
    "df.usertype.unique()"
   ]
  },
  {
   "cell_type": "markdown",
   "metadata": {},
   "source": [
    "### 2.2.6 age"
   ]
  },
  {
   "cell_type": "code",
   "execution_count": 26,
   "metadata": {},
   "outputs": [
    {
     "data": {
      "text/plain": [
       "array(['37', '31', '30', '40', '25', '48', ' ', '28', '27', '34', '33',\n",
       "       '26', '20', '23', '22', '54', '52', '57', '29', '39', '51', '55',\n",
       "       '32', '49', '58', '42', '61', '35', '41', '63', '50', '38', '36',\n",
       "       '43', '44', '19', '59', '45', '46', '56', '21', '24', '47', '66',\n",
       "       '64', '62', '77', '69', '60', '68', '70', '53', '113', '73', '18',\n",
       "       '67', '65', '71', '79', '17', '74', '72', '101'], dtype=object)"
      ]
     },
     "execution_count": 26,
     "metadata": {},
     "output_type": "execute_result"
    }
   ],
   "source": [
    "df.age.unique()"
   ]
  },
  {
   "cell_type": "code",
   "execution_count": 27,
   "metadata": {},
   "outputs": [
    {
     "data": {
      "text/html": [
       "<div>\n",
       "<style scoped>\n",
       "    .dataframe tbody tr th:only-of-type {\n",
       "        vertical-align: middle;\n",
       "    }\n",
       "\n",
       "    .dataframe tbody tr th {\n",
       "        vertical-align: top;\n",
       "    }\n",
       "\n",
       "    .dataframe thead th {\n",
       "        text-align: right;\n",
       "    }\n",
       "</style>\n",
       "<table border=\"1\" class=\"dataframe\">\n",
       "  <thead>\n",
       "    <tr style=\"text-align: right;\">\n",
       "      <th></th>\n",
       "      <th>user_id</th>\n",
       "      <th>start_time</th>\n",
       "      <th>end_time</th>\n",
       "      <th>timeduration</th>\n",
       "      <th>bikeid</th>\n",
       "      <th>tripduration</th>\n",
       "      <th>from_station_id</th>\n",
       "      <th>from_station_name</th>\n",
       "      <th>to_station_id</th>\n",
       "      <th>to_station_name</th>\n",
       "      <th>usertype</th>\n",
       "      <th>gender</th>\n",
       "      <th>birthyear</th>\n",
       "      <th>age</th>\n",
       "      <th>dayofweek</th>\n",
       "      <th>hour</th>\n",
       "    </tr>\n",
       "  </thead>\n",
       "  <tbody>\n",
       "    <tr>\n",
       "      <th>371796</th>\n",
       "      <td>21417733</td>\n",
       "      <td>2018-11-03 16:32:00</td>\n",
       "      <td>11/3/2018 16:54</td>\n",
       "      <td>22</td>\n",
       "      <td>983</td>\n",
       "      <td>1347</td>\n",
       "      <td>31</td>\n",
       "      <td>Franklin St &amp; Chicago Ave</td>\n",
       "      <td>315</td>\n",
       "      <td>Elston Ave &amp; Wabansia Ave</td>\n",
       "      <td>Customer</td>\n",
       "      <td>NaN</td>\n",
       "      <td>NaN</td>\n",
       "      <td></td>\n",
       "      <td>5</td>\n",
       "      <td>16</td>\n",
       "    </tr>\n",
       "    <tr>\n",
       "      <th>92242</th>\n",
       "      <td>21090205</td>\n",
       "      <td>2018-10-08 12:10:00</td>\n",
       "      <td>10/8/2018 12:18</td>\n",
       "      <td>7</td>\n",
       "      <td>1582</td>\n",
       "      <td>453</td>\n",
       "      <td>341</td>\n",
       "      <td>Adler Planetarium</td>\n",
       "      <td>3</td>\n",
       "      <td>Shedd Aquarium</td>\n",
       "      <td>Customer</td>\n",
       "      <td>NaN</td>\n",
       "      <td>NaN</td>\n",
       "      <td></td>\n",
       "      <td>0</td>\n",
       "      <td>12</td>\n",
       "    </tr>\n",
       "    <tr>\n",
       "      <th>331956</th>\n",
       "      <td>21371191</td>\n",
       "      <td>2018-10-30 18:42:00</td>\n",
       "      <td>10/30/2018 18:59</td>\n",
       "      <td>17</td>\n",
       "      <td>6267</td>\n",
       "      <td>1056</td>\n",
       "      <td>128</td>\n",
       "      <td>Damen Ave &amp; Chicago Ave</td>\n",
       "      <td>342</td>\n",
       "      <td>Wolcott Ave &amp; Polk St</td>\n",
       "      <td>Customer</td>\n",
       "      <td>NaN</td>\n",
       "      <td>NaN</td>\n",
       "      <td></td>\n",
       "      <td>1</td>\n",
       "      <td>18</td>\n",
       "    </tr>\n",
       "    <tr>\n",
       "      <th>208326</th>\n",
       "      <td>21225619</td>\n",
       "      <td>2018-10-18 10:52:00</td>\n",
       "      <td>10/18/2018 11:17</td>\n",
       "      <td>24</td>\n",
       "      <td>4129</td>\n",
       "      <td>1465</td>\n",
       "      <td>97</td>\n",
       "      <td>Field Museum</td>\n",
       "      <td>35</td>\n",
       "      <td>Streeter Dr &amp; Grand Ave</td>\n",
       "      <td>Customer</td>\n",
       "      <td>NaN</td>\n",
       "      <td>NaN</td>\n",
       "      <td></td>\n",
       "      <td>3</td>\n",
       "      <td>10</td>\n",
       "    </tr>\n",
       "    <tr>\n",
       "      <th>46950</th>\n",
       "      <td>21037586</td>\n",
       "      <td>2018-10-04 00:41:00</td>\n",
       "      <td>10/4/2018 0:57</td>\n",
       "      <td>15</td>\n",
       "      <td>5393</td>\n",
       "      <td>956</td>\n",
       "      <td>31</td>\n",
       "      <td>Franklin St &amp; Chicago Ave</td>\n",
       "      <td>181</td>\n",
       "      <td>LaSalle St &amp; Illinois St</td>\n",
       "      <td>Customer</td>\n",
       "      <td>NaN</td>\n",
       "      <td>NaN</td>\n",
       "      <td></td>\n",
       "      <td>3</td>\n",
       "      <td>0</td>\n",
       "    </tr>\n",
       "    <tr>\n",
       "      <th>...</th>\n",
       "      <td>...</td>\n",
       "      <td>...</td>\n",
       "      <td>...</td>\n",
       "      <td>...</td>\n",
       "      <td>...</td>\n",
       "      <td>...</td>\n",
       "      <td>...</td>\n",
       "      <td>...</td>\n",
       "      <td>...</td>\n",
       "      <td>...</td>\n",
       "      <td>...</td>\n",
       "      <td>...</td>\n",
       "      <td>...</td>\n",
       "      <td>...</td>\n",
       "      <td>...</td>\n",
       "      <td>...</td>\n",
       "    </tr>\n",
       "    <tr>\n",
       "      <th>205299</th>\n",
       "      <td>21221955</td>\n",
       "      <td>2018-10-18 07:14:00</td>\n",
       "      <td>10/18/2018 7:31</td>\n",
       "      <td>17</td>\n",
       "      <td>6188</td>\n",
       "      <td>1063</td>\n",
       "      <td>176</td>\n",
       "      <td>Clark St &amp; Elm St</td>\n",
       "      <td>47</td>\n",
       "      <td>State St &amp; Kinzie St</td>\n",
       "      <td>Customer</td>\n",
       "      <td>NaN</td>\n",
       "      <td>NaN</td>\n",
       "      <td></td>\n",
       "      <td>3</td>\n",
       "      <td>7</td>\n",
       "    </tr>\n",
       "    <tr>\n",
       "      <th>6782</th>\n",
       "      <td>20991669</td>\n",
       "      <td>2018-10-01 14:59:00</td>\n",
       "      <td>10/1/2018 15:17</td>\n",
       "      <td>18</td>\n",
       "      <td>2566</td>\n",
       "      <td>1093</td>\n",
       "      <td>3</td>\n",
       "      <td>Shedd Aquarium</td>\n",
       "      <td>195</td>\n",
       "      <td>Columbus Dr &amp; Randolph St</td>\n",
       "      <td>Customer</td>\n",
       "      <td>NaN</td>\n",
       "      <td>NaN</td>\n",
       "      <td></td>\n",
       "      <td>0</td>\n",
       "      <td>14</td>\n",
       "    </tr>\n",
       "    <tr>\n",
       "      <th>306859</th>\n",
       "      <td>21341969</td>\n",
       "      <td>2018-10-28 12:24:00</td>\n",
       "      <td>10/28/2018 12:45</td>\n",
       "      <td>20</td>\n",
       "      <td>718</td>\n",
       "      <td>1255</td>\n",
       "      <td>284</td>\n",
       "      <td>Michigan Ave &amp; Jackson Blvd</td>\n",
       "      <td>97</td>\n",
       "      <td>Field Museum</td>\n",
       "      <td>Customer</td>\n",
       "      <td>NaN</td>\n",
       "      <td>NaN</td>\n",
       "      <td></td>\n",
       "      <td>6</td>\n",
       "      <td>12</td>\n",
       "    </tr>\n",
       "    <tr>\n",
       "      <th>484317</th>\n",
       "      <td>21553590</td>\n",
       "      <td>2018-11-22 15:38:00</td>\n",
       "      <td>11/22/2018 15:59</td>\n",
       "      <td>20</td>\n",
       "      <td>762</td>\n",
       "      <td>1246</td>\n",
       "      <td>76</td>\n",
       "      <td>Lake Shore Dr &amp; Monroe St</td>\n",
       "      <td>35</td>\n",
       "      <td>Streeter Dr &amp; Grand Ave</td>\n",
       "      <td>Customer</td>\n",
       "      <td>NaN</td>\n",
       "      <td>NaN</td>\n",
       "      <td></td>\n",
       "      <td>3</td>\n",
       "      <td>15</td>\n",
       "    </tr>\n",
       "    <tr>\n",
       "      <th>244515</th>\n",
       "      <td>21268874</td>\n",
       "      <td>2018-10-22 14:16:00</td>\n",
       "      <td>10/22/2018 14:40</td>\n",
       "      <td>24</td>\n",
       "      <td>2591</td>\n",
       "      <td>1458</td>\n",
       "      <td>90</td>\n",
       "      <td>Millennium Park</td>\n",
       "      <td>341</td>\n",
       "      <td>Adler Planetarium</td>\n",
       "      <td>Customer</td>\n",
       "      <td>NaN</td>\n",
       "      <td>NaN</td>\n",
       "      <td></td>\n",
       "      <td>0</td>\n",
       "      <td>14</td>\n",
       "    </tr>\n",
       "  </tbody>\n",
       "</table>\n",
       "<p>292 rows × 16 columns</p>\n",
       "</div>"
      ],
      "text/plain": [
       "         user_id          start_time          end_time  timeduration  bikeid  \\\n",
       "371796  21417733 2018-11-03 16:32:00   11/3/2018 16:54            22     983   \n",
       "92242   21090205 2018-10-08 12:10:00   10/8/2018 12:18             7    1582   \n",
       "331956  21371191 2018-10-30 18:42:00  10/30/2018 18:59            17    6267   \n",
       "208326  21225619 2018-10-18 10:52:00  10/18/2018 11:17            24    4129   \n",
       "46950   21037586 2018-10-04 00:41:00    10/4/2018 0:57            15    5393   \n",
       "...          ...                 ...               ...           ...     ...   \n",
       "205299  21221955 2018-10-18 07:14:00   10/18/2018 7:31            17    6188   \n",
       "6782    20991669 2018-10-01 14:59:00   10/1/2018 15:17            18    2566   \n",
       "306859  21341969 2018-10-28 12:24:00  10/28/2018 12:45            20     718   \n",
       "484317  21553590 2018-11-22 15:38:00  11/22/2018 15:59            20     762   \n",
       "244515  21268874 2018-10-22 14:16:00  10/22/2018 14:40            24    2591   \n",
       "\n",
       "        tripduration from_station_id            from_station_name  \\\n",
       "371796          1347              31    Franklin St & Chicago Ave   \n",
       "92242            453             341            Adler Planetarium   \n",
       "331956          1056             128      Damen Ave & Chicago Ave   \n",
       "208326          1465              97                 Field Museum   \n",
       "46950            956              31    Franklin St & Chicago Ave   \n",
       "...              ...             ...                          ...   \n",
       "205299          1063             176            Clark St & Elm St   \n",
       "6782            1093               3               Shedd Aquarium   \n",
       "306859          1255             284  Michigan Ave & Jackson Blvd   \n",
       "484317          1246              76    Lake Shore Dr & Monroe St   \n",
       "244515          1458              90              Millennium Park   \n",
       "\n",
       "       to_station_id            to_station_name  usertype gender  birthyear  \\\n",
       "371796           315  Elston Ave & Wabansia Ave  Customer    NaN        NaN   \n",
       "92242              3             Shedd Aquarium  Customer    NaN        NaN   \n",
       "331956           342      Wolcott Ave & Polk St  Customer    NaN        NaN   \n",
       "208326            35    Streeter Dr & Grand Ave  Customer    NaN        NaN   \n",
       "46950            181   LaSalle St & Illinois St  Customer    NaN        NaN   \n",
       "...              ...                        ...       ...    ...        ...   \n",
       "205299            47       State St & Kinzie St  Customer    NaN        NaN   \n",
       "6782             195  Columbus Dr & Randolph St  Customer    NaN        NaN   \n",
       "306859            97               Field Museum  Customer    NaN        NaN   \n",
       "484317            35    Streeter Dr & Grand Ave  Customer    NaN        NaN   \n",
       "244515           341          Adler Planetarium  Customer    NaN        NaN   \n",
       "\n",
       "       age  dayofweek  hour  \n",
       "371796              5    16  \n",
       "92242               0    12  \n",
       "331956              1    18  \n",
       "208326              3    10  \n",
       "46950               3     0  \n",
       "...     ..        ...   ...  \n",
       "205299              3     7  \n",
       "6782                0    14  \n",
       "306859              6    12  \n",
       "484317              3    15  \n",
       "244515              0    14  \n",
       "\n",
       "[292 rows x 16 columns]"
      ]
     },
     "execution_count": 27,
     "metadata": {},
     "output_type": "execute_result"
    }
   ],
   "source": [
    "df[df[\"age\"]==\" \"]"
   ]
  },
  {
   "cell_type": "markdown",
   "metadata": {},
   "source": [
    "    ·age为空值是birthyear也是空值\n",
    "    ·无法用birthyear补充age的空值"
   ]
  },
  {
   "cell_type": "code",
   "execution_count": 28,
   "metadata": {},
   "outputs": [
    {
     "data": {
      "image/png": "[encoded data removed]",
      "text/plain": [
       "<Figure size 432x288 with 1 Axes>"
      ]
     },
     "metadata": {
      "needs_background": "light"
     },
     "output_type": "display_data"
    }
   ],
   "source": [
    "#观察age的异常值，为后续处理作准备\n",
    "df[df[\"age\"]!=\" \"][\"age\"].astype(int).plot(kind=\"box\");"
   ]
  },
  {
   "cell_type": "markdown",
   "metadata": {},
   "source": [
    "    ·有大量不合常理的异常值"
   ]
  },
  {
   "cell_type": "code",
   "execution_count": 29,
   "metadata": {},
   "outputs": [
    {
     "data": {
      "text/plain": [
       "33"
      ]
     },
     "execution_count": 29,
     "metadata": {},
     "output_type": "execute_result"
    }
   ],
   "source": [
    "#填充缺失值\n",
    "age_median=int(df[df[\"age\"]!=\" \"][\"age\"].astype(int).median())\n",
    "age_median"
   ]
  },
  {
   "cell_type": "code",
   "execution_count": 30,
   "metadata": {},
   "outputs": [],
   "source": [
    "df[\"age\"]=df.age.str.replace(\" \",str(age_median)).astype(int)"
   ]
  },
  {
   "cell_type": "code",
   "execution_count": 31,
   "metadata": {},
   "outputs": [
    {
     "data": {
      "text/plain": [
       "count    5968.000000\n",
       "mean       36.303619\n",
       "std        10.851063\n",
       "min        17.000000\n",
       "25%        28.000000\n",
       "50%        33.000000\n",
       "75%        42.000000\n",
       "max       113.000000\n",
       "Name: age, dtype: float64"
      ]
     },
     "execution_count": 31,
     "metadata": {},
     "output_type": "execute_result"
    }
   ],
   "source": [
    "df[\"age\"].describe()"
   ]
  },
  {
   "cell_type": "code",
   "execution_count": 32,
   "metadata": {},
   "outputs": [
    {
     "data": {
      "text/plain": [
       "28.0"
      ]
     },
     "execution_count": 32,
     "metadata": {},
     "output_type": "execute_result"
    }
   ],
   "source": [
    "df[\"age\"].quantile(0.25)"
   ]
  },
  {
   "cell_type": "code",
   "execution_count": 33,
   "metadata": {},
   "outputs": [
    {
     "data": {
      "text/plain": [
       "63.0"
      ]
     },
     "execution_count": 33,
     "metadata": {},
     "output_type": "execute_result"
    }
   ],
   "source": [
    "IQR_age=df[\"age\"].quantile(0.75)-df[\"age\"].quantile(0.25)\n",
    "Max_age=df[\"age\"].quantile(0.75)+1.5*IQR_age\n",
    "Max_age"
   ]
  },
  {
   "cell_type": "code",
   "execution_count": 34,
   "metadata": {},
   "outputs": [],
   "source": [
    "df=df[df[\"age\"]<=63]"
   ]
  },
  {
   "cell_type": "markdown",
   "metadata": {},
   "source": [
    "### 2.2.7 删除无关变量"
   ]
  },
  {
   "cell_type": "code",
   "execution_count": 35,
   "metadata": {},
   "outputs": [
    {
     "name": "stdout",
     "output_type": "stream",
     "text": [
      "<class 'pandas.core.frame.DataFrame'>\n",
      "Int64Index: 5853 entries, 439283 to 278179\n",
      "Data columns (total 16 columns):\n",
      " #   Column             Non-Null Count  Dtype         \n",
      "---  ------             --------------  -----         \n",
      " 0   user_id            5853 non-null   int64         \n",
      " 1   start_time         5853 non-null   datetime64[ns]\n",
      " 2   end_time           5853 non-null   object        \n",
      " 3   timeduration       5853 non-null   int32         \n",
      " 4   bikeid             5853 non-null   int64         \n",
      " 5   tripduration       5853 non-null   int64         \n",
      " 6   from_station_id    5853 non-null   object        \n",
      " 7   from_station_name  5853 non-null   object        \n",
      " 8   to_station_id      5853 non-null   object        \n",
      " 9   to_station_name    5853 non-null   object        \n",
      " 10  usertype           5853 non-null   object        \n",
      " 11  gender             5548 non-null   object        \n",
      " 12  birthyear          5561 non-null   float64       \n",
      " 13  age                5853 non-null   int32         \n",
      " 14  dayofweek          5853 non-null   int64         \n",
      " 15  hour               5853 non-null   int64         \n",
      "dtypes: datetime64[ns](1), float64(1), int32(2), int64(5), object(7)\n",
      "memory usage: 731.6+ KB\n"
     ]
    }
   ],
   "source": [
    "df.info()"
   ]
  },
  {
   "cell_type": "code",
   "execution_count": 36,
   "metadata": {},
   "outputs": [],
   "source": [
    "useless=[\"user_id\",\"start_time\",\"end_time\",\"bikeid\",\"from_station_name\",\"to_station_name\",\"birthyear\"]\n",
    "df=df.drop(useless,axis=1)"
   ]
  },
  {
   "cell_type": "markdown",
   "metadata": {},
   "source": [
    "## 2.3 处理后数据查看"
   ]
  },
  {
   "cell_type": "code",
   "execution_count": 37,
   "metadata": {},
   "outputs": [
    {
     "name": "stdout",
     "output_type": "stream",
     "text": [
      "<class 'pandas.core.frame.DataFrame'>\n",
      "Int64Index: 5853 entries, 439283 to 278179\n",
      "Data columns (total 9 columns):\n",
      " #   Column           Non-Null Count  Dtype \n",
      "---  ------           --------------  ----- \n",
      " 0   timeduration     5853 non-null   int32 \n",
      " 1   tripduration     5853 non-null   int64 \n",
      " 2   from_station_id  5853 non-null   object\n",
      " 3   to_station_id    5853 non-null   object\n",
      " 4   usertype         5853 non-null   object\n",
      " 5   gender           5548 non-null   object\n",
      " 6   age              5853 non-null   int32 \n",
      " 7   dayofweek        5853 non-null   int64 \n",
      " 8   hour             5853 non-null   int64 \n",
      "dtypes: int32(2), int64(3), object(4)\n",
      "memory usage: 411.5+ KB\n"
     ]
    }
   ],
   "source": [
    "df.info()"
   ]
  },
  {
   "cell_type": "code",
   "execution_count": 38,
   "metadata": {},
   "outputs": [
    {
     "data": {
      "text/html": [
       "<div>\n",
       "<style scoped>\n",
       "    .dataframe tbody tr th:only-of-type {\n",
       "        vertical-align: middle;\n",
       "    }\n",
       "\n",
       "    .dataframe tbody tr th {\n",
       "        vertical-align: top;\n",
       "    }\n",
       "\n",
       "    .dataframe thead th {\n",
       "        text-align: right;\n",
       "    }\n",
       "</style>\n",
       "<table border=\"1\" class=\"dataframe\">\n",
       "  <thead>\n",
       "    <tr style=\"text-align: right;\">\n",
       "      <th></th>\n",
       "      <th>timeduration</th>\n",
       "      <th>tripduration</th>\n",
       "      <th>age</th>\n",
       "      <th>dayofweek</th>\n",
       "      <th>hour</th>\n",
       "    </tr>\n",
       "  </thead>\n",
       "  <tbody>\n",
       "    <tr>\n",
       "      <th>count</th>\n",
       "      <td>5853.000000</td>\n",
       "      <td>5853.000000</td>\n",
       "      <td>5853.000000</td>\n",
       "      <td>5853.000000</td>\n",
       "      <td>5853.000000</td>\n",
       "    </tr>\n",
       "    <tr>\n",
       "      <th>mean</th>\n",
       "      <td>9.934393</td>\n",
       "      <td>625.527593</td>\n",
       "      <td>35.683752</td>\n",
       "      <td>2.513070</td>\n",
       "      <td>13.261746</td>\n",
       "    </tr>\n",
       "    <tr>\n",
       "      <th>std</th>\n",
       "      <td>6.339840</td>\n",
       "      <td>380.226556</td>\n",
       "      <td>9.970922</td>\n",
       "      <td>1.832262</td>\n",
       "      <td>4.749735</td>\n",
       "    </tr>\n",
       "    <tr>\n",
       "      <th>min</th>\n",
       "      <td>1.000000</td>\n",
       "      <td>61.000000</td>\n",
       "      <td>17.000000</td>\n",
       "      <td>0.000000</td>\n",
       "      <td>0.000000</td>\n",
       "    </tr>\n",
       "    <tr>\n",
       "      <th>25%</th>\n",
       "      <td>5.000000</td>\n",
       "      <td>336.000000</td>\n",
       "      <td>28.000000</td>\n",
       "      <td>1.000000</td>\n",
       "      <td>9.000000</td>\n",
       "    </tr>\n",
       "    <tr>\n",
       "      <th>50%</th>\n",
       "      <td>8.000000</td>\n",
       "      <td>521.000000</td>\n",
       "      <td>33.000000</td>\n",
       "      <td>2.000000</td>\n",
       "      <td>14.000000</td>\n",
       "    </tr>\n",
       "    <tr>\n",
       "      <th>75%</th>\n",
       "      <td>13.000000</td>\n",
       "      <td>828.000000</td>\n",
       "      <td>41.000000</td>\n",
       "      <td>4.000000</td>\n",
       "      <td>17.000000</td>\n",
       "    </tr>\n",
       "    <tr>\n",
       "      <th>max</th>\n",
       "      <td>30.000000</td>\n",
       "      <td>1805.000000</td>\n",
       "      <td>63.000000</td>\n",
       "      <td>6.000000</td>\n",
       "      <td>23.000000</td>\n",
       "    </tr>\n",
       "  </tbody>\n",
       "</table>\n",
       "</div>"
      ],
      "text/plain": [
       "       timeduration  tripduration          age    dayofweek         hour\n",
       "count   5853.000000   5853.000000  5853.000000  5853.000000  5853.000000\n",
       "mean       9.934393    625.527593    35.683752     2.513070    13.261746\n",
       "std        6.339840    380.226556     9.970922     1.832262     4.749735\n",
       "min        1.000000     61.000000    17.000000     0.000000     0.000000\n",
       "25%        5.000000    336.000000    28.000000     1.000000     9.000000\n",
       "50%        8.000000    521.000000    33.000000     2.000000    14.000000\n",
       "75%       13.000000    828.000000    41.000000     4.000000    17.000000\n",
       "max       30.000000   1805.000000    63.000000     6.000000    23.000000"
      ]
     },
     "execution_count": 38,
     "metadata": {},
     "output_type": "execute_result"
    }
   ],
   "source": [
    "df.describe()"
   ]
  },
  {
   "cell_type": "markdown",
   "metadata": {},
   "source": [
    "# 3.单变量分析"
   ]
  },
  {
   "cell_type": "markdown",
   "metadata": {},
   "source": [
    "## 3.1 数值变量"
   ]
  },
  {
   "cell_type": "markdown",
   "metadata": {},
   "source": [
    "### 3.1.1 timeduration"
   ]
  },
  {
   "cell_type": "code",
   "execution_count": 39,
   "metadata": {},
   "outputs": [
    {
     "data": {
      "image/png": "[encoded data removed]",
      "text/plain": [
       "<Figure size 432x288 with 1 Axes>"
      ]
     },
     "metadata": {
      "needs_background": "light"
     },
     "output_type": "display_data"
    }
   ],
   "source": [
    "df[\"timeduration\"].plot(kind=\"hist\");"
   ]
  },
  {
   "cell_type": "markdown",
   "metadata": {},
   "source": [
    "    ·数据主要集中分布在0~15分钟"
   ]
  },
  {
   "cell_type": "markdown",
   "metadata": {},
   "source": [
    "### 3.1.2 tripduration"
   ]
  },
  {
   "cell_type": "code",
   "execution_count": 40,
   "metadata": {},
   "outputs": [
    {
     "data": {
      "image/png": "[encoded data removed]",
      "text/plain": [
       "<Figure size 432x288 with 1 Axes>"
      ]
     },
     "metadata": {
      "needs_background": "light"
     },
     "output_type": "display_data"
    }
   ],
   "source": [
    "df[\"tripduration\"].plot(kind=\"hist\");"
   ]
  },
  {
   "cell_type": "markdown",
   "metadata": {},
   "source": [
    "    ·数据集中分布在1000以内，符合“最后一公里”的目标"
   ]
  },
  {
   "cell_type": "markdown",
   "metadata": {},
   "source": [
    "### 3.1.3 age"
   ]
  },
  {
   "cell_type": "code",
   "execution_count": 41,
   "metadata": {},
   "outputs": [
    {
     "data": {
      "image/png": "[encoded data removed]",
      "text/plain": [
       "<Figure size 432x288 with 1 Axes>"
      ]
     },
     "metadata": {
      "needs_background": "light"
     },
     "output_type": "display_data"
    }
   ],
   "source": [
    "df[\"age\"].plot(kind=\"hist\");"
   ]
  },
  {
   "cell_type": "markdown",
   "metadata": {},
   "source": [
    "    ·主要为25~40岁的人"
   ]
  },
  {
   "cell_type": "markdown",
   "metadata": {},
   "source": [
    "## 3.2 分类变量"
   ]
  },
  {
   "cell_type": "markdown",
   "metadata": {},
   "source": [
    "### 3.2.1 dayofweek"
   ]
  },
  {
   "cell_type": "code",
   "execution_count": 42,
   "metadata": {},
   "outputs": [
    {
     "data": {
      "image/png": "[encoded data removed]",
      "text/plain": [
       "<Figure size 432x288 with 1 Axes>"
      ]
     },
     "metadata": {
      "needs_background": "light"
     },
     "output_type": "display_data"
    }
   ],
   "source": [
    "df[\"dayofweek\"].value_counts().sort_index().plot(kind=\"bar\");"
   ]
  },
  {
   "cell_type": "markdown",
   "metadata": {},
   "source": [
    "    ·主要在工作日骑行"
   ]
  },
  {
   "cell_type": "markdown",
   "metadata": {},
   "source": [
    "### 3.2.2 hour"
   ]
  },
  {
   "cell_type": "code",
   "execution_count": 43,
   "metadata": {},
   "outputs": [
    {
     "data": {
      "image/png": "[encoded data removed]",
      "text/plain": [
       "<Figure size 432x288 with 1 Axes>"
      ]
     },
     "metadata": {
      "needs_background": "light"
     },
     "output_type": "display_data"
    }
   ],
   "source": [
    "df[\"hour\"].value_counts().sort_index().plot(kind=\"bar\");"
   ]
  },
  {
   "cell_type": "markdown",
   "metadata": {},
   "source": [
    "    ·骑行时间主要在上班和下班时间达到高峰"
   ]
  },
  {
   "cell_type": "markdown",
   "metadata": {},
   "source": [
    "### 3.2.3 gender"
   ]
  },
  {
   "cell_type": "code",
   "execution_count": 44,
   "metadata": {},
   "outputs": [
    {
     "data": {
      "image/png": "[encoded data removed]",
      "text/plain": [
       "<Figure size 432x288 with 1 Axes>"
      ]
     },
     "metadata": {},
     "output_type": "display_data"
    }
   ],
   "source": [
    "df[\"gender\"].value_counts().sort_index().plot(kind=\"pie\",autopct=\"%1.1f%%\");"
   ]
  },
  {
   "cell_type": "markdown",
   "metadata": {},
   "source": [
    "    ·男性客户占超过4/3"
   ]
  },
  {
   "cell_type": "markdown",
   "metadata": {},
   "source": [
    "### 3.2.4 usertype"
   ]
  },
  {
   "cell_type": "code",
   "execution_count": 45,
   "metadata": {},
   "outputs": [
    {
     "data": {
      "image/png": "[encoded data removed]",
      "text/plain": [
       "<Figure size 432x288 with 1 Axes>"
      ]
     },
     "metadata": {},
     "output_type": "display_data"
    }
   ],
   "source": [
    "df[\"usertype\"].value_counts().sort_index().plot(kind=\"pie\",autopct=\"%1.1f%%\");"
   ]
  },
  {
   "cell_type": "markdown",
   "metadata": {},
   "source": [
    "    ·办理单车卡的用户占绝大多数"
   ]
  },
  {
   "cell_type": "markdown",
   "metadata": {},
   "source": [
    "# 4. 多变量"
   ]
  },
  {
   "cell_type": "markdown",
   "metadata": {},
   "source": [
    "## 4.1 将数值变量分类"
   ]
  },
  {
   "cell_type": "code",
   "execution_count": 46,
   "metadata": {},
   "outputs": [
    {
     "data": {
      "image/png": "[encoded data removed]",
      "text/plain": [
       "<Figure size 432x288 with 1 Axes>"
      ]
     },
     "metadata": {
      "needs_background": "light"
     },
     "output_type": "display_data"
    }
   ],
   "source": [
    "sns.barplot(x=\"gender\",y=\"timeduration\",data=df,estimator=sum);"
   ]
  },
  {
   "cell_type": "markdown",
   "metadata": {},
   "source": [
    "    ·男性总骑行时长高于女性"
   ]
  },
  {
   "cell_type": "code",
   "execution_count": 47,
   "metadata": {},
   "outputs": [
    {
     "data": {
      "image/png": "[encoded data removed]",
      "text/plain": [
       "<Figure size 432x288 with 1 Axes>"
      ]
     },
     "metadata": {
      "needs_background": "light"
     },
     "output_type": "display_data"
    }
   ],
   "source": [
    "sns.barplot(x=\"gender\",y=\"timeduration\",data=df);"
   ]
  },
  {
   "cell_type": "markdown",
   "metadata": {},
   "source": [
    "    ·但女性平均骑行时长高于男性"
   ]
  },
  {
   "cell_type": "code",
   "execution_count": 48,
   "metadata": {},
   "outputs": [
    {
     "data": {
      "image/png": "[encoded data removed]",
      "text/plain": [
       "<Figure size 432x288 with 1 Axes>"
      ]
     },
     "metadata": {
      "needs_background": "light"
     },
     "output_type": "display_data"
    }
   ],
   "source": [
    "sns.barplot(x=\"gender\",y=\"tripduration\",data=df,estimator=sum);"
   ]
  },
  {
   "cell_type": "markdown",
   "metadata": {},
   "source": [
    "    ·男性的总骑行里程高于女性"
   ]
  },
  {
   "cell_type": "code",
   "execution_count": 49,
   "metadata": {
    "scrolled": true
   },
   "outputs": [
    {
     "data": {
      "image/png": "[encoded data removed]",
      "text/plain": [
       "<Figure size 432x288 with 1 Axes>"
      ]
     },
     "metadata": {
      "needs_background": "light"
     },
     "output_type": "display_data"
    }
   ],
   "source": [
    "sns.barplot(x=\"gender\",y=\"tripduration\",data=df);"
   ]
  },
  {
   "cell_type": "markdown",
   "metadata": {},
   "source": [
    "    ·但女性的平均骑行里程也高于男性"
   ]
  },
  {
   "cell_type": "markdown",
   "metadata": {},
   "source": [
    "## 4.2 将分类变量分类"
   ]
  },
  {
   "cell_type": "code",
   "execution_count": 50,
   "metadata": {},
   "outputs": [
    {
     "data": {
      "text/html": [
       "<div>\n",
       "<style scoped>\n",
       "    .dataframe tbody tr th:only-of-type {\n",
       "        vertical-align: middle;\n",
       "    }\n",
       "\n",
       "    .dataframe tbody tr th {\n",
       "        vertical-align: top;\n",
       "    }\n",
       "\n",
       "    .dataframe thead th {\n",
       "        text-align: right;\n",
       "    }\n",
       "</style>\n",
       "<table border=\"1\" class=\"dataframe\">\n",
       "  <thead>\n",
       "    <tr style=\"text-align: right;\">\n",
       "      <th></th>\n",
       "      <th>dayofweek</th>\n",
       "      <th>gender</th>\n",
       "      <th>hour</th>\n",
       "    </tr>\n",
       "  </thead>\n",
       "  <tbody>\n",
       "    <tr>\n",
       "      <th>0</th>\n",
       "      <td>0</td>\n",
       "      <td>Female</td>\n",
       "      <td>206</td>\n",
       "    </tr>\n",
       "    <tr>\n",
       "      <th>1</th>\n",
       "      <td>0</td>\n",
       "      <td>Male</td>\n",
       "      <td>720</td>\n",
       "    </tr>\n",
       "    <tr>\n",
       "      <th>2</th>\n",
       "      <td>1</td>\n",
       "      <td>Female</td>\n",
       "      <td>245</td>\n",
       "    </tr>\n",
       "    <tr>\n",
       "      <th>3</th>\n",
       "      <td>1</td>\n",
       "      <td>Male</td>\n",
       "      <td>786</td>\n",
       "    </tr>\n",
       "    <tr>\n",
       "      <th>4</th>\n",
       "      <td>2</td>\n",
       "      <td>Female</td>\n",
       "      <td>201</td>\n",
       "    </tr>\n",
       "    <tr>\n",
       "      <th>5</th>\n",
       "      <td>2</td>\n",
       "      <td>Male</td>\n",
       "      <td>799</td>\n",
       "    </tr>\n",
       "    <tr>\n",
       "      <th>6</th>\n",
       "      <td>3</td>\n",
       "      <td>Female</td>\n",
       "      <td>191</td>\n",
       "    </tr>\n",
       "    <tr>\n",
       "      <th>7</th>\n",
       "      <td>3</td>\n",
       "      <td>Male</td>\n",
       "      <td>738</td>\n",
       "    </tr>\n",
       "    <tr>\n",
       "      <th>8</th>\n",
       "      <td>4</td>\n",
       "      <td>Female</td>\n",
       "      <td>150</td>\n",
       "    </tr>\n",
       "    <tr>\n",
       "      <th>9</th>\n",
       "      <td>4</td>\n",
       "      <td>Male</td>\n",
       "      <td>665</td>\n",
       "    </tr>\n",
       "    <tr>\n",
       "      <th>10</th>\n",
       "      <td>5</td>\n",
       "      <td>Female</td>\n",
       "      <td>129</td>\n",
       "    </tr>\n",
       "    <tr>\n",
       "      <th>11</th>\n",
       "      <td>5</td>\n",
       "      <td>Male</td>\n",
       "      <td>330</td>\n",
       "    </tr>\n",
       "    <tr>\n",
       "      <th>12</th>\n",
       "      <td>6</td>\n",
       "      <td>Female</td>\n",
       "      <td>102</td>\n",
       "    </tr>\n",
       "    <tr>\n",
       "      <th>13</th>\n",
       "      <td>6</td>\n",
       "      <td>Male</td>\n",
       "      <td>286</td>\n",
       "    </tr>\n",
       "  </tbody>\n",
       "</table>\n",
       "</div>"
      ],
      "text/plain": [
       "    dayofweek  gender  hour\n",
       "0           0  Female   206\n",
       "1           0    Male   720\n",
       "2           1  Female   245\n",
       "3           1    Male   786\n",
       "4           2  Female   201\n",
       "5           2    Male   799\n",
       "6           3  Female   191\n",
       "7           3    Male   738\n",
       "8           4  Female   150\n",
       "9           4    Male   665\n",
       "10          5  Female   129\n",
       "11          5    Male   330\n",
       "12          6  Female   102\n",
       "13          6    Male   286"
      ]
     },
     "execution_count": 50,
     "metadata": {},
     "output_type": "execute_result"
    }
   ],
   "source": [
    "tmp=pd.DataFrame(df.groupby([\"dayofweek\",\"gender\"])[\"hour\"].count()).reset_index()\n",
    "tmp"
   ]
  },
  {
   "cell_type": "code",
   "execution_count": 51,
   "metadata": {},
   "outputs": [
    {
     "data": {
      "text/html": [
       "<div>\n",
       "<style scoped>\n",
       "    .dataframe tbody tr th:only-of-type {\n",
       "        vertical-align: middle;\n",
       "    }\n",
       "\n",
       "    .dataframe tbody tr th {\n",
       "        vertical-align: top;\n",
       "    }\n",
       "\n",
       "    .dataframe thead th {\n",
       "        text-align: right;\n",
       "    }\n",
       "</style>\n",
       "<table border=\"1\" class=\"dataframe\">\n",
       "  <thead>\n",
       "    <tr style=\"text-align: right;\">\n",
       "      <th></th>\n",
       "      <th>dayofweek</th>\n",
       "      <th>gender</th>\n",
       "      <th>count</th>\n",
       "    </tr>\n",
       "  </thead>\n",
       "  <tbody>\n",
       "    <tr>\n",
       "      <th>0</th>\n",
       "      <td>0</td>\n",
       "      <td>Female</td>\n",
       "      <td>206</td>\n",
       "    </tr>\n",
       "    <tr>\n",
       "      <th>1</th>\n",
       "      <td>0</td>\n",
       "      <td>Male</td>\n",
       "      <td>720</td>\n",
       "    </tr>\n",
       "    <tr>\n",
       "      <th>2</th>\n",
       "      <td>1</td>\n",
       "      <td>Female</td>\n",
       "      <td>245</td>\n",
       "    </tr>\n",
       "    <tr>\n",
       "      <th>3</th>\n",
       "      <td>1</td>\n",
       "      <td>Male</td>\n",
       "      <td>786</td>\n",
       "    </tr>\n",
       "    <tr>\n",
       "      <th>4</th>\n",
       "      <td>2</td>\n",
       "      <td>Female</td>\n",
       "      <td>201</td>\n",
       "    </tr>\n",
       "    <tr>\n",
       "      <th>5</th>\n",
       "      <td>2</td>\n",
       "      <td>Male</td>\n",
       "      <td>799</td>\n",
       "    </tr>\n",
       "    <tr>\n",
       "      <th>6</th>\n",
       "      <td>3</td>\n",
       "      <td>Female</td>\n",
       "      <td>191</td>\n",
       "    </tr>\n",
       "    <tr>\n",
       "      <th>7</th>\n",
       "      <td>3</td>\n",
       "      <td>Male</td>\n",
       "      <td>738</td>\n",
       "    </tr>\n",
       "    <tr>\n",
       "      <th>8</th>\n",
       "      <td>4</td>\n",
       "      <td>Female</td>\n",
       "      <td>150</td>\n",
       "    </tr>\n",
       "    <tr>\n",
       "      <th>9</th>\n",
       "      <td>4</td>\n",
       "      <td>Male</td>\n",
       "      <td>665</td>\n",
       "    </tr>\n",
       "    <tr>\n",
       "      <th>10</th>\n",
       "      <td>5</td>\n",
       "      <td>Female</td>\n",
       "      <td>129</td>\n",
       "    </tr>\n",
       "    <tr>\n",
       "      <th>11</th>\n",
       "      <td>5</td>\n",
       "      <td>Male</td>\n",
       "      <td>330</td>\n",
       "    </tr>\n",
       "    <tr>\n",
       "      <th>12</th>\n",
       "      <td>6</td>\n",
       "      <td>Female</td>\n",
       "      <td>102</td>\n",
       "    </tr>\n",
       "    <tr>\n",
       "      <th>13</th>\n",
       "      <td>6</td>\n",
       "      <td>Male</td>\n",
       "      <td>286</td>\n",
       "    </tr>\n",
       "  </tbody>\n",
       "</table>\n",
       "</div>"
      ],
      "text/plain": [
       "    dayofweek  gender  count\n",
       "0           0  Female    206\n",
       "1           0    Male    720\n",
       "2           1  Female    245\n",
       "3           1    Male    786\n",
       "4           2  Female    201\n",
       "5           2    Male    799\n",
       "6           3  Female    191\n",
       "7           3    Male    738\n",
       "8           4  Female    150\n",
       "9           4    Male    665\n",
       "10          5  Female    129\n",
       "11          5    Male    330\n",
       "12          6  Female    102\n",
       "13          6    Male    286"
      ]
     },
     "execution_count": 51,
     "metadata": {},
     "output_type": "execute_result"
    }
   ],
   "source": [
    "tmp=tmp.rename(columns={'hour':'count'})\n",
    "tmp"
   ]
  },
  {
   "cell_type": "code",
   "execution_count": 52,
   "metadata": {},
   "outputs": [
    {
     "data": {
      "image/png": "[encoded data removed]",
      "text/plain": [
       "<Figure size 432x288 with 1 Axes>"
      ]
     },
     "metadata": {
      "needs_background": "light"
     },
     "output_type": "display_data"
    }
   ],
   "source": [
    "sns.barplot(x=\"dayofweek\",y=\"count\",hue=\"gender\",data=tmp);"
   ]
  },
  {
   "cell_type": "markdown",
   "metadata": {},
   "source": [
    "    ·男女在一周内骑行的趋势是统一的，工作日多而周末少"
   ]
  },
  {
   "cell_type": "code",
   "execution_count": 53,
   "metadata": {},
   "outputs": [
    {
     "data": {
      "text/html": [
       "<div>\n",
       "<style scoped>\n",
       "    .dataframe tbody tr th:only-of-type {\n",
       "        vertical-align: middle;\n",
       "    }\n",
       "\n",
       "    .dataframe tbody tr th {\n",
       "        vertical-align: top;\n",
       "    }\n",
       "\n",
       "    .dataframe thead th {\n",
       "        text-align: right;\n",
       "    }\n",
       "</style>\n",
       "<table border=\"1\" class=\"dataframe\">\n",
       "  <thead>\n",
       "    <tr style=\"text-align: right;\">\n",
       "      <th></th>\n",
       "      <th>dayofweek</th>\n",
       "      <th>usertype</th>\n",
       "      <th>hour</th>\n",
       "    </tr>\n",
       "  </thead>\n",
       "  <tbody>\n",
       "    <tr>\n",
       "      <th>0</th>\n",
       "      <td>0</td>\n",
       "      <td>Customer</td>\n",
       "      <td>69</td>\n",
       "    </tr>\n",
       "    <tr>\n",
       "      <th>1</th>\n",
       "      <td>0</td>\n",
       "      <td>Subscriber</td>\n",
       "      <td>906</td>\n",
       "    </tr>\n",
       "    <tr>\n",
       "      <th>2</th>\n",
       "      <td>1</td>\n",
       "      <td>Customer</td>\n",
       "      <td>46</td>\n",
       "    </tr>\n",
       "    <tr>\n",
       "      <th>3</th>\n",
       "      <td>1</td>\n",
       "      <td>Subscriber</td>\n",
       "      <td>1016</td>\n",
       "    </tr>\n",
       "    <tr>\n",
       "      <th>4</th>\n",
       "      <td>2</td>\n",
       "      <td>Customer</td>\n",
       "      <td>47</td>\n",
       "    </tr>\n",
       "    <tr>\n",
       "      <th>5</th>\n",
       "      <td>2</td>\n",
       "      <td>Subscriber</td>\n",
       "      <td>986</td>\n",
       "    </tr>\n",
       "    <tr>\n",
       "      <th>6</th>\n",
       "      <td>3</td>\n",
       "      <td>Customer</td>\n",
       "      <td>56</td>\n",
       "    </tr>\n",
       "    <tr>\n",
       "      <th>7</th>\n",
       "      <td>3</td>\n",
       "      <td>Subscriber</td>\n",
       "      <td>916</td>\n",
       "    </tr>\n",
       "    <tr>\n",
       "      <th>8</th>\n",
       "      <td>4</td>\n",
       "      <td>Customer</td>\n",
       "      <td>49</td>\n",
       "    </tr>\n",
       "    <tr>\n",
       "      <th>9</th>\n",
       "      <td>4</td>\n",
       "      <td>Subscriber</td>\n",
       "      <td>793</td>\n",
       "    </tr>\n",
       "    <tr>\n",
       "      <th>10</th>\n",
       "      <td>5</td>\n",
       "      <td>Customer</td>\n",
       "      <td>78</td>\n",
       "    </tr>\n",
       "    <tr>\n",
       "      <th>11</th>\n",
       "      <td>5</td>\n",
       "      <td>Subscriber</td>\n",
       "      <td>439</td>\n",
       "    </tr>\n",
       "    <tr>\n",
       "      <th>12</th>\n",
       "      <td>6</td>\n",
       "      <td>Customer</td>\n",
       "      <td>85</td>\n",
       "    </tr>\n",
       "    <tr>\n",
       "      <th>13</th>\n",
       "      <td>6</td>\n",
       "      <td>Subscriber</td>\n",
       "      <td>367</td>\n",
       "    </tr>\n",
       "  </tbody>\n",
       "</table>\n",
       "</div>"
      ],
      "text/plain": [
       "    dayofweek    usertype  hour\n",
       "0           0    Customer    69\n",
       "1           0  Subscriber   906\n",
       "2           1    Customer    46\n",
       "3           1  Subscriber  1016\n",
       "4           2    Customer    47\n",
       "5           2  Subscriber   986\n",
       "6           3    Customer    56\n",
       "7           3  Subscriber   916\n",
       "8           4    Customer    49\n",
       "9           4  Subscriber   793\n",
       "10          5    Customer    78\n",
       "11          5  Subscriber   439\n",
       "12          6    Customer    85\n",
       "13          6  Subscriber   367"
      ]
     },
     "execution_count": 53,
     "metadata": {},
     "output_type": "execute_result"
    }
   ],
   "source": [
    "tmp=pd.DataFrame(df.groupby([\"dayofweek\",\"usertype\"])[\"hour\"].count()).reset_index()\n",
    "tmp"
   ]
  },
  {
   "cell_type": "code",
   "execution_count": 54,
   "metadata": {},
   "outputs": [
    {
     "data": {
      "text/html": [
       "<div>\n",
       "<style scoped>\n",
       "    .dataframe tbody tr th:only-of-type {\n",
       "        vertical-align: middle;\n",
       "    }\n",
       "\n",
       "    .dataframe tbody tr th {\n",
       "        vertical-align: top;\n",
       "    }\n",
       "\n",
       "    .dataframe thead th {\n",
       "        text-align: right;\n",
       "    }\n",
       "</style>\n",
       "<table border=\"1\" class=\"dataframe\">\n",
       "  <thead>\n",
       "    <tr style=\"text-align: right;\">\n",
       "      <th></th>\n",
       "      <th>dayofweek</th>\n",
       "      <th>usertype</th>\n",
       "      <th>count</th>\n",
       "    </tr>\n",
       "  </thead>\n",
       "  <tbody>\n",
       "    <tr>\n",
       "      <th>0</th>\n",
       "      <td>0</td>\n",
       "      <td>Customer</td>\n",
       "      <td>69</td>\n",
       "    </tr>\n",
       "    <tr>\n",
       "      <th>1</th>\n",
       "      <td>0</td>\n",
       "      <td>Subscriber</td>\n",
       "      <td>906</td>\n",
       "    </tr>\n",
       "    <tr>\n",
       "      <th>2</th>\n",
       "      <td>1</td>\n",
       "      <td>Customer</td>\n",
       "      <td>46</td>\n",
       "    </tr>\n",
       "    <tr>\n",
       "      <th>3</th>\n",
       "      <td>1</td>\n",
       "      <td>Subscriber</td>\n",
       "      <td>1016</td>\n",
       "    </tr>\n",
       "    <tr>\n",
       "      <th>4</th>\n",
       "      <td>2</td>\n",
       "      <td>Customer</td>\n",
       "      <td>47</td>\n",
       "    </tr>\n",
       "    <tr>\n",
       "      <th>5</th>\n",
       "      <td>2</td>\n",
       "      <td>Subscriber</td>\n",
       "      <td>986</td>\n",
       "    </tr>\n",
       "    <tr>\n",
       "      <th>6</th>\n",
       "      <td>3</td>\n",
       "      <td>Customer</td>\n",
       "      <td>56</td>\n",
       "    </tr>\n",
       "    <tr>\n",
       "      <th>7</th>\n",
       "      <td>3</td>\n",
       "      <td>Subscriber</td>\n",
       "      <td>916</td>\n",
       "    </tr>\n",
       "    <tr>\n",
       "      <th>8</th>\n",
       "      <td>4</td>\n",
       "      <td>Customer</td>\n",
       "      <td>49</td>\n",
       "    </tr>\n",
       "    <tr>\n",
       "      <th>9</th>\n",
       "      <td>4</td>\n",
       "      <td>Subscriber</td>\n",
       "      <td>793</td>\n",
       "    </tr>\n",
       "    <tr>\n",
       "      <th>10</th>\n",
       "      <td>5</td>\n",
       "      <td>Customer</td>\n",
       "      <td>78</td>\n",
       "    </tr>\n",
       "    <tr>\n",
       "      <th>11</th>\n",
       "      <td>5</td>\n",
       "      <td>Subscriber</td>\n",
       "      <td>439</td>\n",
       "    </tr>\n",
       "    <tr>\n",
       "      <th>12</th>\n",
       "      <td>6</td>\n",
       "      <td>Customer</td>\n",
       "      <td>85</td>\n",
       "    </tr>\n",
       "    <tr>\n",
       "      <th>13</th>\n",
       "      <td>6</td>\n",
       "      <td>Subscriber</td>\n",
       "      <td>367</td>\n",
       "    </tr>\n",
       "  </tbody>\n",
       "</table>\n",
       "</div>"
      ],
      "text/plain": [
       "    dayofweek    usertype  count\n",
       "0           0    Customer     69\n",
       "1           0  Subscriber    906\n",
       "2           1    Customer     46\n",
       "3           1  Subscriber   1016\n",
       "4           2    Customer     47\n",
       "5           2  Subscriber    986\n",
       "6           3    Customer     56\n",
       "7           3  Subscriber    916\n",
       "8           4    Customer     49\n",
       "9           4  Subscriber    793\n",
       "10          5    Customer     78\n",
       "11          5  Subscriber    439\n",
       "12          6    Customer     85\n",
       "13          6  Subscriber    367"
      ]
     },
     "execution_count": 54,
     "metadata": {},
     "output_type": "execute_result"
    }
   ],
   "source": [
    "tmp=tmp.rename(columns={'hour':'count'})\n",
    "tmp"
   ]
  },
  {
   "cell_type": "code",
   "execution_count": 55,
   "metadata": {},
   "outputs": [
    {
     "data": {
      "image/png": "[encoded data removed]",
      "text/plain": [
       "<Figure size 432x288 with 1 Axes>"
      ]
     },
     "metadata": {
      "needs_background": "light"
     },
     "output_type": "display_data"
    }
   ],
   "source": [
    "sns.barplot(x=\"dayofweek\",y=\"count\",hue=\"usertype\",data=tmp);"
   ]
  },
  {
   "cell_type": "markdown",
   "metadata": {},
   "source": [
    "    ·购买单车卡的用户在在工作日骑行多而周末少\n",
    "    ·没有购买单车卡的用户在一周七天内骑行时间没有明显区别"
   ]
  },
  {
   "cell_type": "markdown",
   "metadata": {},
   "source": [
    "# 5.建模"
   ]
  },
  {
   "cell_type": "markdown",
   "metadata": {},
   "source": [
    "## 5.1 gender和usertype数据处理"
   ]
  },
  {
   "cell_type": "code",
   "execution_count": 56,
   "metadata": {},
   "outputs": [
    {
     "data": {
      "text/html": [
       "<div>\n",
       "<style scoped>\n",
       "    .dataframe tbody tr th:only-of-type {\n",
       "        vertical-align: middle;\n",
       "    }\n",
       "\n",
       "    .dataframe tbody tr th {\n",
       "        vertical-align: top;\n",
       "    }\n",
       "\n",
       "    .dataframe thead th {\n",
       "        text-align: right;\n",
       "    }\n",
       "</style>\n",
       "<table border=\"1\" class=\"dataframe\">\n",
       "  <thead>\n",
       "    <tr style=\"text-align: right;\">\n",
       "      <th></th>\n",
       "      <th>timeduration</th>\n",
       "      <th>tripduration</th>\n",
       "      <th>usertype</th>\n",
       "      <th>gender</th>\n",
       "      <th>age</th>\n",
       "      <th>dayofweek</th>\n",
       "      <th>hour</th>\n",
       "    </tr>\n",
       "  </thead>\n",
       "  <tbody>\n",
       "    <tr>\n",
       "      <th>439283</th>\n",
       "      <td>7</td>\n",
       "      <td>436</td>\n",
       "      <td>Subscriber</td>\n",
       "      <td>Male</td>\n",
       "      <td>37</td>\n",
       "      <td>2</td>\n",
       "      <td>7</td>\n",
       "    </tr>\n",
       "    <tr>\n",
       "      <th>603317</th>\n",
       "      <td>7</td>\n",
       "      <td>445</td>\n",
       "      <td>Subscriber</td>\n",
       "      <td>Male</td>\n",
       "      <td>31</td>\n",
       "      <td>1</td>\n",
       "      <td>19</td>\n",
       "    </tr>\n",
       "    <tr>\n",
       "      <th>109957</th>\n",
       "      <td>18</td>\n",
       "      <td>1090</td>\n",
       "      <td>Customer</td>\n",
       "      <td>Male</td>\n",
       "      <td>30</td>\n",
       "      <td>1</td>\n",
       "      <td>12</td>\n",
       "    </tr>\n",
       "    <tr>\n",
       "      <th>428082</th>\n",
       "      <td>9</td>\n",
       "      <td>581</td>\n",
       "      <td>Subscriber</td>\n",
       "      <td>Female</td>\n",
       "      <td>30</td>\n",
       "      <td>0</td>\n",
       "      <td>12</td>\n",
       "    </tr>\n",
       "    <tr>\n",
       "      <th>395437</th>\n",
       "      <td>6</td>\n",
       "      <td>390</td>\n",
       "      <td>Subscriber</td>\n",
       "      <td>Male</td>\n",
       "      <td>40</td>\n",
       "      <td>2</td>\n",
       "      <td>7</td>\n",
       "    </tr>\n",
       "  </tbody>\n",
       "</table>\n",
       "</div>"
      ],
      "text/plain": [
       "        timeduration  tripduration    usertype  gender  age  dayofweek  hour\n",
       "439283             7           436  Subscriber    Male   37          2     7\n",
       "603317             7           445  Subscriber    Male   31          1    19\n",
       "109957            18          1090    Customer    Male   30          1    12\n",
       "428082             9           581  Subscriber  Female   30          0    12\n",
       "395437             6           390  Subscriber    Male   40          2     7"
      ]
     },
     "execution_count": 56,
     "metadata": {},
     "output_type": "execute_result"
    }
   ],
   "source": [
    "df1=df.drop([\"from_station_id\",\"to_station_id\"],axis=1)\n",
    "df1.head()"
   ]
  },
  {
   "cell_type": "code",
   "execution_count": 57,
   "metadata": {},
   "outputs": [
    {
     "data": {
      "text/html": [
       "<div>\n",
       "<style scoped>\n",
       "    .dataframe tbody tr th:only-of-type {\n",
       "        vertical-align: middle;\n",
       "    }\n",
       "\n",
       "    .dataframe tbody tr th {\n",
       "        vertical-align: top;\n",
       "    }\n",
       "\n",
       "    .dataframe thead th {\n",
       "        text-align: right;\n",
       "    }\n",
       "</style>\n",
       "<table border=\"1\" class=\"dataframe\">\n",
       "  <thead>\n",
       "    <tr style=\"text-align: right;\">\n",
       "      <th></th>\n",
       "      <th>timeduration</th>\n",
       "      <th>tripduration</th>\n",
       "      <th>age</th>\n",
       "      <th>dayofweek</th>\n",
       "      <th>hour</th>\n",
       "      <th>usertype_Subscriber</th>\n",
       "      <th>gender_Male</th>\n",
       "    </tr>\n",
       "  </thead>\n",
       "  <tbody>\n",
       "    <tr>\n",
       "      <th>439283</th>\n",
       "      <td>7</td>\n",
       "      <td>436</td>\n",
       "      <td>37</td>\n",
       "      <td>2</td>\n",
       "      <td>7</td>\n",
       "      <td>1</td>\n",
       "      <td>1</td>\n",
       "    </tr>\n",
       "    <tr>\n",
       "      <th>603317</th>\n",
       "      <td>7</td>\n",
       "      <td>445</td>\n",
       "      <td>31</td>\n",
       "      <td>1</td>\n",
       "      <td>19</td>\n",
       "      <td>1</td>\n",
       "      <td>1</td>\n",
       "    </tr>\n",
       "    <tr>\n",
       "      <th>109957</th>\n",
       "      <td>18</td>\n",
       "      <td>1090</td>\n",
       "      <td>30</td>\n",
       "      <td>1</td>\n",
       "      <td>12</td>\n",
       "      <td>0</td>\n",
       "      <td>1</td>\n",
       "    </tr>\n",
       "    <tr>\n",
       "      <th>428082</th>\n",
       "      <td>9</td>\n",
       "      <td>581</td>\n",
       "      <td>30</td>\n",
       "      <td>0</td>\n",
       "      <td>12</td>\n",
       "      <td>1</td>\n",
       "      <td>0</td>\n",
       "    </tr>\n",
       "    <tr>\n",
       "      <th>395437</th>\n",
       "      <td>6</td>\n",
       "      <td>390</td>\n",
       "      <td>40</td>\n",
       "      <td>2</td>\n",
       "      <td>7</td>\n",
       "      <td>1</td>\n",
       "      <td>1</td>\n",
       "    </tr>\n",
       "  </tbody>\n",
       "</table>\n",
       "</div>"
      ],
      "text/plain": [
       "        timeduration  tripduration  age  dayofweek  hour  usertype_Subscriber  \\\n",
       "439283             7           436   37          2     7                    1   \n",
       "603317             7           445   31          1    19                    1   \n",
       "109957            18          1090   30          1    12                    0   \n",
       "428082             9           581   30          0    12                    1   \n",
       "395437             6           390   40          2     7                    1   \n",
       "\n",
       "        gender_Male  \n",
       "439283            1  \n",
       "603317            1  \n",
       "109957            1  \n",
       "428082            0  \n",
       "395437            1  "
      ]
     },
     "execution_count": 57,
     "metadata": {},
     "output_type": "execute_result"
    }
   ],
   "source": [
    "df1=pd.get_dummies(df1,drop_first=True)\n",
    "df1.head()"
   ]
  },
  {
   "cell_type": "markdown",
   "metadata": {},
   "source": [
    "## 5.2 聚类分析"
   ]
  },
  {
   "cell_type": "markdown",
   "metadata": {},
   "source": [
    "### 5.2.1 建立模型"
   ]
  },
  {
   "cell_type": "code",
   "execution_count": 58,
   "metadata": {},
   "outputs": [],
   "source": [
    "from sklearn.preprocessing import scale\n",
    "from sklearn.cluster import KMeans as kms\n",
    "from sklearn.metrics import silhouette_score"
   ]
  },
  {
   "cell_type": "code",
   "execution_count": 59,
   "metadata": {},
   "outputs": [],
   "source": [
    "x=df1[[\"timeduration\",\"tripduration\",\"age\",\"dayofweek\",\"hour\",\"usertype_Subscriber\",\"gender_Male\"]]\n",
    "kms_3=kms(n_clusters=3,random_state=10)\n",
    "model_3=kms_3.fit(x)"
   ]
  },
  {
   "cell_type": "code",
   "execution_count": 60,
   "metadata": {},
   "outputs": [
    {
     "data": {
      "text/html": [
       "<div>\n",
       "<style scoped>\n",
       "    .dataframe tbody tr th:only-of-type {\n",
       "        vertical-align: middle;\n",
       "    }\n",
       "\n",
       "    .dataframe tbody tr th {\n",
       "        vertical-align: top;\n",
       "    }\n",
       "\n",
       "    .dataframe thead th {\n",
       "        text-align: right;\n",
       "    }\n",
       "</style>\n",
       "<table border=\"1\" class=\"dataframe\">\n",
       "  <thead>\n",
       "    <tr style=\"text-align: right;\">\n",
       "      <th></th>\n",
       "      <th>timeduration</th>\n",
       "      <th>tripduration</th>\n",
       "      <th>age</th>\n",
       "      <th>dayofweek</th>\n",
       "      <th>hour</th>\n",
       "      <th>usertype_Subscriber</th>\n",
       "      <th>gender_Male</th>\n",
       "      <th>cluster</th>\n",
       "    </tr>\n",
       "  </thead>\n",
       "  <tbody>\n",
       "    <tr>\n",
       "      <th>439283</th>\n",
       "      <td>7</td>\n",
       "      <td>436</td>\n",
       "      <td>37</td>\n",
       "      <td>2</td>\n",
       "      <td>7</td>\n",
       "      <td>1</td>\n",
       "      <td>1</td>\n",
       "      <td>1</td>\n",
       "    </tr>\n",
       "    <tr>\n",
       "      <th>603317</th>\n",
       "      <td>7</td>\n",
       "      <td>445</td>\n",
       "      <td>31</td>\n",
       "      <td>1</td>\n",
       "      <td>19</td>\n",
       "      <td>1</td>\n",
       "      <td>1</td>\n",
       "      <td>1</td>\n",
       "    </tr>\n",
       "    <tr>\n",
       "      <th>109957</th>\n",
       "      <td>18</td>\n",
       "      <td>1090</td>\n",
       "      <td>30</td>\n",
       "      <td>1</td>\n",
       "      <td>12</td>\n",
       "      <td>0</td>\n",
       "      <td>1</td>\n",
       "      <td>0</td>\n",
       "    </tr>\n",
       "    <tr>\n",
       "      <th>428082</th>\n",
       "      <td>9</td>\n",
       "      <td>581</td>\n",
       "      <td>30</td>\n",
       "      <td>0</td>\n",
       "      <td>12</td>\n",
       "      <td>1</td>\n",
       "      <td>0</td>\n",
       "      <td>2</td>\n",
       "    </tr>\n",
       "    <tr>\n",
       "      <th>395437</th>\n",
       "      <td>6</td>\n",
       "      <td>390</td>\n",
       "      <td>40</td>\n",
       "      <td>2</td>\n",
       "      <td>7</td>\n",
       "      <td>1</td>\n",
       "      <td>1</td>\n",
       "      <td>1</td>\n",
       "    </tr>\n",
       "  </tbody>\n",
       "</table>\n",
       "</div>"
      ],
      "text/plain": [
       "        timeduration  tripduration  age  dayofweek  hour  usertype_Subscriber  \\\n",
       "439283             7           436   37          2     7                    1   \n",
       "603317             7           445   31          1    19                    1   \n",
       "109957            18          1090   30          1    12                    0   \n",
       "428082             9           581   30          0    12                    1   \n",
       "395437             6           390   40          2     7                    1   \n",
       "\n",
       "        gender_Male  cluster  \n",
       "439283            1        1  \n",
       "603317            1        1  \n",
       "109957            1        0  \n",
       "428082            0        2  \n",
       "395437            1        1  "
      ]
     },
     "execution_count": 60,
     "metadata": {},
     "output_type": "execute_result"
    }
   ],
   "source": [
    "df1[\"cluster\"]=model_3.labels_\n",
    "df1.head()"
   ]
  },
  {
   "cell_type": "markdown",
   "metadata": {},
   "source": [
    "### 5.2.2 用轮廓系数评估"
   ]
  },
  {
   "cell_type": "code",
   "execution_count": 61,
   "metadata": {},
   "outputs": [
    {
     "name": "stdout",
     "output_type": "stream",
     "text": [
      "0.5927291085417886\n"
     ]
    }
   ],
   "source": [
    "pre_3=model_3.predict(x)\n",
    "score_3=silhouette_score(x,pre_3)\n",
    "print(score_3)"
   ]
  },
  {
   "cell_type": "markdown",
   "metadata": {},
   "source": [
    "### 5.2.3 优化"
   ]
  },
  {
   "cell_type": "code",
   "execution_count": 62,
   "metadata": {},
   "outputs": [],
   "source": [
    "kms_4=kms(n_clusters=4,random_state=10)\n",
    "model_4=kms_4.fit(x)"
   ]
  },
  {
   "cell_type": "code",
   "execution_count": 63,
   "metadata": {},
   "outputs": [
    {
     "name": "stdout",
     "output_type": "stream",
     "text": [
      "0.5544459748009721\n"
     ]
    }
   ],
   "source": [
    "pre_4=model_4.predict(x)\n",
    "score_4=silhouette_score(x,pre_4)\n",
    "print(score_4)"
   ]
  },
  {
   "cell_type": "code",
   "execution_count": 64,
   "metadata": {},
   "outputs": [],
   "source": [
    "kms_5=kms(n_clusters=5,random_state=10)\n",
    "model_5=kms_5.fit(x)"
   ]
  },
  {
   "cell_type": "code",
   "execution_count": 65,
   "metadata": {},
   "outputs": [
    {
     "name": "stdout",
     "output_type": "stream",
     "text": [
      "0.5338770991550901\n"
     ]
    }
   ],
   "source": [
    "pre_5=model_5.predict(x)\n",
    "score_5=silhouette_score(x,pre_5)\n",
    "print(score_5)"
   ]
  },
  {
   "cell_type": "markdown",
   "metadata": {},
   "source": [
    "    ·分成3组是得分最高的"
   ]
  },
  {
   "cell_type": "markdown",
   "metadata": {},
   "source": [
    "### 5.2.4 查看分群效果"
   ]
  },
  {
   "cell_type": "code",
   "execution_count": 66,
   "metadata": {},
   "outputs": [
    {
     "data": {
      "text/html": [
       "<div>\n",
       "<style scoped>\n",
       "    .dataframe tbody tr th:only-of-type {\n",
       "        vertical-align: middle;\n",
       "    }\n",
       "\n",
       "    .dataframe tbody tr th {\n",
       "        vertical-align: top;\n",
       "    }\n",
       "\n",
       "    .dataframe thead th {\n",
       "        text-align: right;\n",
       "    }\n",
       "</style>\n",
       "<table border=\"1\" class=\"dataframe\">\n",
       "  <thead>\n",
       "    <tr style=\"text-align: right;\">\n",
       "      <th></th>\n",
       "      <th>count</th>\n",
       "      <th>mean</th>\n",
       "      <th>std</th>\n",
       "      <th>min</th>\n",
       "      <th>25%</th>\n",
       "      <th>50%</th>\n",
       "      <th>75%</th>\n",
       "      <th>max</th>\n",
       "    </tr>\n",
       "    <tr>\n",
       "      <th>cluster</th>\n",
       "      <th></th>\n",
       "      <th></th>\n",
       "      <th></th>\n",
       "      <th></th>\n",
       "      <th></th>\n",
       "      <th></th>\n",
       "      <th></th>\n",
       "      <th></th>\n",
       "    </tr>\n",
       "  </thead>\n",
       "  <tbody>\n",
       "    <tr>\n",
       "      <th>0</th>\n",
       "      <td>831.0</td>\n",
       "      <td>35.854392</td>\n",
       "      <td>9.359705</td>\n",
       "      <td>18.0</td>\n",
       "      <td>30.0</td>\n",
       "      <td>33.0</td>\n",
       "      <td>40.0</td>\n",
       "      <td>63.0</td>\n",
       "    </tr>\n",
       "    <tr>\n",
       "      <th>1</th>\n",
       "      <td>3145.0</td>\n",
       "      <td>35.409857</td>\n",
       "      <td>10.052038</td>\n",
       "      <td>17.0</td>\n",
       "      <td>28.0</td>\n",
       "      <td>33.0</td>\n",
       "      <td>41.0</td>\n",
       "      <td>63.0</td>\n",
       "    </tr>\n",
       "    <tr>\n",
       "      <th>2</th>\n",
       "      <td>1877.0</td>\n",
       "      <td>36.067128</td>\n",
       "      <td>10.086871</td>\n",
       "      <td>17.0</td>\n",
       "      <td>29.0</td>\n",
       "      <td>33.0</td>\n",
       "      <td>41.0</td>\n",
       "      <td>63.0</td>\n",
       "    </tr>\n",
       "  </tbody>\n",
       "</table>\n",
       "</div>"
      ],
      "text/plain": [
       "          count       mean        std   min   25%   50%   75%   max\n",
       "cluster                                                            \n",
       "0         831.0  35.854392   9.359705  18.0  30.0  33.0  40.0  63.0\n",
       "1        3145.0  35.409857  10.052038  17.0  28.0  33.0  41.0  63.0\n",
       "2        1877.0  36.067128  10.086871  17.0  29.0  33.0  41.0  63.0"
      ]
     },
     "execution_count": 66,
     "metadata": {},
     "output_type": "execute_result"
    }
   ],
   "source": [
    "df1.groupby(['cluster'])['age'].describe()"
   ]
  },
  {
   "cell_type": "markdown",
   "metadata": {},
   "source": [
    "    ·对年龄没有很好的分群效果"
   ]
  },
  {
   "cell_type": "code",
   "execution_count": 67,
   "metadata": {
    "scrolled": true
   },
   "outputs": [
    {
     "data": {
      "text/html": [
       "<div>\n",
       "<style scoped>\n",
       "    .dataframe tbody tr th:only-of-type {\n",
       "        vertical-align: middle;\n",
       "    }\n",
       "\n",
       "    .dataframe tbody tr th {\n",
       "        vertical-align: top;\n",
       "    }\n",
       "\n",
       "    .dataframe thead th {\n",
       "        text-align: right;\n",
       "    }\n",
       "</style>\n",
       "<table border=\"1\" class=\"dataframe\">\n",
       "  <thead>\n",
       "    <tr style=\"text-align: right;\">\n",
       "      <th></th>\n",
       "      <th>count</th>\n",
       "      <th>mean</th>\n",
       "      <th>std</th>\n",
       "      <th>min</th>\n",
       "      <th>25%</th>\n",
       "      <th>50%</th>\n",
       "      <th>75%</th>\n",
       "      <th>max</th>\n",
       "    </tr>\n",
       "    <tr>\n",
       "      <th>cluster</th>\n",
       "      <th></th>\n",
       "      <th></th>\n",
       "      <th></th>\n",
       "      <th></th>\n",
       "      <th></th>\n",
       "      <th></th>\n",
       "      <th></th>\n",
       "      <th></th>\n",
       "    </tr>\n",
       "  </thead>\n",
       "  <tbody>\n",
       "    <tr>\n",
       "      <th>0</th>\n",
       "      <td>831.0</td>\n",
       "      <td>22.216606</td>\n",
       "      <td>3.403579</td>\n",
       "      <td>17.0</td>\n",
       "      <td>19.0</td>\n",
       "      <td>22.0</td>\n",
       "      <td>25.0</td>\n",
       "      <td>30.0</td>\n",
       "    </tr>\n",
       "    <tr>\n",
       "      <th>1</th>\n",
       "      <td>3145.0</td>\n",
       "      <td>5.296979</td>\n",
       "      <td>1.963456</td>\n",
       "      <td>1.0</td>\n",
       "      <td>4.0</td>\n",
       "      <td>5.0</td>\n",
       "      <td>7.0</td>\n",
       "      <td>9.0</td>\n",
       "    </tr>\n",
       "    <tr>\n",
       "      <th>2</th>\n",
       "      <td>1877.0</td>\n",
       "      <td>12.266915</td>\n",
       "      <td>2.339892</td>\n",
       "      <td>9.0</td>\n",
       "      <td>10.0</td>\n",
       "      <td>12.0</td>\n",
       "      <td>14.0</td>\n",
       "      <td>17.0</td>\n",
       "    </tr>\n",
       "  </tbody>\n",
       "</table>\n",
       "</div>"
      ],
      "text/plain": [
       "          count       mean       std   min   25%   50%   75%   max\n",
       "cluster                                                           \n",
       "0         831.0  22.216606  3.403579  17.0  19.0  22.0  25.0  30.0\n",
       "1        3145.0   5.296979  1.963456   1.0   4.0   5.0   7.0   9.0\n",
       "2        1877.0  12.266915  2.339892   9.0  10.0  12.0  14.0  17.0"
      ]
     },
     "execution_count": 67,
     "metadata": {},
     "output_type": "execute_result"
    }
   ],
   "source": [
    "df1.groupby(['cluster'])['timeduration'].describe()"
   ]
  },
  {
   "cell_type": "code",
   "execution_count": 68,
   "metadata": {},
   "outputs": [
    {
     "data": {
      "image/png": "[encoded data removed]",
      "text/plain": [
       "<Figure size 432x288 with 1 Axes>"
      ]
     },
     "metadata": {
      "needs_background": "light"
     },
     "output_type": "display_data"
    }
   ],
   "source": [
    "sns.scatterplot(x=\"age\",y=\"timeduration\",hue=\"cluster\",data=df1);"
   ]
  },
  {
   "cell_type": "markdown",
   "metadata": {},
   "source": [
    "    ·对timeduration分群效果不错"
   ]
  },
  {
   "cell_type": "code",
   "execution_count": 69,
   "metadata": {
    "scrolled": true
   },
   "outputs": [
    {
     "data": {
      "text/html": [
       "<div>\n",
       "<style scoped>\n",
       "    .dataframe tbody tr th:only-of-type {\n",
       "        vertical-align: middle;\n",
       "    }\n",
       "\n",
       "    .dataframe tbody tr th {\n",
       "        vertical-align: top;\n",
       "    }\n",
       "\n",
       "    .dataframe thead th {\n",
       "        text-align: right;\n",
       "    }\n",
       "</style>\n",
       "<table border=\"1\" class=\"dataframe\">\n",
       "  <thead>\n",
       "    <tr style=\"text-align: right;\">\n",
       "      <th></th>\n",
       "      <th>count</th>\n",
       "      <th>mean</th>\n",
       "      <th>std</th>\n",
       "      <th>min</th>\n",
       "      <th>25%</th>\n",
       "      <th>50%</th>\n",
       "      <th>75%</th>\n",
       "      <th>max</th>\n",
       "    </tr>\n",
       "    <tr>\n",
       "      <th>cluster</th>\n",
       "      <th></th>\n",
       "      <th></th>\n",
       "      <th></th>\n",
       "      <th></th>\n",
       "      <th></th>\n",
       "      <th></th>\n",
       "      <th></th>\n",
       "      <th></th>\n",
       "    </tr>\n",
       "  </thead>\n",
       "  <tbody>\n",
       "    <tr>\n",
       "      <th>0</th>\n",
       "      <td>831.0</td>\n",
       "      <td>1362.537906</td>\n",
       "      <td>203.515491</td>\n",
       "      <td>1064.0</td>\n",
       "      <td>1190.0</td>\n",
       "      <td>1328.0</td>\n",
       "      <td>1517.0</td>\n",
       "      <td>1805.0</td>\n",
       "    </tr>\n",
       "    <tr>\n",
       "      <th>1</th>\n",
       "      <td>3145.0</td>\n",
       "      <td>346.956439</td>\n",
       "      <td>116.665077</td>\n",
       "      <td>61.0</td>\n",
       "      <td>252.0</td>\n",
       "      <td>348.0</td>\n",
       "      <td>442.0</td>\n",
       "      <td>556.0</td>\n",
       "    </tr>\n",
       "    <tr>\n",
       "      <th>2</th>\n",
       "      <td>1877.0</td>\n",
       "      <td>765.991476</td>\n",
       "      <td>139.274957</td>\n",
       "      <td>557.0</td>\n",
       "      <td>644.0</td>\n",
       "      <td>748.0</td>\n",
       "      <td>877.0</td>\n",
       "      <td>1063.0</td>\n",
       "    </tr>\n",
       "  </tbody>\n",
       "</table>\n",
       "</div>"
      ],
      "text/plain": [
       "          count         mean         std     min     25%     50%     75%  \\\n",
       "cluster                                                                    \n",
       "0         831.0  1362.537906  203.515491  1064.0  1190.0  1328.0  1517.0   \n",
       "1        3145.0   346.956439  116.665077    61.0   252.0   348.0   442.0   \n",
       "2        1877.0   765.991476  139.274957   557.0   644.0   748.0   877.0   \n",
       "\n",
       "            max  \n",
       "cluster          \n",
       "0        1805.0  \n",
       "1         556.0  \n",
       "2        1063.0  "
      ]
     },
     "execution_count": 69,
     "metadata": {},
     "output_type": "execute_result"
    }
   ],
   "source": [
    "df1.groupby(['cluster'])['tripduration'].describe()"
   ]
  },
  {
   "cell_type": "code",
   "execution_count": 70,
   "metadata": {},
   "outputs": [
    {
     "data": {
      "image/png": "[encoded data removed]",
      "text/plain": [
       "<Figure size 432x288 with 1 Axes>"
      ]
     },
     "metadata": {
      "needs_background": "light"
     },
     "output_type": "display_data"
    }
   ],
   "source": [
    "sns.scatterplot(x=\"age\",y=\"tripduration\",hue=\"cluster\",data=df1);"
   ]
  },
  {
   "cell_type": "markdown",
   "metadata": {},
   "source": [
    "    ·对tripduration分群效果不错"
   ]
  },
  {
   "cell_type": "code",
   "execution_count": 71,
   "metadata": {},
   "outputs": [
    {
     "data": {
      "text/html": [
       "<div>\n",
       "<style scoped>\n",
       "    .dataframe tbody tr th:only-of-type {\n",
       "        vertical-align: middle;\n",
       "    }\n",
       "\n",
       "    .dataframe tbody tr th {\n",
       "        vertical-align: top;\n",
       "    }\n",
       "\n",
       "    .dataframe thead th {\n",
       "        text-align: right;\n",
       "    }\n",
       "</style>\n",
       "<table border=\"1\" class=\"dataframe\">\n",
       "  <thead>\n",
       "    <tr style=\"text-align: right;\">\n",
       "      <th></th>\n",
       "      <th>count</th>\n",
       "      <th>mean</th>\n",
       "      <th>std</th>\n",
       "      <th>min</th>\n",
       "      <th>25%</th>\n",
       "      <th>50%</th>\n",
       "      <th>75%</th>\n",
       "      <th>max</th>\n",
       "    </tr>\n",
       "    <tr>\n",
       "      <th>cluster</th>\n",
       "      <th></th>\n",
       "      <th></th>\n",
       "      <th></th>\n",
       "      <th></th>\n",
       "      <th></th>\n",
       "      <th></th>\n",
       "      <th></th>\n",
       "      <th></th>\n",
       "    </tr>\n",
       "  </thead>\n",
       "  <tbody>\n",
       "    <tr>\n",
       "      <th>0</th>\n",
       "      <td>831.0</td>\n",
       "      <td>2.651023</td>\n",
       "      <td>1.984517</td>\n",
       "      <td>0.0</td>\n",
       "      <td>1.0</td>\n",
       "      <td>2.0</td>\n",
       "      <td>4.0</td>\n",
       "      <td>6.0</td>\n",
       "    </tr>\n",
       "    <tr>\n",
       "      <th>1</th>\n",
       "      <td>3145.0</td>\n",
       "      <td>2.478537</td>\n",
       "      <td>1.786007</td>\n",
       "      <td>0.0</td>\n",
       "      <td>1.0</td>\n",
       "      <td>2.0</td>\n",
       "      <td>4.0</td>\n",
       "      <td>6.0</td>\n",
       "    </tr>\n",
       "    <tr>\n",
       "      <th>2</th>\n",
       "      <td>1877.0</td>\n",
       "      <td>2.509856</td>\n",
       "      <td>1.836764</td>\n",
       "      <td>0.0</td>\n",
       "      <td>1.0</td>\n",
       "      <td>2.0</td>\n",
       "      <td>4.0</td>\n",
       "      <td>6.0</td>\n",
       "    </tr>\n",
       "  </tbody>\n",
       "</table>\n",
       "</div>"
      ],
      "text/plain": [
       "          count      mean       std  min  25%  50%  75%  max\n",
       "cluster                                                     \n",
       "0         831.0  2.651023  1.984517  0.0  1.0  2.0  4.0  6.0\n",
       "1        3145.0  2.478537  1.786007  0.0  1.0  2.0  4.0  6.0\n",
       "2        1877.0  2.509856  1.836764  0.0  1.0  2.0  4.0  6.0"
      ]
     },
     "execution_count": 71,
     "metadata": {},
     "output_type": "execute_result"
    }
   ],
   "source": [
    "df1.groupby(['cluster'])['dayofweek'].describe()"
   ]
  },
  {
   "cell_type": "markdown",
   "metadata": {},
   "source": [
    "    ·对dayofweek分群效果不佳"
   ]
  },
  {
   "cell_type": "code",
   "execution_count": 72,
   "metadata": {},
   "outputs": [
    {
     "data": {
      "text/html": [
       "<div>\n",
       "<style scoped>\n",
       "    .dataframe tbody tr th:only-of-type {\n",
       "        vertical-align: middle;\n",
       "    }\n",
       "\n",
       "    .dataframe tbody tr th {\n",
       "        vertical-align: top;\n",
       "    }\n",
       "\n",
       "    .dataframe thead th {\n",
       "        text-align: right;\n",
       "    }\n",
       "</style>\n",
       "<table border=\"1\" class=\"dataframe\">\n",
       "  <thead>\n",
       "    <tr style=\"text-align: right;\">\n",
       "      <th></th>\n",
       "      <th>count</th>\n",
       "      <th>mean</th>\n",
       "      <th>std</th>\n",
       "      <th>min</th>\n",
       "      <th>25%</th>\n",
       "      <th>50%</th>\n",
       "      <th>75%</th>\n",
       "      <th>max</th>\n",
       "    </tr>\n",
       "    <tr>\n",
       "      <th>cluster</th>\n",
       "      <th></th>\n",
       "      <th></th>\n",
       "      <th></th>\n",
       "      <th></th>\n",
       "      <th></th>\n",
       "      <th></th>\n",
       "      <th></th>\n",
       "      <th></th>\n",
       "    </tr>\n",
       "  </thead>\n",
       "  <tbody>\n",
       "    <tr>\n",
       "      <th>0</th>\n",
       "      <td>831.0</td>\n",
       "      <td>13.771360</td>\n",
       "      <td>4.514042</td>\n",
       "      <td>0.0</td>\n",
       "      <td>11.0</td>\n",
       "      <td>15.0</td>\n",
       "      <td>17.0</td>\n",
       "      <td>23.0</td>\n",
       "    </tr>\n",
       "    <tr>\n",
       "      <th>1</th>\n",
       "      <td>3145.0</td>\n",
       "      <td>13.120191</td>\n",
       "      <td>4.837452</td>\n",
       "      <td>0.0</td>\n",
       "      <td>8.0</td>\n",
       "      <td>14.0</td>\n",
       "      <td>17.0</td>\n",
       "      <td>23.0</td>\n",
       "    </tr>\n",
       "    <tr>\n",
       "      <th>2</th>\n",
       "      <td>1877.0</td>\n",
       "      <td>13.273308</td>\n",
       "      <td>4.689552</td>\n",
       "      <td>0.0</td>\n",
       "      <td>8.0</td>\n",
       "      <td>14.0</td>\n",
       "      <td>17.0</td>\n",
       "      <td>23.0</td>\n",
       "    </tr>\n",
       "  </tbody>\n",
       "</table>\n",
       "</div>"
      ],
      "text/plain": [
       "          count       mean       std  min   25%   50%   75%   max\n",
       "cluster                                                          \n",
       "0         831.0  13.771360  4.514042  0.0  11.0  15.0  17.0  23.0\n",
       "1        3145.0  13.120191  4.837452  0.0   8.0  14.0  17.0  23.0\n",
       "2        1877.0  13.273308  4.689552  0.0   8.0  14.0  17.0  23.0"
      ]
     },
     "execution_count": 72,
     "metadata": {},
     "output_type": "execute_result"
    }
   ],
   "source": [
    "df1.groupby(['cluster'])['hour'].describe()"
   ]
  },
  {
   "cell_type": "markdown",
   "metadata": {},
   "source": [
    "    ·对hour分群效果不佳"
   ]
  },
  {
   "cell_type": "markdown",
   "metadata": {},
   "source": [
    "# 6.业务解读"
   ]
  },
  {
   "cell_type": "markdown",
   "metadata": {},
   "source": [
    "    ·超过95%的用户办理了单车卡\n",
    "    ·用户的主要使用时间在工作日，但没有购买单车卡的用户在周末与工作日的骑行时间没有明显差别\n",
    "    ·男性用户多于女性用户，超过4/3 的男性用户\n",
    "    ·男性总骑行时间和里程高于女性，但平均值小于女性\n",
    "    \n",
    "    ·分为3组时效果最佳\n",
    "    ·仅对timeduration和tripduration两个连续型变量有较好的分群效果\n",
    "    ·对其余变量分群效果均不佳\n",
    "    ·timeduration被分为1~9,9~17,17~30三组\n",
    "    ·tripduration被分为61~556,557~1063,1064~1805"
   ]
  }
 ],
 "metadata": {
  "kernelspec": {
   "display_name": "Python 3",
   "language": "python",
   "name": "python3"
  },
  "language_info": {
   "codemirror_mode": {
    "name": "ipython",
    "version": 3
   },
   "file_extension": ".py",
   "mimetype": "text/x-python",
   "name": "python",
   "nbconvert_exporter": "python",
   "pygments_lexer": "ipython3",
   "version": "3.8.5"
  }
 },
 "nbformat": 4,
 "nbformat_minor": 4
}
