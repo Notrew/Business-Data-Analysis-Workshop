{
 "cells": [
  {
   "cell_type": "markdown",
   "metadata": {},
   "source": [
    "Week5：优衣库销售产品分析"
   ]
  },
  {
   "cell_type": "markdown",
   "metadata": {},
   "source": [
    "## 一、问题界定"
   ]
  },
  {
   "cell_type": "markdown",
   "metadata": {},
   "source": [
    "    整体销售情况随着时间的变化是怎样的？\n",
    "    不同产品的销售情况是怎样的？顾客偏爱哪一种购买方式？\n",
    "    销售额和产品成本之间的关系怎么样？"
   ]
  },
  {
   "cell_type": "markdown",
   "metadata": {},
   "source": [
    "## 二、数据查看、简单清洗与整理"
   ]
  },
  {
   "cell_type": "code",
   "execution_count": 1,
   "metadata": {},
   "outputs": [],
   "source": [
    "import pandas as pd\n",
    "import numpy as np\n",
    "import matplotlib.pyplot as plt\n",
    "import seaborn as sns\n",
    "%matplotlib inline"
   ]
  },
  {
   "cell_type": "code",
   "execution_count": 2,
   "metadata": {},
   "outputs": [],
   "source": [
    "plt.rcParams['font.sans-serif'] = ['simhei']"
   ]
  },
  {
   "cell_type": "code",
   "execution_count": 3,
   "metadata": {},
   "outputs": [
    {
     "name": "stdout",
     "output_type": "stream",
     "text": [
      "<class 'pandas.core.frame.DataFrame'>\n",
      "RangeIndex: 22293 entries, 0 to 22292\n",
      "Data columns (total 13 columns):\n",
      " #   Column        Non-Null Count  Dtype  \n",
      "---  ------        --------------  -----  \n",
      " 0   store_id      22293 non-null  int64  \n",
      " 1   city          22293 non-null  object \n",
      " 2   channel       22293 non-null  object \n",
      " 3   gender_group  22293 non-null  object \n",
      " 4   age_group     22293 non-null  object \n",
      " 5   wkd_ind       22293 non-null  object \n",
      " 6   product       22293 non-null  object \n",
      " 7   customer      22293 non-null  int64  \n",
      " 8   revenue       22293 non-null  float64\n",
      " 9   order         22293 non-null  int64  \n",
      " 10  quant         22293 non-null  int64  \n",
      " 11  unit_cost     22293 non-null  int64  \n",
      " 12  unit_price    22293 non-null  int64  \n",
      "dtypes: float64(1), int64(6), object(6)\n",
      "memory usage: 2.2+ MB\n"
     ]
    }
   ],
   "source": [
    "data=pd.read_csv('C:\\\\Users\\mac\\Desktop\\数据分析班\\week5\\\\unique.csv')\n",
    "data.info()"
   ]
  },
  {
   "cell_type": "code",
   "execution_count": 4,
   "metadata": {},
   "outputs": [
    {
     "data": {
      "text/html": [
       "<div>\n",
       "<style scoped>\n",
       "    .dataframe tbody tr th:only-of-type {\n",
       "        vertical-align: middle;\n",
       "    }\n",
       "\n",
       "    .dataframe tbody tr th {\n",
       "        vertical-align: top;\n",
       "    }\n",
       "\n",
       "    .dataframe thead th {\n",
       "        text-align: right;\n",
       "    }\n",
       "</style>\n",
       "<table border=\"1\" class=\"dataframe\">\n",
       "  <thead>\n",
       "    <tr style=\"text-align: right;\">\n",
       "      <th></th>\n",
       "      <th>store_id</th>\n",
       "      <th>city</th>\n",
       "      <th>channel</th>\n",
       "      <th>gender_group</th>\n",
       "      <th>age_group</th>\n",
       "      <th>wkd_ind</th>\n",
       "      <th>product</th>\n",
       "      <th>customer</th>\n",
       "      <th>revenue</th>\n",
       "      <th>order</th>\n",
       "      <th>quant</th>\n",
       "      <th>unit_cost</th>\n",
       "      <th>unit_price</th>\n",
       "    </tr>\n",
       "  </thead>\n",
       "  <tbody>\n",
       "    <tr>\n",
       "      <th>0</th>\n",
       "      <td>658</td>\n",
       "      <td>深圳</td>\n",
       "      <td>线下</td>\n",
       "      <td>Female</td>\n",
       "      <td>25-29</td>\n",
       "      <td>Weekday</td>\n",
       "      <td>当季新品</td>\n",
       "      <td>4</td>\n",
       "      <td>796.0</td>\n",
       "      <td>4</td>\n",
       "      <td>4</td>\n",
       "      <td>59</td>\n",
       "      <td>199</td>\n",
       "    </tr>\n",
       "    <tr>\n",
       "      <th>1</th>\n",
       "      <td>146</td>\n",
       "      <td>杭州</td>\n",
       "      <td>线下</td>\n",
       "      <td>Female</td>\n",
       "      <td>25-29</td>\n",
       "      <td>Weekday</td>\n",
       "      <td>运动</td>\n",
       "      <td>1</td>\n",
       "      <td>149.0</td>\n",
       "      <td>1</td>\n",
       "      <td>1</td>\n",
       "      <td>49</td>\n",
       "      <td>149</td>\n",
       "    </tr>\n",
       "    <tr>\n",
       "      <th>2</th>\n",
       "      <td>70</td>\n",
       "      <td>深圳</td>\n",
       "      <td>线下</td>\n",
       "      <td>Male</td>\n",
       "      <td>&gt;=60</td>\n",
       "      <td>Weekday</td>\n",
       "      <td>T恤</td>\n",
       "      <td>2</td>\n",
       "      <td>178.0</td>\n",
       "      <td>2</td>\n",
       "      <td>2</td>\n",
       "      <td>49</td>\n",
       "      <td>89</td>\n",
       "    </tr>\n",
       "    <tr>\n",
       "      <th>3</th>\n",
       "      <td>658</td>\n",
       "      <td>深圳</td>\n",
       "      <td>线下</td>\n",
       "      <td>Female</td>\n",
       "      <td>25-29</td>\n",
       "      <td>Weekday</td>\n",
       "      <td>T恤</td>\n",
       "      <td>1</td>\n",
       "      <td>59.0</td>\n",
       "      <td>1</td>\n",
       "      <td>1</td>\n",
       "      <td>49</td>\n",
       "      <td>59</td>\n",
       "    </tr>\n",
       "    <tr>\n",
       "      <th>4</th>\n",
       "      <td>229</td>\n",
       "      <td>深圳</td>\n",
       "      <td>线下</td>\n",
       "      <td>Male</td>\n",
       "      <td>20-24</td>\n",
       "      <td>Weekend</td>\n",
       "      <td>袜子</td>\n",
       "      <td>2</td>\n",
       "      <td>65.0</td>\n",
       "      <td>2</td>\n",
       "      <td>3</td>\n",
       "      <td>9</td>\n",
       "      <td>22</td>\n",
       "    </tr>\n",
       "  </tbody>\n",
       "</table>\n",
       "</div>"
      ],
      "text/plain": [
       "   store_id city channel gender_group age_group  wkd_ind product  customer  \\\n",
       "0       658   深圳      线下       Female     25-29  Weekday    当季新品         4   \n",
       "1       146   杭州      线下       Female     25-29  Weekday      运动         1   \n",
       "2        70   深圳      线下         Male      >=60  Weekday      T恤         2   \n",
       "3       658   深圳      线下       Female     25-29  Weekday      T恤         1   \n",
       "4       229   深圳      线下         Male     20-24  Weekend      袜子         2   \n",
       "\n",
       "   revenue  order  quant  unit_cost  unit_price  \n",
       "0    796.0      4      4         59         199  \n",
       "1    149.0      1      1         49         149  \n",
       "2    178.0      2      2         49          89  \n",
       "3     59.0      1      1         49          59  \n",
       "4     65.0      2      3          9          22  "
      ]
     },
     "execution_count": 4,
     "metadata": {},
     "output_type": "execute_result"
    }
   ],
   "source": [
    "data.head()"
   ]
  },
  {
   "cell_type": "code",
   "execution_count": 5,
   "metadata": {
    "scrolled": true
   },
   "outputs": [
    {
     "data": {
      "text/html": [
       "<div>\n",
       "<style scoped>\n",
       "    .dataframe tbody tr th:only-of-type {\n",
       "        vertical-align: middle;\n",
       "    }\n",
       "\n",
       "    .dataframe tbody tr th {\n",
       "        vertical-align: top;\n",
       "    }\n",
       "\n",
       "    .dataframe thead th {\n",
       "        text-align: right;\n",
       "    }\n",
       "</style>\n",
       "<table border=\"1\" class=\"dataframe\">\n",
       "  <thead>\n",
       "    <tr style=\"text-align: right;\">\n",
       "      <th></th>\n",
       "      <th>store_id</th>\n",
       "      <th>city</th>\n",
       "      <th>channel</th>\n",
       "      <th>gender_group</th>\n",
       "      <th>age_group</th>\n",
       "      <th>wkd_ind</th>\n",
       "      <th>product</th>\n",
       "      <th>customer</th>\n",
       "      <th>revenue</th>\n",
       "      <th>order</th>\n",
       "      <th>quant</th>\n",
       "      <th>unit_cost</th>\n",
       "      <th>unit_price</th>\n",
       "    </tr>\n",
       "  </thead>\n",
       "  <tbody>\n",
       "    <tr>\n",
       "      <th>count</th>\n",
       "      <td>22293.000000</td>\n",
       "      <td>22293</td>\n",
       "      <td>22293</td>\n",
       "      <td>22293</td>\n",
       "      <td>22293</td>\n",
       "      <td>22293</td>\n",
       "      <td>22293</td>\n",
       "      <td>22293.000000</td>\n",
       "      <td>22293.000000</td>\n",
       "      <td>22293.000000</td>\n",
       "      <td>22293.000000</td>\n",
       "      <td>22293.000000</td>\n",
       "      <td>22293.000000</td>\n",
       "    </tr>\n",
       "    <tr>\n",
       "      <th>unique</th>\n",
       "      <td>NaN</td>\n",
       "      <td>10</td>\n",
       "      <td>2</td>\n",
       "      <td>3</td>\n",
       "      <td>11</td>\n",
       "      <td>2</td>\n",
       "      <td>9</td>\n",
       "      <td>NaN</td>\n",
       "      <td>NaN</td>\n",
       "      <td>NaN</td>\n",
       "      <td>NaN</td>\n",
       "      <td>NaN</td>\n",
       "      <td>NaN</td>\n",
       "    </tr>\n",
       "    <tr>\n",
       "      <th>top</th>\n",
       "      <td>NaN</td>\n",
       "      <td>深圳</td>\n",
       "      <td>线下</td>\n",
       "      <td>Female</td>\n",
       "      <td>30-34</td>\n",
       "      <td>Weekday</td>\n",
       "      <td>T恤</td>\n",
       "      <td>NaN</td>\n",
       "      <td>NaN</td>\n",
       "      <td>NaN</td>\n",
       "      <td>NaN</td>\n",
       "      <td>NaN</td>\n",
       "      <td>NaN</td>\n",
       "    </tr>\n",
       "    <tr>\n",
       "      <th>freq</th>\n",
       "      <td>NaN</td>\n",
       "      <td>4364</td>\n",
       "      <td>18403</td>\n",
       "      <td>14208</td>\n",
       "      <td>4426</td>\n",
       "      <td>12465</td>\n",
       "      <td>10610</td>\n",
       "      <td>NaN</td>\n",
       "      <td>NaN</td>\n",
       "      <td>NaN</td>\n",
       "      <td>NaN</td>\n",
       "      <td>NaN</td>\n",
       "      <td>NaN</td>\n",
       "    </tr>\n",
       "    <tr>\n",
       "      <th>mean</th>\n",
       "      <td>335.391558</td>\n",
       "      <td>NaN</td>\n",
       "      <td>NaN</td>\n",
       "      <td>NaN</td>\n",
       "      <td>NaN</td>\n",
       "      <td>NaN</td>\n",
       "      <td>NaN</td>\n",
       "      <td>1.629480</td>\n",
       "      <td>159.531371</td>\n",
       "      <td>1.651998</td>\n",
       "      <td>1.858072</td>\n",
       "      <td>46.124658</td>\n",
       "      <td>84.279998</td>\n",
       "    </tr>\n",
       "    <tr>\n",
       "      <th>std</th>\n",
       "      <td>230.236167</td>\n",
       "      <td>NaN</td>\n",
       "      <td>NaN</td>\n",
       "      <td>NaN</td>\n",
       "      <td>NaN</td>\n",
       "      <td>NaN</td>\n",
       "      <td>NaN</td>\n",
       "      <td>1.785605</td>\n",
       "      <td>276.254066</td>\n",
       "      <td>1.861480</td>\n",
       "      <td>2.347301</td>\n",
       "      <td>19.124347</td>\n",
       "      <td>46.314296</td>\n",
       "    </tr>\n",
       "    <tr>\n",
       "      <th>min</th>\n",
       "      <td>19.000000</td>\n",
       "      <td>NaN</td>\n",
       "      <td>NaN</td>\n",
       "      <td>NaN</td>\n",
       "      <td>NaN</td>\n",
       "      <td>NaN</td>\n",
       "      <td>NaN</td>\n",
       "      <td>1.000000</td>\n",
       "      <td>-0.660000</td>\n",
       "      <td>1.000000</td>\n",
       "      <td>1.000000</td>\n",
       "      <td>9.000000</td>\n",
       "      <td>0.000000</td>\n",
       "    </tr>\n",
       "    <tr>\n",
       "      <th>25%</th>\n",
       "      <td>142.000000</td>\n",
       "      <td>NaN</td>\n",
       "      <td>NaN</td>\n",
       "      <td>NaN</td>\n",
       "      <td>NaN</td>\n",
       "      <td>NaN</td>\n",
       "      <td>NaN</td>\n",
       "      <td>1.000000</td>\n",
       "      <td>64.000000</td>\n",
       "      <td>1.000000</td>\n",
       "      <td>1.000000</td>\n",
       "      <td>49.000000</td>\n",
       "      <td>56.000000</td>\n",
       "    </tr>\n",
       "    <tr>\n",
       "      <th>50%</th>\n",
       "      <td>315.000000</td>\n",
       "      <td>NaN</td>\n",
       "      <td>NaN</td>\n",
       "      <td>NaN</td>\n",
       "      <td>NaN</td>\n",
       "      <td>NaN</td>\n",
       "      <td>NaN</td>\n",
       "      <td>1.000000</td>\n",
       "      <td>99.000000</td>\n",
       "      <td>1.000000</td>\n",
       "      <td>1.000000</td>\n",
       "      <td>49.000000</td>\n",
       "      <td>79.000000</td>\n",
       "    </tr>\n",
       "    <tr>\n",
       "      <th>75%</th>\n",
       "      <td>480.000000</td>\n",
       "      <td>NaN</td>\n",
       "      <td>NaN</td>\n",
       "      <td>NaN</td>\n",
       "      <td>NaN</td>\n",
       "      <td>NaN</td>\n",
       "      <td>NaN</td>\n",
       "      <td>2.000000</td>\n",
       "      <td>175.000000</td>\n",
       "      <td>2.000000</td>\n",
       "      <td>2.000000</td>\n",
       "      <td>49.000000</td>\n",
       "      <td>99.000000</td>\n",
       "    </tr>\n",
       "    <tr>\n",
       "      <th>max</th>\n",
       "      <td>831.000000</td>\n",
       "      <td>NaN</td>\n",
       "      <td>NaN</td>\n",
       "      <td>NaN</td>\n",
       "      <td>NaN</td>\n",
       "      <td>NaN</td>\n",
       "      <td>NaN</td>\n",
       "      <td>58.000000</td>\n",
       "      <td>12538.000000</td>\n",
       "      <td>65.000000</td>\n",
       "      <td>84.000000</td>\n",
       "      <td>99.000000</td>\n",
       "      <td>299.000000</td>\n",
       "    </tr>\n",
       "  </tbody>\n",
       "</table>\n",
       "</div>"
      ],
      "text/plain": [
       "            store_id   city channel gender_group age_group  wkd_ind product  \\\n",
       "count   22293.000000  22293   22293        22293     22293    22293   22293   \n",
       "unique           NaN     10       2            3        11        2       9   \n",
       "top              NaN     深圳      线下       Female     30-34  Weekday      T恤   \n",
       "freq             NaN   4364   18403        14208      4426    12465   10610   \n",
       "mean      335.391558    NaN     NaN          NaN       NaN      NaN     NaN   \n",
       "std       230.236167    NaN     NaN          NaN       NaN      NaN     NaN   \n",
       "min        19.000000    NaN     NaN          NaN       NaN      NaN     NaN   \n",
       "25%       142.000000    NaN     NaN          NaN       NaN      NaN     NaN   \n",
       "50%       315.000000    NaN     NaN          NaN       NaN      NaN     NaN   \n",
       "75%       480.000000    NaN     NaN          NaN       NaN      NaN     NaN   \n",
       "max       831.000000    NaN     NaN          NaN       NaN      NaN     NaN   \n",
       "\n",
       "            customer       revenue         order         quant     unit_cost  \\\n",
       "count   22293.000000  22293.000000  22293.000000  22293.000000  22293.000000   \n",
       "unique           NaN           NaN           NaN           NaN           NaN   \n",
       "top              NaN           NaN           NaN           NaN           NaN   \n",
       "freq             NaN           NaN           NaN           NaN           NaN   \n",
       "mean        1.629480    159.531371      1.651998      1.858072     46.124658   \n",
       "std         1.785605    276.254066      1.861480      2.347301     19.124347   \n",
       "min         1.000000     -0.660000      1.000000      1.000000      9.000000   \n",
       "25%         1.000000     64.000000      1.000000      1.000000     49.000000   \n",
       "50%         1.000000     99.000000      1.000000      1.000000     49.000000   \n",
       "75%         2.000000    175.000000      2.000000      2.000000     49.000000   \n",
       "max        58.000000  12538.000000     65.000000     84.000000     99.000000   \n",
       "\n",
       "          unit_price  \n",
       "count   22293.000000  \n",
       "unique           NaN  \n",
       "top              NaN  \n",
       "freq             NaN  \n",
       "mean       84.279998  \n",
       "std        46.314296  \n",
       "min         0.000000  \n",
       "25%        56.000000  \n",
       "50%        79.000000  \n",
       "75%        99.000000  \n",
       "max       299.000000  "
      ]
     },
     "execution_count": 5,
     "metadata": {},
     "output_type": "execute_result"
    }
   ],
   "source": [
    "data.describe(include='all')"
   ]
  },
  {
   "cell_type": "markdown",
   "metadata": {},
   "source": [
    "    revenue存在异常值，需要处理"
   ]
  },
  {
   "cell_type": "code",
   "execution_count": 6,
   "metadata": {
    "scrolled": true
   },
   "outputs": [
    {
     "data": {
      "text/html": [
       "<div>\n",
       "<style scoped>\n",
       "    .dataframe tbody tr th:only-of-type {\n",
       "        vertical-align: middle;\n",
       "    }\n",
       "\n",
       "    .dataframe tbody tr th {\n",
       "        vertical-align: top;\n",
       "    }\n",
       "\n",
       "    .dataframe thead th {\n",
       "        text-align: right;\n",
       "    }\n",
       "</style>\n",
       "<table border=\"1\" class=\"dataframe\">\n",
       "  <thead>\n",
       "    <tr style=\"text-align: right;\">\n",
       "      <th></th>\n",
       "      <th>store_id</th>\n",
       "      <th>city</th>\n",
       "      <th>channel</th>\n",
       "      <th>gender_group</th>\n",
       "      <th>age_group</th>\n",
       "      <th>wkd_ind</th>\n",
       "      <th>product</th>\n",
       "      <th>customer</th>\n",
       "      <th>revenue</th>\n",
       "      <th>order</th>\n",
       "      <th>quant</th>\n",
       "      <th>unit_cost</th>\n",
       "      <th>unit_price</th>\n",
       "    </tr>\n",
       "  </thead>\n",
       "  <tbody>\n",
       "    <tr>\n",
       "      <th>20049</th>\n",
       "      <td>91</td>\n",
       "      <td>武汉</td>\n",
       "      <td>线上</td>\n",
       "      <td>Female</td>\n",
       "      <td>55-59</td>\n",
       "      <td>Weekday</td>\n",
       "      <td>运动</td>\n",
       "      <td>1</td>\n",
       "      <td>-0.66</td>\n",
       "      <td>1</td>\n",
       "      <td>2</td>\n",
       "      <td>49</td>\n",
       "      <td>0</td>\n",
       "    </tr>\n",
       "  </tbody>\n",
       "</table>\n",
       "</div>"
      ],
      "text/plain": [
       "       store_id city channel gender_group age_group  wkd_ind product  \\\n",
       "20049        91   武汉      线上       Female     55-59  Weekday      运动   \n",
       "\n",
       "       customer  revenue  order  quant  unit_cost  unit_price  \n",
       "20049         1    -0.66      1      2         49           0  "
      ]
     },
     "execution_count": 6,
     "metadata": {},
     "output_type": "execute_result"
    }
   ],
   "source": [
    "data[data['revenue']<0]"
   ]
  },
  {
   "cell_type": "code",
   "execution_count": 7,
   "metadata": {},
   "outputs": [],
   "source": [
    "df_clean=data.copy()"
   ]
  },
  {
   "cell_type": "code",
   "execution_count": 8,
   "metadata": {
    "scrolled": true
   },
   "outputs": [],
   "source": [
    "df_clean=df_clean.drop(df_clean[data['revenue']<0].index)"
   ]
  },
  {
   "cell_type": "code",
   "execution_count": 9,
   "metadata": {},
   "outputs": [
    {
     "data": {
      "text/html": [
       "<div>\n",
       "<style scoped>\n",
       "    .dataframe tbody tr th:only-of-type {\n",
       "        vertical-align: middle;\n",
       "    }\n",
       "\n",
       "    .dataframe tbody tr th {\n",
       "        vertical-align: top;\n",
       "    }\n",
       "\n",
       "    .dataframe thead th {\n",
       "        text-align: right;\n",
       "    }\n",
       "</style>\n",
       "<table border=\"1\" class=\"dataframe\">\n",
       "  <thead>\n",
       "    <tr style=\"text-align: right;\">\n",
       "      <th></th>\n",
       "      <th>store_id</th>\n",
       "      <th>city</th>\n",
       "      <th>channel</th>\n",
       "      <th>gender_group</th>\n",
       "      <th>age_group</th>\n",
       "      <th>wkd_ind</th>\n",
       "      <th>product</th>\n",
       "      <th>customer</th>\n",
       "      <th>revenue</th>\n",
       "      <th>order</th>\n",
       "      <th>quant</th>\n",
       "      <th>unit_cost</th>\n",
       "      <th>unit_price</th>\n",
       "    </tr>\n",
       "  </thead>\n",
       "  <tbody>\n",
       "    <tr>\n",
       "      <th>count</th>\n",
       "      <td>22292.000000</td>\n",
       "      <td>22292</td>\n",
       "      <td>22292</td>\n",
       "      <td>22292</td>\n",
       "      <td>22292</td>\n",
       "      <td>22292</td>\n",
       "      <td>22292</td>\n",
       "      <td>22292.000000</td>\n",
       "      <td>22292.000000</td>\n",
       "      <td>22292.000000</td>\n",
       "      <td>22292.000000</td>\n",
       "      <td>22292.000000</td>\n",
       "      <td>22292.000000</td>\n",
       "    </tr>\n",
       "    <tr>\n",
       "      <th>unique</th>\n",
       "      <td>NaN</td>\n",
       "      <td>10</td>\n",
       "      <td>2</td>\n",
       "      <td>3</td>\n",
       "      <td>11</td>\n",
       "      <td>2</td>\n",
       "      <td>9</td>\n",
       "      <td>NaN</td>\n",
       "      <td>NaN</td>\n",
       "      <td>NaN</td>\n",
       "      <td>NaN</td>\n",
       "      <td>NaN</td>\n",
       "      <td>NaN</td>\n",
       "    </tr>\n",
       "    <tr>\n",
       "      <th>top</th>\n",
       "      <td>NaN</td>\n",
       "      <td>深圳</td>\n",
       "      <td>线下</td>\n",
       "      <td>Female</td>\n",
       "      <td>30-34</td>\n",
       "      <td>Weekday</td>\n",
       "      <td>T恤</td>\n",
       "      <td>NaN</td>\n",
       "      <td>NaN</td>\n",
       "      <td>NaN</td>\n",
       "      <td>NaN</td>\n",
       "      <td>NaN</td>\n",
       "      <td>NaN</td>\n",
       "    </tr>\n",
       "    <tr>\n",
       "      <th>freq</th>\n",
       "      <td>NaN</td>\n",
       "      <td>4364</td>\n",
       "      <td>18403</td>\n",
       "      <td>14207</td>\n",
       "      <td>4426</td>\n",
       "      <td>12464</td>\n",
       "      <td>10610</td>\n",
       "      <td>NaN</td>\n",
       "      <td>NaN</td>\n",
       "      <td>NaN</td>\n",
       "      <td>NaN</td>\n",
       "      <td>NaN</td>\n",
       "      <td>NaN</td>\n",
       "    </tr>\n",
       "    <tr>\n",
       "      <th>mean</th>\n",
       "      <td>335.402521</td>\n",
       "      <td>NaN</td>\n",
       "      <td>NaN</td>\n",
       "      <td>NaN</td>\n",
       "      <td>NaN</td>\n",
       "      <td>NaN</td>\n",
       "      <td>NaN</td>\n",
       "      <td>1.629508</td>\n",
       "      <td>159.538557</td>\n",
       "      <td>1.652028</td>\n",
       "      <td>1.858066</td>\n",
       "      <td>46.124529</td>\n",
       "      <td>84.283779</td>\n",
       "    </tr>\n",
       "    <tr>\n",
       "      <th>std</th>\n",
       "      <td>230.235512</td>\n",
       "      <td>NaN</td>\n",
       "      <td>NaN</td>\n",
       "      <td>NaN</td>\n",
       "      <td>NaN</td>\n",
       "      <td>NaN</td>\n",
       "      <td>NaN</td>\n",
       "      <td>1.785640</td>\n",
       "      <td>276.258179</td>\n",
       "      <td>1.861517</td>\n",
       "      <td>2.347353</td>\n",
       "      <td>19.124766</td>\n",
       "      <td>46.311894</td>\n",
       "    </tr>\n",
       "    <tr>\n",
       "      <th>min</th>\n",
       "      <td>19.000000</td>\n",
       "      <td>NaN</td>\n",
       "      <td>NaN</td>\n",
       "      <td>NaN</td>\n",
       "      <td>NaN</td>\n",
       "      <td>NaN</td>\n",
       "      <td>NaN</td>\n",
       "      <td>1.000000</td>\n",
       "      <td>0.000000</td>\n",
       "      <td>1.000000</td>\n",
       "      <td>1.000000</td>\n",
       "      <td>9.000000</td>\n",
       "      <td>0.000000</td>\n",
       "    </tr>\n",
       "    <tr>\n",
       "      <th>25%</th>\n",
       "      <td>142.000000</td>\n",
       "      <td>NaN</td>\n",
       "      <td>NaN</td>\n",
       "      <td>NaN</td>\n",
       "      <td>NaN</td>\n",
       "      <td>NaN</td>\n",
       "      <td>NaN</td>\n",
       "      <td>1.000000</td>\n",
       "      <td>64.000000</td>\n",
       "      <td>1.000000</td>\n",
       "      <td>1.000000</td>\n",
       "      <td>49.000000</td>\n",
       "      <td>56.000000</td>\n",
       "    </tr>\n",
       "    <tr>\n",
       "      <th>50%</th>\n",
       "      <td>315.000000</td>\n",
       "      <td>NaN</td>\n",
       "      <td>NaN</td>\n",
       "      <td>NaN</td>\n",
       "      <td>NaN</td>\n",
       "      <td>NaN</td>\n",
       "      <td>NaN</td>\n",
       "      <td>1.000000</td>\n",
       "      <td>99.000000</td>\n",
       "      <td>1.000000</td>\n",
       "      <td>1.000000</td>\n",
       "      <td>49.000000</td>\n",
       "      <td>79.000000</td>\n",
       "    </tr>\n",
       "    <tr>\n",
       "      <th>75%</th>\n",
       "      <td>480.000000</td>\n",
       "      <td>NaN</td>\n",
       "      <td>NaN</td>\n",
       "      <td>NaN</td>\n",
       "      <td>NaN</td>\n",
       "      <td>NaN</td>\n",
       "      <td>NaN</td>\n",
       "      <td>2.000000</td>\n",
       "      <td>175.000000</td>\n",
       "      <td>2.000000</td>\n",
       "      <td>2.000000</td>\n",
       "      <td>49.000000</td>\n",
       "      <td>99.000000</td>\n",
       "    </tr>\n",
       "    <tr>\n",
       "      <th>max</th>\n",
       "      <td>831.000000</td>\n",
       "      <td>NaN</td>\n",
       "      <td>NaN</td>\n",
       "      <td>NaN</td>\n",
       "      <td>NaN</td>\n",
       "      <td>NaN</td>\n",
       "      <td>NaN</td>\n",
       "      <td>58.000000</td>\n",
       "      <td>12538.000000</td>\n",
       "      <td>65.000000</td>\n",
       "      <td>84.000000</td>\n",
       "      <td>99.000000</td>\n",
       "      <td>299.000000</td>\n",
       "    </tr>\n",
       "  </tbody>\n",
       "</table>\n",
       "</div>"
      ],
      "text/plain": [
       "            store_id   city channel gender_group age_group  wkd_ind product  \\\n",
       "count   22292.000000  22292   22292        22292     22292    22292   22292   \n",
       "unique           NaN     10       2            3        11        2       9   \n",
       "top              NaN     深圳      线下       Female     30-34  Weekday      T恤   \n",
       "freq             NaN   4364   18403        14207      4426    12464   10610   \n",
       "mean      335.402521    NaN     NaN          NaN       NaN      NaN     NaN   \n",
       "std       230.235512    NaN     NaN          NaN       NaN      NaN     NaN   \n",
       "min        19.000000    NaN     NaN          NaN       NaN      NaN     NaN   \n",
       "25%       142.000000    NaN     NaN          NaN       NaN      NaN     NaN   \n",
       "50%       315.000000    NaN     NaN          NaN       NaN      NaN     NaN   \n",
       "75%       480.000000    NaN     NaN          NaN       NaN      NaN     NaN   \n",
       "max       831.000000    NaN     NaN          NaN       NaN      NaN     NaN   \n",
       "\n",
       "            customer       revenue         order         quant     unit_cost  \\\n",
       "count   22292.000000  22292.000000  22292.000000  22292.000000  22292.000000   \n",
       "unique           NaN           NaN           NaN           NaN           NaN   \n",
       "top              NaN           NaN           NaN           NaN           NaN   \n",
       "freq             NaN           NaN           NaN           NaN           NaN   \n",
       "mean        1.629508    159.538557      1.652028      1.858066     46.124529   \n",
       "std         1.785640    276.258179      1.861517      2.347353     19.124766   \n",
       "min         1.000000      0.000000      1.000000      1.000000      9.000000   \n",
       "25%         1.000000     64.000000      1.000000      1.000000     49.000000   \n",
       "50%         1.000000     99.000000      1.000000      1.000000     49.000000   \n",
       "75%         2.000000    175.000000      2.000000      2.000000     49.000000   \n",
       "max        58.000000  12538.000000     65.000000     84.000000     99.000000   \n",
       "\n",
       "          unit_price  \n",
       "count   22292.000000  \n",
       "unique           NaN  \n",
       "top              NaN  \n",
       "freq             NaN  \n",
       "mean       84.283779  \n",
       "std        46.311894  \n",
       "min         0.000000  \n",
       "25%        56.000000  \n",
       "50%        79.000000  \n",
       "75%        99.000000  \n",
       "max       299.000000  "
      ]
     },
     "execution_count": 9,
     "metadata": {},
     "output_type": "execute_result"
    }
   ],
   "source": [
    "df_clean.describe(include='all')"
   ]
  },
  {
   "cell_type": "markdown",
   "metadata": {},
   "source": [
    "## 三、数据探索与可视化"
   ]
  },
  {
   "cell_type": "markdown",
   "metadata": {},
   "source": [
    "### 1、整体销售情况随着时间的变化是怎样的？"
   ]
  },
  {
   "cell_type": "markdown",
   "metadata": {},
   "source": [
    "    （1）思路：\n",
    "    ①变量选择：\n",
    "    销售情况可以用销售数量quant和销售金额revenue体现，时间则用周末/周中wkd_ind表示\n",
    "    ②数据关系：\n",
    "    对比销售数据在周中和周末分组下的分布情况\n",
    "    ③图表：柱状图\n",
    "    \n"
   ]
  },
  {
   "cell_type": "code",
   "execution_count": 10,
   "metadata": {},
   "outputs": [
    {
     "data": {
      "text/plain": [
       "<AxesSubplot:xlabel='wkd_ind'>"
      ]
     },
     "execution_count": 10,
     "metadata": {},
     "output_type": "execute_result"
    },
    {
     "data": {
      "image/png": "[encoded data removed]",
      "text/plain": [
       "<Figure size 432x288 with 1 Axes>"
      ]
     },
     "metadata": {
      "needs_background": "light"
     },
     "output_type": "display_data"
    }
   ],
   "source": [
    "df_clean.groupby('wkd_ind')['quant'].sum().plot(kind='bar')"
   ]
  },
  {
   "cell_type": "code",
   "execution_count": 11,
   "metadata": {},
   "outputs": [
    {
     "data": {
      "text/plain": [
       "<AxesSubplot:xlabel='wkd_ind'>"
      ]
     },
     "execution_count": 11,
     "metadata": {},
     "output_type": "execute_result"
    },
    {
     "data": {
      "image/png": "[encoded data removed]",
      "text/plain": [
       "<Figure size 432x288 with 1 Axes>"
      ]
     },
     "metadata": {
      "needs_background": "light"
     },
     "output_type": "display_data"
    }
   ],
   "source": [
    "df_clean.groupby('wkd_ind')['revenue'].sum().plot(kind='bar')"
   ]
  },
  {
   "cell_type": "code",
   "execution_count": 12,
   "metadata": {},
   "outputs": [
    {
     "data": {
      "text/plain": [
       "<AxesSubplot:xlabel='wkd_ind'>"
      ]
     },
     "execution_count": 12,
     "metadata": {},
     "output_type": "execute_result"
    },
    {
     "data": {
      "image/png": "[encoded data removed]",
      "text/plain": [
       "<Figure size 432x288 with 1 Axes>"
      ]
     },
     "metadata": {
      "needs_background": "light"
     },
     "output_type": "display_data"
    }
   ],
   "source": [
    "df_clean.groupby('wkd_ind')['revenue'].mean().plot(kind='bar')"
   ]
  },
  {
   "cell_type": "markdown",
   "metadata": {},
   "source": [
    "####    总结\n",
    "    从上图可以看出，整体来看，在周末的销售数量和销售总额要远高于在工作日的，但是周末销售总额的均值不如总和显著"
   ]
  },
  {
   "cell_type": "markdown",
   "metadata": {},
   "source": [
    "### 2、不同产品的销售情况是怎样的？"
   ]
  },
  {
   "cell_type": "markdown",
   "metadata": {},
   "source": [
    "    （1）思路：\n",
    "    ①变量选择：\n",
    "    不同产品用产品类别product来区分，销售情况用销售数量quant和销售总额revenue，以及利润profit=revenue-unit_cost*quant来表示\n",
    "    ②数据关系：\n",
    "    对比不同类别产品在销售数量和销售总额上的区别\n",
    "    ③图表：柱状图"
   ]
  },
  {
   "cell_type": "code",
   "execution_count": 13,
   "metadata": {},
   "outputs": [
    {
     "data": {
      "text/plain": [
       "<AxesSubplot:xlabel='product'>"
      ]
     },
     "execution_count": 13,
     "metadata": {},
     "output_type": "execute_result"
    },
    {
     "data": {
      "image/png": "[encoded data removed]",
      "text/plain": [
       "<Figure size 432x288 with 1 Axes>"
      ]
     },
     "metadata": {
      "needs_background": "light"
     },
     "output_type": "display_data"
    }
   ],
   "source": [
    "df_clean.groupby('product')['quant'].sum().plot(kind='bar')"
   ]
  },
  {
   "cell_type": "code",
   "execution_count": 14,
   "metadata": {},
   "outputs": [
    {
     "data": {
      "text/plain": [
       "<AxesSubplot:xlabel='product'>"
      ]
     },
     "execution_count": 14,
     "metadata": {},
     "output_type": "execute_result"
    },
    {
     "data": {
      "image/png": "[encoded data removed]",
      "text/plain": [
       "<Figure size 432x288 with 1 Axes>"
      ]
     },
     "metadata": {
      "needs_background": "light"
     },
     "output_type": "display_data"
    }
   ],
   "source": [
    "df_clean.groupby('product')['quant'].sum().sort_values(ascending=False).plot(kind='bar')"
   ]
  },
  {
   "cell_type": "code",
   "execution_count": 15,
   "metadata": {},
   "outputs": [
    {
     "data": {
      "text/plain": [
       "<AxesSubplot:xlabel='product'>"
      ]
     },
     "execution_count": 15,
     "metadata": {},
     "output_type": "execute_result"
    },
    {
     "data": {
      "image/png": "[encoded data removed]",
      "text/plain": [
       "<Figure size 432x288 with 1 Axes>"
      ]
     },
     "metadata": {
      "needs_background": "light"
     },
     "output_type": "display_data"
    }
   ],
   "source": [
    "df_clean.groupby('product')['revenue'].sum().sort_values(ascending=False).plot(kind='bar')"
   ]
  },
  {
   "cell_type": "code",
   "execution_count": 16,
   "metadata": {},
   "outputs": [
    {
     "data": {
      "text/plain": [
       "<AxesSubplot:xlabel='product'>"
      ]
     },
     "execution_count": 16,
     "metadata": {},
     "output_type": "execute_result"
    },
    {
     "data": {
      "image/png": "[encoded data removed]",
      "text/plain": [
       "<Figure size 432x288 with 1 Axes>"
      ]
     },
     "metadata": {
      "needs_background": "light"
     },
     "output_type": "display_data"
    }
   ],
   "source": [
    "df_clean['profit']=df_clean['revenue']-df_clean['quant']*df_clean['unit_cost']\n",
    "df_clean.groupby('product')['profit'].sum().sort_values(ascending=False).plot(kind='bar')"
   ]
  },
  {
   "cell_type": "code",
   "execution_count": 17,
   "metadata": {},
   "outputs": [
    {
     "data": {
      "text/plain": [
       "<AxesSubplot:xlabel='product'>"
      ]
     },
     "execution_count": 17,
     "metadata": {},
     "output_type": "execute_result"
    },
    {
     "data": {
      "image/png": "[encoded data removed]",
      "text/plain": [
       "<Figure size 432x288 with 1 Axes>"
      ]
     },
     "metadata": {
      "needs_background": "light"
     },
     "output_type": "display_data"
    }
   ],
   "source": [
    "df_clean.groupby('product')['profit'].mean().sort_values(ascending=False).plot(kind='bar')"
   ]
  },
  {
   "cell_type": "markdown",
   "metadata": {},
   "source": [
    "#### 总结"
   ]
  },
  {
   "cell_type": "markdown",
   "metadata": {},
   "source": [
    "    由上图可知，无论是销售数量、销售金额还是利润综总和，T恤占据绝对领先的位置，是第二名的两倍以上\n",
    "    其次是当季新品和配件，其中虽然当季新品的销售数量和金额高于配件，但配件的利润总和要稍高于当季新品\n",
    "    而对于平均利润而言，配件、毛衣和裤子的平均利润最高，都在100元以上"
   ]
  },
  {
   "cell_type": "markdown",
   "metadata": {},
   "source": [
    "### 3、顾客偏爱哪一种购买方式？"
   ]
  },
  {
   "cell_type": "markdown",
   "metadata": {},
   "source": [
    "    思路：\n",
    "    ①变量选择：细分为什么样的顾客偏好什么样的购买方式：\n",
    "    顾客数量用count来表示，顾客可以用所在城市city、性别gender_Group、年龄段age_group来分类，购买方式用购买渠道channel来表示\n",
    "    ②数据关系：\n",
    "    对比不同特征的顾客在不同渠道上的分布\n",
    "    ③图表：柱状图"
   ]
  },
  {
   "cell_type": "markdown",
   "metadata": {},
   "source": [
    "    ·城市"
   ]
  },
  {
   "cell_type": "code",
   "execution_count": 18,
   "metadata": {},
   "outputs": [],
   "source": [
    "df_clean['count'] = 1"
   ]
  },
  {
   "cell_type": "code",
   "execution_count": 19,
   "metadata": {},
   "outputs": [
    {
     "data": {
      "text/plain": [
       "<seaborn.axisgrid.FacetGrid at 0x28ed9048ca0>"
      ]
     },
     "execution_count": 19,
     "metadata": {},
     "output_type": "execute_result"
    },
    {
     "data": {
      "image/png": "[encoded data removed]",
      "text/plain": [
       "<Figure size 360x360 with 1 Axes>"
      ]
     },
     "metadata": {
      "needs_background": "light"
     },
     "output_type": "display_data"
    }
   ],
   "source": [
    "tmp0 = df_clean.groupby(['city'])['count'].count().sort_values(ascending=False)\n",
    "tmp0 = tmp0.reset_index()\n",
    "sns.catplot(x='city',y='count',kind='bar',data=tmp0)"
   ]
  },
  {
   "cell_type": "markdown",
   "metadata": {},
   "source": [
    "    ·渠道和城市"
   ]
  },
  {
   "cell_type": "code",
   "execution_count": 20,
   "metadata": {},
   "outputs": [],
   "source": [
    "tmp1 = df_clean.groupby(['channel','city'])['count'].count()\n",
    "tmp1 = tmp1.reset_index()"
   ]
  },
  {
   "cell_type": "code",
   "execution_count": 21,
   "metadata": {},
   "outputs": [
    {
     "data": {
      "text/plain": [
       "<seaborn.axisgrid.FacetGrid at 0x28ed8ef56a0>"
      ]
     },
     "execution_count": 21,
     "metadata": {},
     "output_type": "execute_result"
    },
    {
     "data": {
      "image/png": "[encoded data removed]",
      "text/plain": [
       "<Figure size 416x360 with 1 Axes>"
      ]
     },
     "metadata": {
      "needs_background": "light"
     },
     "output_type": "display_data"
    }
   ],
   "source": [
    "sns.catplot(x='city',y='count',hue='channel',kind='bar',data=tmp1)"
   ]
  },
  {
   "cell_type": "markdown",
   "metadata": {},
   "source": [
    "    ·渠道和性别"
   ]
  },
  {
   "cell_type": "code",
   "execution_count": 22,
   "metadata": {},
   "outputs": [
    {
     "data": {
      "text/plain": [
       "<seaborn.axisgrid.FacetGrid at 0x28ed8f42b20>"
      ]
     },
     "execution_count": 22,
     "metadata": {},
     "output_type": "execute_result"
    },
    {
     "data": {
      "image/png": "[encoded data removed]",
      "text/plain": [
       "<Figure size 416x360 with 1 Axes>"
      ]
     },
     "metadata": {
      "needs_background": "light"
     },
     "output_type": "display_data"
    }
   ],
   "source": [
    "tmp2 = df_clean.groupby(['channel','gender_group'])['count'].count()\n",
    "tmp2 = tmp2.reset_index()\n",
    "sns.catplot(x='gender_group',y='count',hue='channel',kind='bar',data=tmp2)"
   ]
  },
  {
   "cell_type": "markdown",
   "metadata": {},
   "source": [
    "    ·渠道和年龄"
   ]
  },
  {
   "cell_type": "code",
   "execution_count": 23,
   "metadata": {},
   "outputs": [
    {
     "data": {
      "text/plain": [
       "<seaborn.axisgrid.FacetGrid at 0x28ed8e69f40>"
      ]
     },
     "execution_count": 23,
     "metadata": {},
     "output_type": "execute_result"
    },
    {
     "data": {
      "image/png": "[encoded data removed]",
      "text/plain": [
       "<Figure size 416x360 with 1 Axes>"
      ]
     },
     "metadata": {
      "needs_background": "light"
     },
     "output_type": "display_data"
    }
   ],
   "source": [
    "tmp3 = df_clean.groupby(['channel','age_group'])['count'].count()\n",
    "tmp3 = tmp3.reset_index()\n",
    "sns.catplot(x='age_group',y='count',hue='channel',kind='bar',data=tmp3)"
   ]
  },
  {
   "cell_type": "code",
   "execution_count": 24,
   "metadata": {},
   "outputs": [],
   "source": [
    "age_orders = ['<20','20-24','25-29',  '30-34','35-39',  '40-44','45-49', '50-54','55-59','>=60', 'Unkown']"
   ]
  },
  {
   "cell_type": "code",
   "execution_count": 25,
   "metadata": {
    "scrolled": true
   },
   "outputs": [
    {
     "data": {
      "text/plain": [
       "<seaborn.axisgrid.FacetGrid at 0x28ed9233910>"
      ]
     },
     "execution_count": 25,
     "metadata": {},
     "output_type": "execute_result"
    },
    {
     "data": {
      "image/png": "[encoded data removed]",
      "text/plain": [
       "<Figure size 416x360 with 1 Axes>"
      ]
     },
     "metadata": {
      "needs_background": "light"
     },
     "output_type": "display_data"
    }
   ],
   "source": [
    "sns.catplot(x='age_group',y='count',hue='channel',kind='bar',data=tmp3,order=age_orders)"
   ]
  },
  {
   "cell_type": "markdown",
   "metadata": {},
   "source": [
    "    ·性别和年龄"
   ]
  },
  {
   "cell_type": "code",
   "execution_count": 68,
   "metadata": {},
   "outputs": [],
   "source": [
    "tmp4= df_clean.groupby(['gender_group','age_group'])['count'].count()\n",
    "tmp4= tmp4.reset_index()"
   ]
  },
  {
   "cell_type": "code",
   "execution_count": 69,
   "metadata": {
    "scrolled": false
   },
   "outputs": [
    {
     "data": {
      "text/plain": [
       "<seaborn.axisgrid.FacetGrid at 0x1eb76755dc0>"
      ]
     },
     "execution_count": 69,
     "metadata": {},
     "output_type": "execute_result"
    },
    {
     "data": {
      "image/png": "[encoded data removed]",
      "text/plain": [
       "<Figure size 428.125x360 with 1 Axes>"
      ]
     },
     "metadata": {
      "needs_background": "light"
     },
     "output_type": "display_data"
    }
   ],
   "source": [
    "sns.catplot(x='age_group',y='count',hue='gender_group',kind='bar',data=tmp4,order=age_orders)"
   ]
  },
  {
   "cell_type": "markdown",
   "metadata": {},
   "source": [
    "#### 总结"
   ]
  },
  {
   "cell_type": "markdown",
   "metadata": {
    "scrolled": true
   },
   "source": [
    "    由上述图形可得：\n",
    "    对于渠道来说：绝大部分的城市偏好线下购买，只有广州是唯一线上超过线下的地方；全年龄段以及无论男女都更偏好在线下商店购买优衣库的产品\n",
    "    对于城市来说：深圳、杭州和武汉是订单数最多的城市，均在3500以上，同时深圳和杭州几乎全是线下销售\n",
    "    性别和年龄段：同时男女客户均集中分布在20~44岁之间，其中女性远多于男性，超过部分主要来自线下购物 \n"
   ]
  },
  {
   "cell_type": "markdown",
   "metadata": {},
   "source": [
    "### 4、销售额和产品成本之间的关系怎么样？"
   ]
  },
  {
   "cell_type": "markdown",
   "metadata": {},
   "source": [
    "    思路：\n",
    "    ①变量选择：\n",
    "    销售额可以用销售金额revenue和销售数量quant来度量，产品成本使用unit_cost表示\n",
    "    ②数据关系：\n",
    "    分析销售金额和销售数量与产品成本的相关关系\n",
    "    ③图表：\n",
    "    相关系数表+热力图"
   ]
  },
  {
   "cell_type": "code",
   "execution_count": 97,
   "metadata": {},
   "outputs": [
    {
     "data": {
      "text/html": [
       "<div>\n",
       "<style scoped>\n",
       "    .dataframe tbody tr th:only-of-type {\n",
       "        vertical-align: middle;\n",
       "    }\n",
       "\n",
       "    .dataframe tbody tr th {\n",
       "        vertical-align: top;\n",
       "    }\n",
       "\n",
       "    .dataframe thead th {\n",
       "        text-align: right;\n",
       "    }\n",
       "</style>\n",
       "<table border=\"1\" class=\"dataframe\">\n",
       "  <thead>\n",
       "    <tr style=\"text-align: right;\">\n",
       "      <th></th>\n",
       "      <th>revenue</th>\n",
       "      <th>tol_cost</th>\n",
       "      <th>profit</th>\n",
       "    </tr>\n",
       "  </thead>\n",
       "  <tbody>\n",
       "    <tr>\n",
       "      <th>revenue</th>\n",
       "      <td>1.000000</td>\n",
       "      <td>0.901396</td>\n",
       "      <td>0.961068</td>\n",
       "    </tr>\n",
       "    <tr>\n",
       "      <th>tol_cost</th>\n",
       "      <td>0.901396</td>\n",
       "      <td>1.000000</td>\n",
       "      <td>0.746662</td>\n",
       "    </tr>\n",
       "    <tr>\n",
       "      <th>profit</th>\n",
       "      <td>0.961068</td>\n",
       "      <td>0.746662</td>\n",
       "      <td>1.000000</td>\n",
       "    </tr>\n",
       "  </tbody>\n",
       "</table>\n",
       "</div>"
      ],
      "text/plain": [
       "           revenue  tol_cost    profit\n",
       "revenue   1.000000  0.901396  0.961068\n",
       "tol_cost  0.901396  1.000000  0.746662\n",
       "profit    0.961068  0.746662  1.000000"
      ]
     },
     "execution_count": 97,
     "metadata": {},
     "output_type": "execute_result"
    }
   ],
   "source": [
    "df_clean['tol_cost']=df_clean['quant']*df_clean['unit_cost']\n",
    "rel=['revenue','tol_cost','profit']\n",
    "df_clean[rel].corr()"
   ]
  },
  {
   "cell_type": "code",
   "execution_count": 98,
   "metadata": {},
   "outputs": [
    {
     "data": {
      "text/plain": [
       "<AxesSubplot:>"
      ]
     },
     "execution_count": 98,
     "metadata": {},
     "output_type": "execute_result"
    },
    {
     "data": {
      "image/png": "[encoded data removed]",
      "text/plain": [
       "<Figure size 432x288 with 2 Axes>"
      ]
     },
     "metadata": {
      "needs_background": "light"
     },
     "output_type": "display_data"
    }
   ],
   "source": [
    "sns.heatmap(df_clean[rel].corr())"
   ]
  },
  {
   "cell_type": "markdown",
   "metadata": {},
   "source": [
    "#### 总结"
   ]
  },
  {
   "cell_type": "markdown",
   "metadata": {},
   "source": [
    "    由上图和上表可以看出：\n",
    "    销售金额与总成本的相关系数为正，且接近与1，表示二者之间存在强烈的正相关的关系\n",
    "    同时销售金额与总利润的相关系数也为正，且接近与1，表示二者之间存在强烈的正相关的关系"
   ]
  },
  {
   "cell_type": "markdown",
   "metadata": {},
   "source": [
    "### 5、总体业务总结"
   ]
  },
  {
   "cell_type": "markdown",
   "metadata": {},
   "source": [
    "    ·数据主要集中在深圳、杭州和武汉等城市，北京和南京数据较少\n",
    "    ·无论性别如何，和年龄如何，选择线下购买的客户都远高于线上购买的\n",
    "    ·优衣库的客户年龄主要分布在20~44岁之间，且女性多于男性\n",
    "    ·周末的客户数量和销售总额显著高于工作日的，但是销售额均值超出值并不多\n",
    "    ·T恤、当今新品是最畅销的产品，T恤和配件是利润总额最高的商品，但是配件的单件利润要显著高\n"
   ]
  }
 ],
 "metadata": {
  "kernelspec": {
   "display_name": "Python 3",
   "language": "python",
   "name": "python3"
  },
  "language_info": {
   "codemirror_mode": {
    "name": "ipython",
    "version": 3
   },
   "file_extension": ".py",
   "mimetype": "text/x-python",
   "name": "python",
   "nbconvert_exporter": "python",
   "pygments_lexer": "ipython3",
   "version": "3.8.8"
  }
 },
 "nbformat": 4,
 "nbformat_minor": 4
}
