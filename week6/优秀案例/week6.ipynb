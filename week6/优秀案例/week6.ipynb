{
 "cells": [
  {
   "cell_type": "code",
   "execution_count": 1,
   "metadata": {},
   "outputs": [],
   "source": [
    "import pandas as pd\n",
    "import matplotlib.pyplot as plt\n",
    "import seaborn as sns\n",
    "from sklearn.linear_model import LinearRegression\n",
    "%matplotlib inline\n",
    "red=pd.read_csv('小红书数据.csv')"
   ]
  },
  {
   "cell_type": "code",
   "execution_count": 2,
   "metadata": {},
   "outputs": [
    {
     "data": {
      "text/html": [
       "<div>\n",
       "<style scoped>\n",
       "    .dataframe tbody tr th:only-of-type {\n",
       "        vertical-align: middle;\n",
       "    }\n",
       "\n",
       "    .dataframe tbody tr th {\n",
       "        vertical-align: top;\n",
       "    }\n",
       "\n",
       "    .dataframe thead th {\n",
       "        text-align: right;\n",
       "    }\n",
       "</style>\n",
       "<table border=\"1\" class=\"dataframe\">\n",
       "  <thead>\n",
       "    <tr style=\"text-align: right;\">\n",
       "      <th></th>\n",
       "      <th>revenue</th>\n",
       "      <th>gender</th>\n",
       "      <th>age</th>\n",
       "      <th>engaged_last_30</th>\n",
       "      <th>lifecycle</th>\n",
       "      <th>days_since_last_order</th>\n",
       "      <th>previous_order_amount</th>\n",
       "      <th>3rd_party_stores</th>\n",
       "    </tr>\n",
       "  </thead>\n",
       "  <tbody>\n",
       "    <tr>\n",
       "      <th>0</th>\n",
       "      <td>72.98</td>\n",
       "      <td>0.0</td>\n",
       "      <td>43.0</td>\n",
       "      <td>0.0</td>\n",
       "      <td>B</td>\n",
       "      <td>4.26</td>\n",
       "      <td>2343.870</td>\n",
       "      <td>0</td>\n",
       "    </tr>\n",
       "    <tr>\n",
       "      <th>1</th>\n",
       "      <td>200.99</td>\n",
       "      <td>0.0</td>\n",
       "      <td>34.0</td>\n",
       "      <td>0.0</td>\n",
       "      <td>A</td>\n",
       "      <td>0.94</td>\n",
       "      <td>8539.872</td>\n",
       "      <td>0</td>\n",
       "    </tr>\n",
       "    <tr>\n",
       "      <th>2</th>\n",
       "      <td>69.98</td>\n",
       "      <td>0.0</td>\n",
       "      <td>16.0</td>\n",
       "      <td>0.0</td>\n",
       "      <td>C</td>\n",
       "      <td>4.29</td>\n",
       "      <td>1687.646</td>\n",
       "      <td>1</td>\n",
       "    </tr>\n",
       "    <tr>\n",
       "      <th>3</th>\n",
       "      <td>649.99</td>\n",
       "      <td>NaN</td>\n",
       "      <td>NaN</td>\n",
       "      <td>NaN</td>\n",
       "      <td>C</td>\n",
       "      <td>14.90</td>\n",
       "      <td>3498.846</td>\n",
       "      <td>0</td>\n",
       "    </tr>\n",
       "    <tr>\n",
       "      <th>4</th>\n",
       "      <td>83.59</td>\n",
       "      <td>NaN</td>\n",
       "      <td>NaN</td>\n",
       "      <td>NaN</td>\n",
       "      <td>C</td>\n",
       "      <td>21.13</td>\n",
       "      <td>3968.490</td>\n",
       "      <td>4</td>\n",
       "    </tr>\n",
       "    <tr>\n",
       "      <th>...</th>\n",
       "      <td>...</td>\n",
       "      <td>...</td>\n",
       "      <td>...</td>\n",
       "      <td>...</td>\n",
       "      <td>...</td>\n",
       "      <td>...</td>\n",
       "      <td>...</td>\n",
       "      <td>...</td>\n",
       "    </tr>\n",
       "    <tr>\n",
       "      <th>29447</th>\n",
       "      <td>43.19</td>\n",
       "      <td>NaN</td>\n",
       "      <td>NaN</td>\n",
       "      <td>NaN</td>\n",
       "      <td>C</td>\n",
       "      <td>0.94</td>\n",
       "      <td>545.180</td>\n",
       "      <td>1</td>\n",
       "    </tr>\n",
       "    <tr>\n",
       "      <th>29448</th>\n",
       "      <td>62.97</td>\n",
       "      <td>0.0</td>\n",
       "      <td>24.0</td>\n",
       "      <td>0.0</td>\n",
       "      <td>C</td>\n",
       "      <td>3.45</td>\n",
       "      <td>3738.912</td>\n",
       "      <td>1</td>\n",
       "    </tr>\n",
       "    <tr>\n",
       "      <th>29449</th>\n",
       "      <td>87.26</td>\n",
       "      <td>NaN</td>\n",
       "      <td>NaN</td>\n",
       "      <td>NaN</td>\n",
       "      <td>C</td>\n",
       "      <td>10.42</td>\n",
       "      <td>1279.530</td>\n",
       "      <td>0</td>\n",
       "    </tr>\n",
       "    <tr>\n",
       "      <th>29450</th>\n",
       "      <td>19.99</td>\n",
       "      <td>0.0</td>\n",
       "      <td>27.0</td>\n",
       "      <td>0.0</td>\n",
       "      <td>C</td>\n",
       "      <td>16.87</td>\n",
       "      <td>669.580</td>\n",
       "      <td>3</td>\n",
       "    </tr>\n",
       "    <tr>\n",
       "      <th>29451</th>\n",
       "      <td>741.93</td>\n",
       "      <td>NaN</td>\n",
       "      <td>NaN</td>\n",
       "      <td>NaN</td>\n",
       "      <td>C</td>\n",
       "      <td>7.13</td>\n",
       "      <td>2102.950</td>\n",
       "      <td>0</td>\n",
       "    </tr>\n",
       "  </tbody>\n",
       "</table>\n",
       "<p>29452 rows × 8 columns</p>\n",
       "</div>"
      ],
      "text/plain": [
       "       revenue  gender   age  engaged_last_30 lifecycle  \\\n",
       "0        72.98     0.0  43.0              0.0         B   \n",
       "1       200.99     0.0  34.0              0.0         A   \n",
       "2        69.98     0.0  16.0              0.0         C   \n",
       "3       649.99     NaN   NaN              NaN         C   \n",
       "4        83.59     NaN   NaN              NaN         C   \n",
       "...        ...     ...   ...              ...       ...   \n",
       "29447    43.19     NaN   NaN              NaN         C   \n",
       "29448    62.97     0.0  24.0              0.0         C   \n",
       "29449    87.26     NaN   NaN              NaN         C   \n",
       "29450    19.99     0.0  27.0              0.0         C   \n",
       "29451   741.93     NaN   NaN              NaN         C   \n",
       "\n",
       "        days_since_last_order   previous_order_amount  3rd_party_stores  \n",
       "0                         4.26               2343.870                 0  \n",
       "1                         0.94               8539.872                 0  \n",
       "2                         4.29               1687.646                 1  \n",
       "3                        14.90               3498.846                 0  \n",
       "4                        21.13               3968.490                 4  \n",
       "...                        ...                    ...               ...  \n",
       "29447                     0.94                545.180                 1  \n",
       "29448                     3.45               3738.912                 1  \n",
       "29449                    10.42               1279.530                 0  \n",
       "29450                    16.87                669.580                 3  \n",
       "29451                     7.13               2102.950                 0  \n",
       "\n",
       "[29452 rows x 8 columns]"
      ]
     },
     "execution_count": 2,
     "metadata": {},
     "output_type": "execute_result"
    }
   ],
   "source": [
    "red"
   ]
  },
  {
   "cell_type": "code",
   "execution_count": 3,
   "metadata": {},
   "outputs": [
    {
     "name": "stdout",
     "output_type": "stream",
     "text": [
      "<class 'pandas.core.frame.DataFrame'>\n",
      "RangeIndex: 29452 entries, 0 to 29451\n",
      "Data columns (total 8 columns):\n",
      " #   Column                   Non-Null Count  Dtype  \n",
      "---  ------                   --------------  -----  \n",
      " 0   revenue                  29452 non-null  float64\n",
      " 1   gender                   17723 non-null  float64\n",
      " 2   age                      17723 non-null  float64\n",
      " 3   engaged_last_30          17723 non-null  float64\n",
      " 4   lifecycle                29452 non-null  object \n",
      " 5    days_since_last_order   29452 non-null  float64\n",
      " 6   previous_order_amount    29452 non-null  float64\n",
      " 7   3rd_party_stores         29452 non-null  int64  \n",
      "dtypes: float64(6), int64(1), object(1)\n",
      "memory usage: 1.8+ MB\n"
     ]
    }
   ],
   "source": [
    "red.info()"
   ]
  },
  {
   "cell_type": "code",
   "execution_count": 4,
   "metadata": {},
   "outputs": [
    {
     "data": {
      "text/plain": [
       "0.0    12438\n",
       "1.0     5285\n",
       "Name: gender, dtype: int64"
      ]
     },
     "execution_count": 4,
     "metadata": {},
     "output_type": "execute_result"
    }
   ],
   "source": [
    "red.gender.value_counts()"
   ]
  },
  {
   "cell_type": "code",
   "execution_count": 5,
   "metadata": {},
   "outputs": [
    {
     "data": {
      "text/plain": [
       "20.0    598\n",
       "31.0    578\n",
       "19.0    577\n",
       "16.0    576\n",
       "17.0    569\n",
       "35.0    569\n",
       "29.0    569\n",
       "21.0    568\n",
       "34.0    567\n",
       "44.0    565\n",
       "30.0    563\n",
       "43.0    561\n",
       "24.0    560\n",
       "25.0    560\n",
       "26.0    560\n",
       "15.0    560\n",
       "42.0    558\n",
       "38.0    557\n",
       "37.0    556\n",
       "23.0    556\n",
       "33.0    548\n",
       "32.0    544\n",
       "28.0    537\n",
       "18.0    537\n",
       "22.0    537\n",
       "39.0    534\n",
       "40.0    534\n",
       "27.0    529\n",
       "36.0    527\n",
       "45.0    525\n",
       "41.0    523\n",
       "14.0    521\n",
       "Name: age, dtype: int64"
      ]
     },
     "execution_count": 5,
     "metadata": {},
     "output_type": "execute_result"
    }
   ],
   "source": [
    "red.age.value_counts()"
   ]
  },
  {
   "cell_type": "code",
   "execution_count": 6,
   "metadata": {},
   "outputs": [
    {
     "data": {
      "text/plain": [
       "0.0    16428\n",
       "1.0     1295\n",
       "Name: engaged_last_30, dtype: int64"
      ]
     },
     "execution_count": 6,
     "metadata": {},
     "output_type": "execute_result"
    }
   ],
   "source": [
    "red.engaged_last_30.value_counts()"
   ]
  },
  {
   "cell_type": "code",
   "execution_count": 7,
   "metadata": {},
   "outputs": [],
   "source": [
    "red['gender']=red['gender'].fillna('unknown')\n",
    "red['engaged_last_30']=red['engaged_last_30'].fillna('unknown')\n",
    "red['age']=red['age'].fillna(method='ffill')"
   ]
  },
  {
   "cell_type": "code",
   "execution_count": 8,
   "metadata": {},
   "outputs": [
    {
     "name": "stdout",
     "output_type": "stream",
     "text": [
      "<class 'pandas.core.frame.DataFrame'>\n",
      "RangeIndex: 29452 entries, 0 to 29451\n",
      "Data columns (total 8 columns):\n",
      " #   Column                   Non-Null Count  Dtype  \n",
      "---  ------                   --------------  -----  \n",
      " 0   revenue                  29452 non-null  float64\n",
      " 1   gender                   29452 non-null  object \n",
      " 2   age                      29452 non-null  float64\n",
      " 3   engaged_last_30          29452 non-null  object \n",
      " 4   lifecycle                29452 non-null  object \n",
      " 5    days_since_last_order   29452 non-null  float64\n",
      " 6   previous_order_amount    29452 non-null  float64\n",
      " 7   3rd_party_stores         29452 non-null  int64  \n",
      "dtypes: float64(4), int64(1), object(3)\n",
      "memory usage: 1.8+ MB\n"
     ]
    }
   ],
   "source": [
    "red.info()"
   ]
  },
  {
   "cell_type": "code",
   "execution_count": 9,
   "metadata": {},
   "outputs": [
    {
     "data": {
      "text/html": [
       "<div>\n",
       "<style scoped>\n",
       "    .dataframe tbody tr th:only-of-type {\n",
       "        vertical-align: middle;\n",
       "    }\n",
       "\n",
       "    .dataframe tbody tr th {\n",
       "        vertical-align: top;\n",
       "    }\n",
       "\n",
       "    .dataframe thead th {\n",
       "        text-align: right;\n",
       "    }\n",
       "</style>\n",
       "<table border=\"1\" class=\"dataframe\">\n",
       "  <thead>\n",
       "    <tr style=\"text-align: right;\">\n",
       "      <th></th>\n",
       "      <th>revenue</th>\n",
       "      <th>age</th>\n",
       "      <th>days_since_last_order</th>\n",
       "      <th>previous_order_amount</th>\n",
       "      <th>3rd_party_stores</th>\n",
       "    </tr>\n",
       "  </thead>\n",
       "  <tbody>\n",
       "    <tr>\n",
       "      <th>count</th>\n",
       "      <td>29452.000000</td>\n",
       "      <td>29452.000000</td>\n",
       "      <td>29452.000000</td>\n",
       "      <td>29452.000000</td>\n",
       "      <td>29452.000000</td>\n",
       "    </tr>\n",
       "    <tr>\n",
       "      <th>mean</th>\n",
       "      <td>397.071515</td>\n",
       "      <td>29.484517</td>\n",
       "      <td>7.711348</td>\n",
       "      <td>2339.254020</td>\n",
       "      <td>2.286059</td>\n",
       "    </tr>\n",
       "    <tr>\n",
       "      <th>std</th>\n",
       "      <td>959.755615</td>\n",
       "      <td>9.235994</td>\n",
       "      <td>6.489289</td>\n",
       "      <td>2361.572921</td>\n",
       "      <td>3.538219</td>\n",
       "    </tr>\n",
       "    <tr>\n",
       "      <th>min</th>\n",
       "      <td>0.020000</td>\n",
       "      <td>14.000000</td>\n",
       "      <td>0.130000</td>\n",
       "      <td>0.000000</td>\n",
       "      <td>0.000000</td>\n",
       "    </tr>\n",
       "    <tr>\n",
       "      <th>25%</th>\n",
       "      <td>74.970000</td>\n",
       "      <td>21.000000</td>\n",
       "      <td>2.190000</td>\n",
       "      <td>773.349500</td>\n",
       "      <td>0.000000</td>\n",
       "    </tr>\n",
       "    <tr>\n",
       "      <th>50%</th>\n",
       "      <td>175.980000</td>\n",
       "      <td>30.000000</td>\n",
       "      <td>5.970000</td>\n",
       "      <td>1655.790000</td>\n",
       "      <td>0.000000</td>\n",
       "    </tr>\n",
       "    <tr>\n",
       "      <th>75%</th>\n",
       "      <td>498.772500</td>\n",
       "      <td>37.000000</td>\n",
       "      <td>11.740000</td>\n",
       "      <td>3084.796500</td>\n",
       "      <td>3.000000</td>\n",
       "    </tr>\n",
       "    <tr>\n",
       "      <th>max</th>\n",
       "      <td>103466.100000</td>\n",
       "      <td>45.000000</td>\n",
       "      <td>23.710000</td>\n",
       "      <td>11597.900000</td>\n",
       "      <td>10.000000</td>\n",
       "    </tr>\n",
       "  </tbody>\n",
       "</table>\n",
       "</div>"
      ],
      "text/plain": [
       "             revenue           age   days_since_last_order   \\\n",
       "count   29452.000000  29452.000000             29452.000000   \n",
       "mean      397.071515     29.484517                 7.711348   \n",
       "std       959.755615      9.235994                 6.489289   \n",
       "min         0.020000     14.000000                 0.130000   \n",
       "25%        74.970000     21.000000                 2.190000   \n",
       "50%       175.980000     30.000000                 5.970000   \n",
       "75%       498.772500     37.000000                11.740000   \n",
       "max    103466.100000     45.000000                23.710000   \n",
       "\n",
       "       previous_order_amount  3rd_party_stores  \n",
       "count           29452.000000      29452.000000  \n",
       "mean             2339.254020          2.286059  \n",
       "std              2361.572921          3.538219  \n",
       "min                 0.000000          0.000000  \n",
       "25%               773.349500          0.000000  \n",
       "50%              1655.790000          0.000000  \n",
       "75%              3084.796500          3.000000  \n",
       "max             11597.900000         10.000000  "
      ]
     },
     "execution_count": 9,
     "metadata": {},
     "output_type": "execute_result"
    }
   ],
   "source": [
    "red.describe()"
   ]
  },
  {
   "cell_type": "code",
   "execution_count": 10,
   "metadata": {},
   "outputs": [
    {
     "data": {
      "text/plain": [
       "<matplotlib.axes._subplots.AxesSubplot at 0x200e9f73e48>"
      ]
     },
     "execution_count": 10,
     "metadata": {},
     "output_type": "execute_result"
    },
    {
     "data": {
      "image/png": "[encoded data removed]",
      "text/plain": [
       "<Figure size 432x288 with 1 Axes>"
      ]
     },
     "metadata": {
      "needs_background": "light"
     },
     "output_type": "display_data"
    }
   ],
   "source": [
    "sns.boxplot(data=red,orient='h',palette='Set3')"
   ]
  },
  {
   "cell_type": "code",
   "execution_count": 11,
   "metadata": {},
   "outputs": [
    {
     "data": {
      "text/plain": [
       "239.00     830\n",
       "140.00     408\n",
       "66.98      342\n",
       "29.99      297\n",
       "69.99      283\n",
       "          ... \n",
       "1177.96      1\n",
       "927.99       1\n",
       "244.49       1\n",
       "679.00       1\n",
       "79.30        1\n",
       "Name: revenue, Length: 9772, dtype: int64"
      ]
     },
     "execution_count": 11,
     "metadata": {},
     "output_type": "execute_result"
    }
   ],
   "source": [
    "red.revenue.value_counts()"
   ]
  },
  {
   "cell_type": "code",
   "execution_count": 12,
   "metadata": {},
   "outputs": [
    {
     "data": {
      "text/plain": [
       "<matplotlib.axes._subplots.AxesSubplot at 0x200ea786548>"
      ]
     },
     "execution_count": 12,
     "metadata": {},
     "output_type": "execute_result"
    },
    {
     "data": {
      "image/png": "[encoded data removed]",
      "text/plain": [
       "<Figure size 432x288 with 1 Axes>"
      ]
     },
     "metadata": {
      "needs_background": "light"
     },
     "output_type": "display_data"
    }
   ],
   "source": [
    "sns.boxplot(data=red.revenue)"
   ]
  },
  {
   "cell_type": "code",
   "execution_count": 13,
   "metadata": {},
   "outputs": [],
   "source": [
    "red=red[red['revenue']<=8000]"
   ]
  },
  {
   "cell_type": "code",
   "execution_count": 14,
   "metadata": {},
   "outputs": [
    {
     "data": {
      "text/plain": [
       "<matplotlib.axes._subplots.AxesSubplot at 0x200ea7f69c8>"
      ]
     },
     "execution_count": 14,
     "metadata": {},
     "output_type": "execute_result"
    },
    {
     "data": {
      "image/png": "[encoded data removed]",
      "text/plain": [
       "<Figure size 432x288 with 1 Axes>"
      ]
     },
     "metadata": {
      "needs_background": "light"
     },
     "output_type": "display_data"
    }
   ],
   "source": [
    "sns.boxplot(data=red.revenue)"
   ]
  },
  {
   "cell_type": "code",
   "execution_count": 15,
   "metadata": {},
   "outputs": [
    {
     "data": {
      "text/plain": [
       "0.000        1939\n",
       "11297.900     365\n",
       "11597.900     213\n",
       "6.990          79\n",
       "2.950          79\n",
       "             ... \n",
       "3774.044        1\n",
       "1796.810        1\n",
       "4308.741        1\n",
       "1384.770        1\n",
       "1113.760        1\n",
       "Name: previous_order_amount, Length: 24215, dtype: int64"
      ]
     },
     "execution_count": 15,
     "metadata": {},
     "output_type": "execute_result"
    }
   ],
   "source": [
    "red.previous_order_amount.value_counts()"
   ]
  },
  {
   "cell_type": "code",
   "execution_count": 16,
   "metadata": {},
   "outputs": [
    {
     "data": {
      "text/plain": [
       "<matplotlib.axes._subplots.AxesSubplot at 0x200e88b52c8>"
      ]
     },
     "execution_count": 16,
     "metadata": {},
     "output_type": "execute_result"
    },
    {
     "data": {
      "image/png": "[encoded data removed]",
      "text/plain": [
       "<Figure size 432x288 with 1 Axes>"
      ]
     },
     "metadata": {
      "needs_background": "light"
     },
     "output_type": "display_data"
    }
   ],
   "source": [
    "sns.boxplot(data=red.previous_order_amount)"
   ]
  },
  {
   "cell_type": "code",
   "execution_count": 17,
   "metadata": {},
   "outputs": [],
   "source": [
    "red=red[red['previous_order_amount']<=8000]"
   ]
  },
  {
   "cell_type": "code",
   "execution_count": 18,
   "metadata": {},
   "outputs": [
    {
     "data": {
      "text/plain": [
       "<matplotlib.axes._subplots.AxesSubplot at 0x200ea8c2e48>"
      ]
     },
     "execution_count": 18,
     "metadata": {},
     "output_type": "execute_result"
    },
    {
     "data": {
      "image/png": "[encoded data removed]",
      "text/plain": [
       "<Figure size 432x288 with 1 Axes>"
      ]
     },
     "metadata": {
      "needs_background": "light"
     },
     "output_type": "display_data"
    }
   ],
   "source": [
    "sns.boxplot(data=red.previous_order_amount)"
   ]
  },
  {
   "cell_type": "code",
   "execution_count": 19,
   "metadata": {},
   "outputs": [
    {
     "data": {
      "text/html": [
       "<div>\n",
       "<style scoped>\n",
       "    .dataframe tbody tr th:only-of-type {\n",
       "        vertical-align: middle;\n",
       "    }\n",
       "\n",
       "    .dataframe tbody tr th {\n",
       "        vertical-align: top;\n",
       "    }\n",
       "\n",
       "    .dataframe thead th {\n",
       "        text-align: right;\n",
       "    }\n",
       "</style>\n",
       "<table border=\"1\" class=\"dataframe\">\n",
       "  <thead>\n",
       "    <tr style=\"text-align: right;\">\n",
       "      <th></th>\n",
       "      <th>revenue</th>\n",
       "      <th>gender</th>\n",
       "      <th>age</th>\n",
       "      <th>engaged_last_30</th>\n",
       "      <th>lifecycle</th>\n",
       "      <th>days_since_last_order</th>\n",
       "      <th>previous_order_amount</th>\n",
       "      <th>3rd_party_stores</th>\n",
       "    </tr>\n",
       "  </thead>\n",
       "  <tbody>\n",
       "    <tr>\n",
       "      <th>0</th>\n",
       "      <td>72.98</td>\n",
       "      <td>0</td>\n",
       "      <td>43.0</td>\n",
       "      <td>0</td>\n",
       "      <td>B</td>\n",
       "      <td>4.26</td>\n",
       "      <td>2343.870</td>\n",
       "      <td>0</td>\n",
       "    </tr>\n",
       "    <tr>\n",
       "      <th>2</th>\n",
       "      <td>69.98</td>\n",
       "      <td>0</td>\n",
       "      <td>16.0</td>\n",
       "      <td>0</td>\n",
       "      <td>C</td>\n",
       "      <td>4.29</td>\n",
       "      <td>1687.646</td>\n",
       "      <td>1</td>\n",
       "    </tr>\n",
       "    <tr>\n",
       "      <th>3</th>\n",
       "      <td>649.99</td>\n",
       "      <td>unknown</td>\n",
       "      <td>16.0</td>\n",
       "      <td>unknown</td>\n",
       "      <td>C</td>\n",
       "      <td>14.90</td>\n",
       "      <td>3498.846</td>\n",
       "      <td>0</td>\n",
       "    </tr>\n",
       "    <tr>\n",
       "      <th>4</th>\n",
       "      <td>83.59</td>\n",
       "      <td>unknown</td>\n",
       "      <td>16.0</td>\n",
       "      <td>unknown</td>\n",
       "      <td>C</td>\n",
       "      <td>21.13</td>\n",
       "      <td>3968.490</td>\n",
       "      <td>4</td>\n",
       "    </tr>\n",
       "    <tr>\n",
       "      <th>5</th>\n",
       "      <td>319.99</td>\n",
       "      <td>0</td>\n",
       "      <td>15.0</td>\n",
       "      <td>0</td>\n",
       "      <td>C</td>\n",
       "      <td>15.13</td>\n",
       "      <td>2811.491</td>\n",
       "      <td>10</td>\n",
       "    </tr>\n",
       "    <tr>\n",
       "      <th>...</th>\n",
       "      <td>...</td>\n",
       "      <td>...</td>\n",
       "      <td>...</td>\n",
       "      <td>...</td>\n",
       "      <td>...</td>\n",
       "      <td>...</td>\n",
       "      <td>...</td>\n",
       "      <td>...</td>\n",
       "    </tr>\n",
       "    <tr>\n",
       "      <th>29447</th>\n",
       "      <td>43.19</td>\n",
       "      <td>unknown</td>\n",
       "      <td>30.0</td>\n",
       "      <td>unknown</td>\n",
       "      <td>C</td>\n",
       "      <td>0.94</td>\n",
       "      <td>545.180</td>\n",
       "      <td>1</td>\n",
       "    </tr>\n",
       "    <tr>\n",
       "      <th>29448</th>\n",
       "      <td>62.97</td>\n",
       "      <td>0</td>\n",
       "      <td>24.0</td>\n",
       "      <td>0</td>\n",
       "      <td>C</td>\n",
       "      <td>3.45</td>\n",
       "      <td>3738.912</td>\n",
       "      <td>1</td>\n",
       "    </tr>\n",
       "    <tr>\n",
       "      <th>29449</th>\n",
       "      <td>87.26</td>\n",
       "      <td>unknown</td>\n",
       "      <td>24.0</td>\n",
       "      <td>unknown</td>\n",
       "      <td>C</td>\n",
       "      <td>10.42</td>\n",
       "      <td>1279.530</td>\n",
       "      <td>0</td>\n",
       "    </tr>\n",
       "    <tr>\n",
       "      <th>29450</th>\n",
       "      <td>19.99</td>\n",
       "      <td>0</td>\n",
       "      <td>27.0</td>\n",
       "      <td>0</td>\n",
       "      <td>C</td>\n",
       "      <td>16.87</td>\n",
       "      <td>669.580</td>\n",
       "      <td>3</td>\n",
       "    </tr>\n",
       "    <tr>\n",
       "      <th>29451</th>\n",
       "      <td>741.93</td>\n",
       "      <td>unknown</td>\n",
       "      <td>27.0</td>\n",
       "      <td>unknown</td>\n",
       "      <td>C</td>\n",
       "      <td>7.13</td>\n",
       "      <td>2102.950</td>\n",
       "      <td>0</td>\n",
       "    </tr>\n",
       "  </tbody>\n",
       "</table>\n",
       "<p>28240 rows × 8 columns</p>\n",
       "</div>"
      ],
      "text/plain": [
       "       revenue   gender   age engaged_last_30 lifecycle  \\\n",
       "0        72.98        0  43.0               0         B   \n",
       "2        69.98        0  16.0               0         C   \n",
       "3       649.99  unknown  16.0         unknown         C   \n",
       "4        83.59  unknown  16.0         unknown         C   \n",
       "5       319.99        0  15.0               0         C   \n",
       "...        ...      ...   ...             ...       ...   \n",
       "29447    43.19  unknown  30.0         unknown         C   \n",
       "29448    62.97        0  24.0               0         C   \n",
       "29449    87.26  unknown  24.0         unknown         C   \n",
       "29450    19.99        0  27.0               0         C   \n",
       "29451   741.93  unknown  27.0         unknown         C   \n",
       "\n",
       "        days_since_last_order   previous_order_amount  3rd_party_stores  \n",
       "0                         4.26               2343.870                 0  \n",
       "2                         4.29               1687.646                 1  \n",
       "3                        14.90               3498.846                 0  \n",
       "4                        21.13               3968.490                 4  \n",
       "5                        15.13               2811.491                10  \n",
       "...                        ...                    ...               ...  \n",
       "29447                     0.94                545.180                 1  \n",
       "29448                     3.45               3738.912                 1  \n",
       "29449                    10.42               1279.530                 0  \n",
       "29450                    16.87                669.580                 3  \n",
       "29451                     7.13               2102.950                 0  \n",
       "\n",
       "[28240 rows x 8 columns]"
      ]
     },
     "execution_count": 19,
     "metadata": {},
     "output_type": "execute_result"
    }
   ],
   "source": [
    "red"
   ]
  },
  {
   "cell_type": "code",
   "execution_count": 20,
   "metadata": {},
   "outputs": [
    {
     "data": {
      "text/html": [
       "<div>\n",
       "<style scoped>\n",
       "    .dataframe tbody tr th:only-of-type {\n",
       "        vertical-align: middle;\n",
       "    }\n",
       "\n",
       "    .dataframe tbody tr th {\n",
       "        vertical-align: top;\n",
       "    }\n",
       "\n",
       "    .dataframe thead th {\n",
       "        text-align: right;\n",
       "    }\n",
       "</style>\n",
       "<table border=\"1\" class=\"dataframe\">\n",
       "  <thead>\n",
       "    <tr style=\"text-align: right;\">\n",
       "      <th></th>\n",
       "      <th>revenue</th>\n",
       "      <th>age</th>\n",
       "      <th>days_since_last_order</th>\n",
       "      <th>previous_order_amount</th>\n",
       "      <th>3rd_party_stores</th>\n",
       "    </tr>\n",
       "  </thead>\n",
       "  <tbody>\n",
       "    <tr>\n",
       "      <th>count</th>\n",
       "      <td>28240.000000</td>\n",
       "      <td>28240.000000</td>\n",
       "      <td>28240.000000</td>\n",
       "      <td>28240.000000</td>\n",
       "      <td>28240.000000</td>\n",
       "    </tr>\n",
       "    <tr>\n",
       "      <th>mean</th>\n",
       "      <td>365.252994</td>\n",
       "      <td>29.489483</td>\n",
       "      <td>7.802334</td>\n",
       "      <td>1994.512768</td>\n",
       "      <td>2.356586</td>\n",
       "    </tr>\n",
       "    <tr>\n",
       "      <th>std</th>\n",
       "      <td>496.808713</td>\n",
       "      <td>9.243010</td>\n",
       "      <td>6.502828</td>\n",
       "      <td>1689.397241</td>\n",
       "      <td>3.575471</td>\n",
       "    </tr>\n",
       "    <tr>\n",
       "      <th>min</th>\n",
       "      <td>0.020000</td>\n",
       "      <td>14.000000</td>\n",
       "      <td>0.130000</td>\n",
       "      <td>0.000000</td>\n",
       "      <td>0.000000</td>\n",
       "    </tr>\n",
       "    <tr>\n",
       "      <th>25%</th>\n",
       "      <td>71.980000</td>\n",
       "      <td>21.000000</td>\n",
       "      <td>2.260000</td>\n",
       "      <td>742.882500</td>\n",
       "      <td>0.000000</td>\n",
       "    </tr>\n",
       "    <tr>\n",
       "      <th>50%</th>\n",
       "      <td>167.185000</td>\n",
       "      <td>30.000000</td>\n",
       "      <td>6.130000</td>\n",
       "      <td>1567.015000</td>\n",
       "      <td>0.000000</td>\n",
       "    </tr>\n",
       "    <tr>\n",
       "      <th>75%</th>\n",
       "      <td>479.210000</td>\n",
       "      <td>38.000000</td>\n",
       "      <td>11.870000</td>\n",
       "      <td>2850.686750</td>\n",
       "      <td>3.000000</td>\n",
       "    </tr>\n",
       "    <tr>\n",
       "      <th>max</th>\n",
       "      <td>7867.380000</td>\n",
       "      <td>45.000000</td>\n",
       "      <td>23.710000</td>\n",
       "      <td>7995.812000</td>\n",
       "      <td>10.000000</td>\n",
       "    </tr>\n",
       "  </tbody>\n",
       "</table>\n",
       "</div>"
      ],
      "text/plain": [
       "            revenue           age   days_since_last_order   \\\n",
       "count  28240.000000  28240.000000             28240.000000   \n",
       "mean     365.252994     29.489483                 7.802334   \n",
       "std      496.808713      9.243010                 6.502828   \n",
       "min        0.020000     14.000000                 0.130000   \n",
       "25%       71.980000     21.000000                 2.260000   \n",
       "50%      167.185000     30.000000                 6.130000   \n",
       "75%      479.210000     38.000000                11.870000   \n",
       "max     7867.380000     45.000000                23.710000   \n",
       "\n",
       "       previous_order_amount  3rd_party_stores  \n",
       "count           28240.000000      28240.000000  \n",
       "mean             1994.512768          2.356586  \n",
       "std              1689.397241          3.575471  \n",
       "min                 0.000000          0.000000  \n",
       "25%               742.882500          0.000000  \n",
       "50%              1567.015000          0.000000  \n",
       "75%              2850.686750          3.000000  \n",
       "max              7995.812000         10.000000  "
      ]
     },
     "execution_count": 20,
     "metadata": {},
     "output_type": "execute_result"
    }
   ],
   "source": [
    "red.describe()"
   ]
  },
  {
   "cell_type": "code",
   "execution_count": 21,
   "metadata": {},
   "outputs": [
    {
     "data": {
      "text/plain": [
       "44.0    961\n",
       "30.0    930\n",
       "16.0    923\n",
       "15.0    922\n",
       "38.0    920\n",
       "42.0    919\n",
       "37.0    915\n",
       "19.0    911\n",
       "31.0    908\n",
       "23.0    900\n",
       "21.0    900\n",
       "20.0    900\n",
       "25.0    899\n",
       "34.0    894\n",
       "24.0    889\n",
       "43.0    887\n",
       "17.0    884\n",
       "26.0    880\n",
       "22.0    877\n",
       "29.0    872\n",
       "36.0    863\n",
       "28.0    859\n",
       "33.0    858\n",
       "35.0    854\n",
       "18.0    849\n",
       "41.0    848\n",
       "40.0    844\n",
       "32.0    844\n",
       "45.0    842\n",
       "39.0    840\n",
       "27.0    833\n",
       "14.0    815\n",
       "Name: age, dtype: int64"
      ]
     },
     "execution_count": 21,
     "metadata": {},
     "output_type": "execute_result"
    }
   ],
   "source": [
    "red.age.value_counts()"
   ]
  },
  {
   "cell_type": "code",
   "execution_count": 22,
   "metadata": {},
   "outputs": [
    {
     "data": {
      "text/html": [
       "<div>\n",
       "<style scoped>\n",
       "    .dataframe tbody tr th:only-of-type {\n",
       "        vertical-align: middle;\n",
       "    }\n",
       "\n",
       "    .dataframe tbody tr th {\n",
       "        vertical-align: top;\n",
       "    }\n",
       "\n",
       "    .dataframe thead th {\n",
       "        text-align: right;\n",
       "    }\n",
       "</style>\n",
       "<table border=\"1\" class=\"dataframe\">\n",
       "  <thead>\n",
       "    <tr style=\"text-align: right;\">\n",
       "      <th></th>\n",
       "      <th>revenue</th>\n",
       "      <th>gender</th>\n",
       "      <th>age</th>\n",
       "      <th>engaged_last_30</th>\n",
       "      <th>lifecycle</th>\n",
       "      <th>days_since_last_order</th>\n",
       "      <th>previous_order_amount</th>\n",
       "      <th>3rd_party_stores</th>\n",
       "    </tr>\n",
       "  </thead>\n",
       "  <tbody>\n",
       "    <tr>\n",
       "      <th>0</th>\n",
       "      <td>72.98</td>\n",
       "      <td>0</td>\n",
       "      <td>43.0</td>\n",
       "      <td>0</td>\n",
       "      <td>B</td>\n",
       "      <td>4.26</td>\n",
       "      <td>2343.870</td>\n",
       "      <td>0</td>\n",
       "    </tr>\n",
       "    <tr>\n",
       "      <th>2</th>\n",
       "      <td>69.98</td>\n",
       "      <td>0</td>\n",
       "      <td>16.0</td>\n",
       "      <td>0</td>\n",
       "      <td>C</td>\n",
       "      <td>4.29</td>\n",
       "      <td>1687.646</td>\n",
       "      <td>1</td>\n",
       "    </tr>\n",
       "    <tr>\n",
       "      <th>3</th>\n",
       "      <td>649.99</td>\n",
       "      <td>unknown</td>\n",
       "      <td>16.0</td>\n",
       "      <td>unknown</td>\n",
       "      <td>C</td>\n",
       "      <td>14.90</td>\n",
       "      <td>3498.846</td>\n",
       "      <td>0</td>\n",
       "    </tr>\n",
       "    <tr>\n",
       "      <th>4</th>\n",
       "      <td>83.59</td>\n",
       "      <td>unknown</td>\n",
       "      <td>16.0</td>\n",
       "      <td>unknown</td>\n",
       "      <td>C</td>\n",
       "      <td>21.13</td>\n",
       "      <td>3968.490</td>\n",
       "      <td>4</td>\n",
       "    </tr>\n",
       "    <tr>\n",
       "      <th>5</th>\n",
       "      <td>319.99</td>\n",
       "      <td>0</td>\n",
       "      <td>15.0</td>\n",
       "      <td>0</td>\n",
       "      <td>C</td>\n",
       "      <td>15.13</td>\n",
       "      <td>2811.491</td>\n",
       "      <td>10</td>\n",
       "    </tr>\n",
       "  </tbody>\n",
       "</table>\n",
       "</div>"
      ],
      "text/plain": [
       "   revenue   gender   age engaged_last_30 lifecycle   days_since_last_order   \\\n",
       "0    72.98        0  43.0               0         B                     4.26   \n",
       "2    69.98        0  16.0               0         C                     4.29   \n",
       "3   649.99  unknown  16.0         unknown         C                    14.90   \n",
       "4    83.59  unknown  16.0         unknown         C                    21.13   \n",
       "5   319.99        0  15.0               0         C                    15.13   \n",
       "\n",
       "   previous_order_amount  3rd_party_stores  \n",
       "0               2343.870                 0  \n",
       "2               1687.646                 1  \n",
       "3               3498.846                 0  \n",
       "4               3968.490                 4  \n",
       "5               2811.491                10  "
      ]
     },
     "execution_count": 22,
     "metadata": {},
     "output_type": "execute_result"
    }
   ],
   "source": [
    "red.head()"
   ]
  },
  {
   "cell_type": "code",
   "execution_count": 23,
   "metadata": {},
   "outputs": [],
   "source": [
    "red=pd.get_dummies(red)"
   ]
  },
  {
   "cell_type": "code",
   "execution_count": 24,
   "metadata": {},
   "outputs": [
    {
     "data": {
      "text/html": [
       "<div>\n",
       "<style scoped>\n",
       "    .dataframe tbody tr th:only-of-type {\n",
       "        vertical-align: middle;\n",
       "    }\n",
       "\n",
       "    .dataframe tbody tr th {\n",
       "        vertical-align: top;\n",
       "    }\n",
       "\n",
       "    .dataframe thead th {\n",
       "        text-align: right;\n",
       "    }\n",
       "</style>\n",
       "<table border=\"1\" class=\"dataframe\">\n",
       "  <thead>\n",
       "    <tr style=\"text-align: right;\">\n",
       "      <th></th>\n",
       "      <th>revenue</th>\n",
       "      <th>age</th>\n",
       "      <th>days_since_last_order</th>\n",
       "      <th>previous_order_amount</th>\n",
       "      <th>3rd_party_stores</th>\n",
       "      <th>gender_0.0</th>\n",
       "      <th>gender_1.0</th>\n",
       "      <th>gender_unknown</th>\n",
       "      <th>engaged_last_30_0.0</th>\n",
       "      <th>engaged_last_30_1.0</th>\n",
       "      <th>engaged_last_30_unknown</th>\n",
       "      <th>lifecycle_A</th>\n",
       "      <th>lifecycle_B</th>\n",
       "      <th>lifecycle_C</th>\n",
       "    </tr>\n",
       "  </thead>\n",
       "  <tbody>\n",
       "    <tr>\n",
       "      <th>0</th>\n",
       "      <td>72.98</td>\n",
       "      <td>43.0</td>\n",
       "      <td>4.26</td>\n",
       "      <td>2343.870</td>\n",
       "      <td>0</td>\n",
       "      <td>1</td>\n",
       "      <td>0</td>\n",
       "      <td>0</td>\n",
       "      <td>1</td>\n",
       "      <td>0</td>\n",
       "      <td>0</td>\n",
       "      <td>0</td>\n",
       "      <td>1</td>\n",
       "      <td>0</td>\n",
       "    </tr>\n",
       "    <tr>\n",
       "      <th>2</th>\n",
       "      <td>69.98</td>\n",
       "      <td>16.0</td>\n",
       "      <td>4.29</td>\n",
       "      <td>1687.646</td>\n",
       "      <td>1</td>\n",
       "      <td>1</td>\n",
       "      <td>0</td>\n",
       "      <td>0</td>\n",
       "      <td>1</td>\n",
       "      <td>0</td>\n",
       "      <td>0</td>\n",
       "      <td>0</td>\n",
       "      <td>0</td>\n",
       "      <td>1</td>\n",
       "    </tr>\n",
       "    <tr>\n",
       "      <th>3</th>\n",
       "      <td>649.99</td>\n",
       "      <td>16.0</td>\n",
       "      <td>14.90</td>\n",
       "      <td>3498.846</td>\n",
       "      <td>0</td>\n",
       "      <td>0</td>\n",
       "      <td>0</td>\n",
       "      <td>1</td>\n",
       "      <td>0</td>\n",
       "      <td>0</td>\n",
       "      <td>1</td>\n",
       "      <td>0</td>\n",
       "      <td>0</td>\n",
       "      <td>1</td>\n",
       "    </tr>\n",
       "    <tr>\n",
       "      <th>4</th>\n",
       "      <td>83.59</td>\n",
       "      <td>16.0</td>\n",
       "      <td>21.13</td>\n",
       "      <td>3968.490</td>\n",
       "      <td>4</td>\n",
       "      <td>0</td>\n",
       "      <td>0</td>\n",
       "      <td>1</td>\n",
       "      <td>0</td>\n",
       "      <td>0</td>\n",
       "      <td>1</td>\n",
       "      <td>0</td>\n",
       "      <td>0</td>\n",
       "      <td>1</td>\n",
       "    </tr>\n",
       "    <tr>\n",
       "      <th>5</th>\n",
       "      <td>319.99</td>\n",
       "      <td>15.0</td>\n",
       "      <td>15.13</td>\n",
       "      <td>2811.491</td>\n",
       "      <td>10</td>\n",
       "      <td>1</td>\n",
       "      <td>0</td>\n",
       "      <td>0</td>\n",
       "      <td>1</td>\n",
       "      <td>0</td>\n",
       "      <td>0</td>\n",
       "      <td>0</td>\n",
       "      <td>0</td>\n",
       "      <td>1</td>\n",
       "    </tr>\n",
       "    <tr>\n",
       "      <th>...</th>\n",
       "      <td>...</td>\n",
       "      <td>...</td>\n",
       "      <td>...</td>\n",
       "      <td>...</td>\n",
       "      <td>...</td>\n",
       "      <td>...</td>\n",
       "      <td>...</td>\n",
       "      <td>...</td>\n",
       "      <td>...</td>\n",
       "      <td>...</td>\n",
       "      <td>...</td>\n",
       "      <td>...</td>\n",
       "      <td>...</td>\n",
       "      <td>...</td>\n",
       "    </tr>\n",
       "    <tr>\n",
       "      <th>29447</th>\n",
       "      <td>43.19</td>\n",
       "      <td>30.0</td>\n",
       "      <td>0.94</td>\n",
       "      <td>545.180</td>\n",
       "      <td>1</td>\n",
       "      <td>0</td>\n",
       "      <td>0</td>\n",
       "      <td>1</td>\n",
       "      <td>0</td>\n",
       "      <td>0</td>\n",
       "      <td>1</td>\n",
       "      <td>0</td>\n",
       "      <td>0</td>\n",
       "      <td>1</td>\n",
       "    </tr>\n",
       "    <tr>\n",
       "      <th>29448</th>\n",
       "      <td>62.97</td>\n",
       "      <td>24.0</td>\n",
       "      <td>3.45</td>\n",
       "      <td>3738.912</td>\n",
       "      <td>1</td>\n",
       "      <td>1</td>\n",
       "      <td>0</td>\n",
       "      <td>0</td>\n",
       "      <td>1</td>\n",
       "      <td>0</td>\n",
       "      <td>0</td>\n",
       "      <td>0</td>\n",
       "      <td>0</td>\n",
       "      <td>1</td>\n",
       "    </tr>\n",
       "    <tr>\n",
       "      <th>29449</th>\n",
       "      <td>87.26</td>\n",
       "      <td>24.0</td>\n",
       "      <td>10.42</td>\n",
       "      <td>1279.530</td>\n",
       "      <td>0</td>\n",
       "      <td>0</td>\n",
       "      <td>0</td>\n",
       "      <td>1</td>\n",
       "      <td>0</td>\n",
       "      <td>0</td>\n",
       "      <td>1</td>\n",
       "      <td>0</td>\n",
       "      <td>0</td>\n",
       "      <td>1</td>\n",
       "    </tr>\n",
       "    <tr>\n",
       "      <th>29450</th>\n",
       "      <td>19.99</td>\n",
       "      <td>27.0</td>\n",
       "      <td>16.87</td>\n",
       "      <td>669.580</td>\n",
       "      <td>3</td>\n",
       "      <td>1</td>\n",
       "      <td>0</td>\n",
       "      <td>0</td>\n",
       "      <td>1</td>\n",
       "      <td>0</td>\n",
       "      <td>0</td>\n",
       "      <td>0</td>\n",
       "      <td>0</td>\n",
       "      <td>1</td>\n",
       "    </tr>\n",
       "    <tr>\n",
       "      <th>29451</th>\n",
       "      <td>741.93</td>\n",
       "      <td>27.0</td>\n",
       "      <td>7.13</td>\n",
       "      <td>2102.950</td>\n",
       "      <td>0</td>\n",
       "      <td>0</td>\n",
       "      <td>0</td>\n",
       "      <td>1</td>\n",
       "      <td>0</td>\n",
       "      <td>0</td>\n",
       "      <td>1</td>\n",
       "      <td>0</td>\n",
       "      <td>0</td>\n",
       "      <td>1</td>\n",
       "    </tr>\n",
       "  </tbody>\n",
       "</table>\n",
       "<p>28240 rows × 14 columns</p>\n",
       "</div>"
      ],
      "text/plain": [
       "       revenue   age   days_since_last_order   previous_order_amount  \\\n",
       "0        72.98  43.0                     4.26               2343.870   \n",
       "2        69.98  16.0                     4.29               1687.646   \n",
       "3       649.99  16.0                    14.90               3498.846   \n",
       "4        83.59  16.0                    21.13               3968.490   \n",
       "5       319.99  15.0                    15.13               2811.491   \n",
       "...        ...   ...                      ...                    ...   \n",
       "29447    43.19  30.0                     0.94                545.180   \n",
       "29448    62.97  24.0                     3.45               3738.912   \n",
       "29449    87.26  24.0                    10.42               1279.530   \n",
       "29450    19.99  27.0                    16.87                669.580   \n",
       "29451   741.93  27.0                     7.13               2102.950   \n",
       "\n",
       "       3rd_party_stores  gender_0.0  gender_1.0  gender_unknown  \\\n",
       "0                     0           1           0               0   \n",
       "2                     1           1           0               0   \n",
       "3                     0           0           0               1   \n",
       "4                     4           0           0               1   \n",
       "5                    10           1           0               0   \n",
       "...                 ...         ...         ...             ...   \n",
       "29447                 1           0           0               1   \n",
       "29448                 1           1           0               0   \n",
       "29449                 0           0           0               1   \n",
       "29450                 3           1           0               0   \n",
       "29451                 0           0           0               1   \n",
       "\n",
       "       engaged_last_30_0.0  engaged_last_30_1.0  engaged_last_30_unknown  \\\n",
       "0                        1                    0                        0   \n",
       "2                        1                    0                        0   \n",
       "3                        0                    0                        1   \n",
       "4                        0                    0                        1   \n",
       "5                        1                    0                        0   \n",
       "...                    ...                  ...                      ...   \n",
       "29447                    0                    0                        1   \n",
       "29448                    1                    0                        0   \n",
       "29449                    0                    0                        1   \n",
       "29450                    1                    0                        0   \n",
       "29451                    0                    0                        1   \n",
       "\n",
       "       lifecycle_A  lifecycle_B  lifecycle_C  \n",
       "0                0            1            0  \n",
       "2                0            0            1  \n",
       "3                0            0            1  \n",
       "4                0            0            1  \n",
       "5                0            0            1  \n",
       "...            ...          ...          ...  \n",
       "29447            0            0            1  \n",
       "29448            0            0            1  \n",
       "29449            0            0            1  \n",
       "29450            0            0            1  \n",
       "29451            0            0            1  \n",
       "\n",
       "[28240 rows x 14 columns]"
      ]
     },
     "execution_count": 24,
     "metadata": {},
     "output_type": "execute_result"
    }
   ],
   "source": [
    "red"
   ]
  },
  {
   "cell_type": "code",
   "execution_count": 25,
   "metadata": {},
   "outputs": [
    {
     "data": {
      "text/html": [
       "<div>\n",
       "<style scoped>\n",
       "    .dataframe tbody tr th:only-of-type {\n",
       "        vertical-align: middle;\n",
       "    }\n",
       "\n",
       "    .dataframe tbody tr th {\n",
       "        vertical-align: top;\n",
       "    }\n",
       "\n",
       "    .dataframe thead th {\n",
       "        text-align: right;\n",
       "    }\n",
       "</style>\n",
       "<table border=\"1\" class=\"dataframe\">\n",
       "  <thead>\n",
       "    <tr style=\"text-align: right;\">\n",
       "      <th></th>\n",
       "      <th>revenue</th>\n",
       "    </tr>\n",
       "  </thead>\n",
       "  <tbody>\n",
       "    <tr>\n",
       "      <th>revenue</th>\n",
       "      <td>1.000000</td>\n",
       "    </tr>\n",
       "    <tr>\n",
       "      <th>previous_order_amount</th>\n",
       "      <td>0.148337</td>\n",
       "    </tr>\n",
       "    <tr>\n",
       "      <th>days_since_last_order</th>\n",
       "      <td>0.101173</td>\n",
       "    </tr>\n",
       "    <tr>\n",
       "      <th>engaged_last_30_1.0</th>\n",
       "      <td>0.036405</td>\n",
       "    </tr>\n",
       "    <tr>\n",
       "      <th>gender_unknown</th>\n",
       "      <td>0.027086</td>\n",
       "    </tr>\n",
       "    <tr>\n",
       "      <th>engaged_last_30_unknown</th>\n",
       "      <td>0.027086</td>\n",
       "    </tr>\n",
       "    <tr>\n",
       "      <th>lifecycle_C</th>\n",
       "      <td>0.025427</td>\n",
       "    </tr>\n",
       "    <tr>\n",
       "      <th>age</th>\n",
       "      <td>0.005050</td>\n",
       "    </tr>\n",
       "    <tr>\n",
       "      <th>gender_1.0</th>\n",
       "      <td>-0.002405</td>\n",
       "    </tr>\n",
       "    <tr>\n",
       "      <th>lifecycle_A</th>\n",
       "      <td>-0.015137</td>\n",
       "    </tr>\n",
       "    <tr>\n",
       "      <th>lifecycle_B</th>\n",
       "      <td>-0.017523</td>\n",
       "    </tr>\n",
       "    <tr>\n",
       "      <th>gender_0.0</th>\n",
       "      <td>-0.025059</td>\n",
       "    </tr>\n",
       "    <tr>\n",
       "      <th>engaged_last_30_0.0</th>\n",
       "      <td>-0.040724</td>\n",
       "    </tr>\n",
       "    <tr>\n",
       "      <th>3rd_party_stores</th>\n",
       "      <td>-0.051179</td>\n",
       "    </tr>\n",
       "  </tbody>\n",
       "</table>\n",
       "</div>"
      ],
      "text/plain": [
       "                          revenue\n",
       "revenue                  1.000000\n",
       "previous_order_amount    0.148337\n",
       " days_since_last_order   0.101173\n",
       "engaged_last_30_1.0      0.036405\n",
       "gender_unknown           0.027086\n",
       "engaged_last_30_unknown  0.027086\n",
       "lifecycle_C              0.025427\n",
       "age                      0.005050\n",
       "gender_1.0              -0.002405\n",
       "lifecycle_A             -0.015137\n",
       "lifecycle_B             -0.017523\n",
       "gender_0.0              -0.025059\n",
       "engaged_last_30_0.0     -0.040724\n",
       "3rd_party_stores        -0.051179"
      ]
     },
     "execution_count": 25,
     "metadata": {},
     "output_type": "execute_result"
    }
   ],
   "source": [
    "red.corr()[['revenue']].sort_values('revenue',ascending=False)"
   ]
  },
  {
   "cell_type": "code",
   "execution_count": 26,
   "metadata": {},
   "outputs": [
    {
     "data": {
      "text/plain": [
       "LinearRegression(copy_X=True, fit_intercept=True, n_jobs=None, normalize=False)"
      ]
     },
     "execution_count": 26,
     "metadata": {},
     "output_type": "execute_result"
    }
   ],
   "source": [
    "model=LinearRegression()\n",
    "y=red['revenue']\n",
    "x=red[['previous_order_amount',' days_since_last_order ','engaged_last_30_1.0','engaged_last_30_0.0','3rd_party_stores']]\n",
    "model.fit(x,y)"
   ]
  },
  {
   "cell_type": "code",
   "execution_count": 27,
   "metadata": {},
   "outputs": [
    {
     "data": {
      "text/plain": [
       "array([ 4.17157326e-02,  9.89578457e+00,  4.73714126e+01, -4.11812416e+01,\n",
       "       -9.78067531e+00])"
      ]
     },
     "execution_count": 27,
     "metadata": {},
     "output_type": "execute_result"
    }
   ],
   "source": [
    "model.coef_"
   ]
  },
  {
   "cell_type": "code",
   "execution_count": 28,
   "metadata": {},
   "outputs": [
    {
     "data": {
      "text/plain": [
       "249.11573560760638"
      ]
     },
     "execution_count": 28,
     "metadata": {},
     "output_type": "execute_result"
    }
   ],
   "source": [
    "model.intercept_"
   ]
  },
  {
   "cell_type": "code",
   "execution_count": 29,
   "metadata": {},
   "outputs": [
    {
     "name": "stdout",
     "output_type": "stream",
     "text": [
      "                            OLS Regression Results                            \n",
      "==============================================================================\n",
      "Dep. Variable:                      y   R-squared:                       0.040\n",
      "Model:                            OLS   Adj. R-squared:                  0.040\n",
      "Method:                 Least Squares   F-statistic:                     235.8\n",
      "Date:                Sat, 12 Dec 2020   Prob (F-statistic):          1.50e-247\n",
      "Time:                        11:51:11   Log-Likelihood:            -2.1481e+05\n",
      "No. Observations:               28240   AIC:                         4.296e+05\n",
      "Df Residuals:                   28234   BIC:                         4.297e+05\n",
      "Df Model:                           5                                         \n",
      "Covariance Type:            nonrobust                                         \n",
      "==============================================================================\n",
      "                 coef    std err          t      P>|t|      [0.025      0.975]\n",
      "------------------------------------------------------------------------------\n",
      "Intercept    249.1157      7.010     35.538      0.000     235.376     262.856\n",
      "x[0]           0.0417      0.002     23.704      0.000       0.038       0.045\n",
      "x[1]           9.8958      0.477     20.753      0.000       8.961      10.830\n",
      "x[2]          47.3714     15.660      3.025      0.002      16.677      78.066\n",
      "x[3]         -41.1812      6.039     -6.819      0.000     -53.018     -29.345\n",
      "x[4]          -9.7807      0.886    -11.045      0.000     -11.516      -8.045\n",
      "==============================================================================\n",
      "Omnibus:                    22673.391   Durbin-Watson:                   1.986\n",
      "Prob(Omnibus):                  0.000   Jarque-Bera (JB):           784325.618\n",
      "Skew:                           3.640   Prob(JB):                         0.00\n",
      "Kurtosis:                      27.770   Cond. No.                     1.43e+04\n",
      "==============================================================================\n",
      "\n",
      "Warnings:\n",
      "[1] Standard Errors assume that the covariance matrix of the errors is correctly specified.\n",
      "[2] The condition number is large, 1.43e+04. This might indicate that there are\n",
      "strong multicollinearity or other numerical problems.\n"
     ]
    }
   ],
   "source": [
    "from statsmodels.formula.api import ols\n",
    "model_ols=ols('y~x',red).fit()\n",
    "print(model_ols.summary())"
   ]
  },
  {
   "cell_type": "markdown",
   "metadata": {},
   "source": [
    "# ffill+outliers"
   ]
  },
  {
   "cell_type": "code",
   "execution_count": 30,
   "metadata": {},
   "outputs": [
    {
     "name": "stdout",
     "output_type": "stream",
     "text": [
      "RMSE: 486.7405268966104\n",
      "MAE: 316.49311821154214\n"
     ]
    }
   ],
   "source": [
    "score=model.score(x,y)\n",
    "predictions=model.predict(x)\n",
    "error=predictions-y\n",
    "rmse=(error**2).mean()**.5\n",
    "mae=abs(error).mean()\n",
    "print('RMSE:',rmse)\n",
    "print('MAE:',mae)"
   ]
  },
  {
   "cell_type": "markdown",
   "metadata": {},
   "source": [
    "# bfill+outliers"
   ]
  },
  {
   "cell_type": "code",
   "execution_count": 31,
   "metadata": {},
   "outputs": [
    {
     "name": "stdout",
     "output_type": "stream",
     "text": [
      "RMSE: 486.7405268966104\n",
      "MAE: 316.49311821154214\n"
     ]
    }
   ],
   "source": [
    "red=pd.read_csv('小红书数据.csv')\n",
    "red['gender']=red['gender'].fillna('unknown')\n",
    "red['engaged_last_30']=red['engaged_last_30'].fillna('unknown')\n",
    "red['age']=red['age'].fillna(method='bfill')\n",
    "\n",
    "red=red[red['previous_order_amount']<=8000]\n",
    "red=red[red['revenue']<=8000]\n",
    "\n",
    "red=pd.get_dummies(red)\n",
    "model=LinearRegression()\n",
    "y=red['revenue']\n",
    "x=red[['previous_order_amount',' days_since_last_order ','engaged_last_30_1.0','engaged_last_30_0.0','3rd_party_stores']]\n",
    "model.fit(x,y)\n",
    "score=model.score(x,y)\n",
    "predictions=model.predict(x)\n",
    "error=predictions-y\n",
    "rmse=(error**2).mean()**.5\n",
    "mae=abs(error).mean()\n",
    "print('RMSE:',rmse)\n",
    "print('MAE:',mae)"
   ]
  },
  {
   "cell_type": "markdown",
   "metadata": {},
   "source": [
    "# ffill"
   ]
  },
  {
   "cell_type": "code",
   "execution_count": 32,
   "metadata": {},
   "outputs": [
    {
     "name": "stdout",
     "output_type": "stream",
     "text": [
      "RMSE: 944.0884777739951\n",
      "MAE: 351.3718069866532\n"
     ]
    }
   ],
   "source": [
    "red=pd.read_csv('小红书数据.csv')\n",
    "red['gender']=red['gender'].fillna('unknown')\n",
    "red['engaged_last_30']=red['engaged_last_30'].fillna('unknown')\n",
    "red['age']=red['age'].fillna(method='ffill')\n",
    "\n",
    "\n",
    "\n",
    "red=pd.get_dummies(red)\n",
    "model=LinearRegression()\n",
    "y=red['revenue']\n",
    "x=red[['previous_order_amount',' days_since_last_order ','engaged_last_30_1.0','engaged_last_30_0.0','3rd_party_stores']]\n",
    "model.fit(x,y)\n",
    "score=model.score(x,y)\n",
    "predictions=model.predict(x)\n",
    "error=predictions-y\n",
    "rmse=(error**2).mean()**.5\n",
    "mae=abs(error).mean()\n",
    "print('RMSE:',rmse)\n",
    "print('MAE:',mae)"
   ]
  },
  {
   "cell_type": "markdown",
   "metadata": {},
   "source": [
    "# plot"
   ]
  },
  {
   "cell_type": "code",
   "execution_count": 33,
   "metadata": {},
   "outputs": [],
   "source": [
    "red=pd.read_csv('小红书数据.csv')\n",
    "red['gender']=red['gender'].fillna(2)\n",
    "red['engaged_last_30']=red['engaged_last_30'].fillna(2)\n",
    "red['age']=red['age'].fillna(method='ffill')\n",
    "red=red[red['previous_order_amount']<=8000]\n",
    "red=red[red['revenue']<=8000]"
   ]
  },
  {
   "cell_type": "code",
   "execution_count": 34,
   "metadata": {},
   "outputs": [
    {
     "data": {
      "text/plain": [
       "<matplotlib.axes._subplots.AxesSubplot at 0x200ebc7c1c8>"
      ]
     },
     "execution_count": 34,
     "metadata": {},
     "output_type": "execute_result"
    },
    {
     "data": {
      "image/png": "[encoded data removed]",
      "text/plain": [
       "<Figure size 432x288 with 1 Axes>"
      ]
     },
     "metadata": {
      "needs_background": "light"
     },
     "output_type": "display_data"
    }
   ],
   "source": [
    "sns.regplot('previous_order_amount','revenue',red,line_kws={'color':'r'})"
   ]
  },
  {
   "cell_type": "code",
   "execution_count": 35,
   "metadata": {},
   "outputs": [
    {
     "data": {
      "text/plain": [
       "<matplotlib.axes._subplots.AxesSubplot at 0x200ebde6ac8>"
      ]
     },
     "execution_count": 35,
     "metadata": {},
     "output_type": "execute_result"
    },
    {
     "data": {
      "image/png": "[encoded data removed]",
      "text/plain": [
       "<Figure size 432x288 with 1 Axes>"
      ]
     },
     "metadata": {
      "needs_background": "light"
     },
     "output_type": "display_data"
    }
   ],
   "source": [
    "sns.regplot(' days_since_last_order ','revenue',red,line_kws={'color':'r'})"
   ]
  },
  {
   "cell_type": "code",
   "execution_count": 36,
   "metadata": {},
   "outputs": [
    {
     "data": {
      "text/plain": [
       "<matplotlib.axes._subplots.AxesSubplot at 0x200ebe10348>"
      ]
     },
     "execution_count": 36,
     "metadata": {},
     "output_type": "execute_result"
    },
    {
     "data": {
      "image/png": "[encoded data removed]",
      "text/plain": [
       "<Figure size 432x288 with 1 Axes>"
      ]
     },
     "metadata": {
      "needs_background": "light"
     },
     "output_type": "display_data"
    }
   ],
   "source": [
    "sns.regplot('3rd_party_stores','revenue',red,line_kws={'color':'r'})"
   ]
  },
  {
   "cell_type": "code",
   "execution_count": null,
   "metadata": {},
   "outputs": [],
   "source": []
  }
 ],
 "metadata": {
  "kernelspec": {
   "display_name": "Python 3",
   "language": "python",
   "name": "python3"
  },
  "language_info": {
   "codemirror_mode": {
    "name": "ipython",
    "version": 3
   },
   "file_extension": ".py",
   "mimetype": "text/x-python",
   "name": "python",
   "nbconvert_exporter": "python",
   "pygments_lexer": "ipython3",
   "version": "3.7.6"
  }
 },
 "nbformat": 4,
 "nbformat_minor": 4
}
